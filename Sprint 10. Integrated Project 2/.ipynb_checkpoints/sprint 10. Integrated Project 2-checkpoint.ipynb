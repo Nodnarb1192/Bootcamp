{
 "cells": [
  {
   "cell_type": "markdown",
   "metadata": {},
   "source": [
    "# Project Description"
   ]
  },
  {
   "cell_type": "markdown",
   "metadata": {},
   "source": [
    "Create a machine learning model prototype for Zyfra. The firm creates efficiency solutions for heavy industry. The model should be able to predict how much gold can be recovered from gold ore.  The model will aid in the optimization of production and the elimination of unprofitable parameters."
   ]
  },
  {
   "cell_type": "markdown",
   "metadata": {},
   "source": [
    "## Load libraries"
   ]
  },
  {
   "cell_type": "code",
   "execution_count": 1,
   "metadata": {},
   "outputs": [],
   "source": [
    "#import of libraries:\n",
    "import pandas as pd\n",
    "import numpy as np\n",
    "import matplotlib.pyplot as plt\n",
    "import seaborn as sns\n",
    "from sklearn.metrics import fbeta_score, make_scorer\n",
    "from sklearn.dummy import DummyRegressor\n",
    "from sklearn.ensemble import RandomForestRegressor\n",
    "from sklearn.linear_model import LinearRegression\n",
    "from sklearn.metrics import mean_absolute_error\n",
    "from sklearn.model_selection import cross_val_score, KFold, StratifiedKFold\n",
    "from sklearn.preprocessing import StandardScaler\n",
    "from sklearn.tree import DecisionTreeRegressor\n",
    "import warnings\n",
    "warnings.filterwarnings(\"ignore\")"
   ]
  },
  {
   "cell_type": "markdown",
   "metadata": {},
   "source": [
    "## Prepare the data."
   ]
  },
  {
   "cell_type": "markdown",
   "metadata": {},
   "source": [
    "### Open the files and look into the data."
   ]
  },
  {
   "cell_type": "code",
   "execution_count": 2,
   "metadata": {},
   "outputs": [],
   "source": [
    "# Load the data\n",
    "# df_train = pd.read_csv('/datasets/gold_recovery_train.csv')\n",
    "# df_test = pd.read_csv('/datasets/gold_recovery_test.csv')\n",
    "# df_full = pd.read_csv('/datasets/gold_recovery_full.csv')\n",
    "df_train = pd.read_csv('gold_recovery_train.csv')\n",
    "df_test = pd.read_csv('gold_recovery_test.csv')\n",
    "df_full = pd.read_csv('gold_recovery_full.csv')"
   ]
  },
  {
   "cell_type": "code",
   "execution_count": 3,
   "metadata": {},
   "outputs": [],
   "source": [
    "#creating a function for displaying the main information about datasets:\n",
    "def df_info(df):\n",
    "    print('DataFrame:')\n",
    "    display(df.head())\n",
    "    print('------------------------------------------------------------------------------------------')\n",
    "    print('Info:')\n",
    "    print('')\n",
    "    print(df.info())\n",
    "    print('------------------------------------------------------------------------------------------')\n",
    "    print('Shape')\n",
    "    print('')\n",
    "    display(df.shape)"
   ]
  },
  {
   "cell_type": "markdown",
   "metadata": {},
   "source": [
    "Let's check what we have in our datasets."
   ]
  },
  {
   "cell_type": "code",
   "execution_count": 4,
   "metadata": {},
   "outputs": [
    {
     "name": "stdout",
     "output_type": "stream",
     "text": [
      "DataFrame:\n"
     ]
    },
    {
     "data": {
      "text/html": [
       "<div>\n",
       "<style scoped>\n",
       "    .dataframe tbody tr th:only-of-type {\n",
       "        vertical-align: middle;\n",
       "    }\n",
       "\n",
       "    .dataframe tbody tr th {\n",
       "        vertical-align: top;\n",
       "    }\n",
       "\n",
       "    .dataframe thead th {\n",
       "        text-align: right;\n",
       "    }\n",
       "</style>\n",
       "<table border=\"1\" class=\"dataframe\">\n",
       "  <thead>\n",
       "    <tr style=\"text-align: right;\">\n",
       "      <th></th>\n",
       "      <th>date</th>\n",
       "      <th>final.output.concentrate_ag</th>\n",
       "      <th>final.output.concentrate_pb</th>\n",
       "      <th>final.output.concentrate_sol</th>\n",
       "      <th>final.output.concentrate_au</th>\n",
       "      <th>final.output.recovery</th>\n",
       "      <th>final.output.tail_ag</th>\n",
       "      <th>final.output.tail_pb</th>\n",
       "      <th>final.output.tail_sol</th>\n",
       "      <th>final.output.tail_au</th>\n",
       "      <th>...</th>\n",
       "      <th>secondary_cleaner.state.floatbank4_a_air</th>\n",
       "      <th>secondary_cleaner.state.floatbank4_a_level</th>\n",
       "      <th>secondary_cleaner.state.floatbank4_b_air</th>\n",
       "      <th>secondary_cleaner.state.floatbank4_b_level</th>\n",
       "      <th>secondary_cleaner.state.floatbank5_a_air</th>\n",
       "      <th>secondary_cleaner.state.floatbank5_a_level</th>\n",
       "      <th>secondary_cleaner.state.floatbank5_b_air</th>\n",
       "      <th>secondary_cleaner.state.floatbank5_b_level</th>\n",
       "      <th>secondary_cleaner.state.floatbank6_a_air</th>\n",
       "      <th>secondary_cleaner.state.floatbank6_a_level</th>\n",
       "    </tr>\n",
       "  </thead>\n",
       "  <tbody>\n",
       "    <tr>\n",
       "      <th>0</th>\n",
       "      <td>2016-01-15 00:00:00</td>\n",
       "      <td>6.055403</td>\n",
       "      <td>9.889648</td>\n",
       "      <td>5.507324</td>\n",
       "      <td>42.192020</td>\n",
       "      <td>70.541216</td>\n",
       "      <td>10.411962</td>\n",
       "      <td>0.895447</td>\n",
       "      <td>16.904297</td>\n",
       "      <td>2.143149</td>\n",
       "      <td>...</td>\n",
       "      <td>14.016835</td>\n",
       "      <td>-502.488007</td>\n",
       "      <td>12.099931</td>\n",
       "      <td>-504.715942</td>\n",
       "      <td>9.925633</td>\n",
       "      <td>-498.310211</td>\n",
       "      <td>8.079666</td>\n",
       "      <td>-500.470978</td>\n",
       "      <td>14.151341</td>\n",
       "      <td>-605.841980</td>\n",
       "    </tr>\n",
       "    <tr>\n",
       "      <th>1</th>\n",
       "      <td>2016-01-15 01:00:00</td>\n",
       "      <td>6.029369</td>\n",
       "      <td>9.968944</td>\n",
       "      <td>5.257781</td>\n",
       "      <td>42.701629</td>\n",
       "      <td>69.266198</td>\n",
       "      <td>10.462676</td>\n",
       "      <td>0.927452</td>\n",
       "      <td>16.634514</td>\n",
       "      <td>2.224930</td>\n",
       "      <td>...</td>\n",
       "      <td>13.992281</td>\n",
       "      <td>-505.503262</td>\n",
       "      <td>11.950531</td>\n",
       "      <td>-501.331529</td>\n",
       "      <td>10.039245</td>\n",
       "      <td>-500.169983</td>\n",
       "      <td>7.984757</td>\n",
       "      <td>-500.582168</td>\n",
       "      <td>13.998353</td>\n",
       "      <td>-599.787184</td>\n",
       "    </tr>\n",
       "    <tr>\n",
       "      <th>2</th>\n",
       "      <td>2016-01-15 02:00:00</td>\n",
       "      <td>6.055926</td>\n",
       "      <td>10.213995</td>\n",
       "      <td>5.383759</td>\n",
       "      <td>42.657501</td>\n",
       "      <td>68.116445</td>\n",
       "      <td>10.507046</td>\n",
       "      <td>0.953716</td>\n",
       "      <td>16.208849</td>\n",
       "      <td>2.257889</td>\n",
       "      <td>...</td>\n",
       "      <td>14.015015</td>\n",
       "      <td>-502.520901</td>\n",
       "      <td>11.912783</td>\n",
       "      <td>-501.133383</td>\n",
       "      <td>10.070913</td>\n",
       "      <td>-500.129135</td>\n",
       "      <td>8.013877</td>\n",
       "      <td>-500.517572</td>\n",
       "      <td>14.028663</td>\n",
       "      <td>-601.427363</td>\n",
       "    </tr>\n",
       "    <tr>\n",
       "      <th>3</th>\n",
       "      <td>2016-01-15 03:00:00</td>\n",
       "      <td>6.047977</td>\n",
       "      <td>9.977019</td>\n",
       "      <td>4.858634</td>\n",
       "      <td>42.689819</td>\n",
       "      <td>68.347543</td>\n",
       "      <td>10.422762</td>\n",
       "      <td>0.883763</td>\n",
       "      <td>16.532835</td>\n",
       "      <td>2.146849</td>\n",
       "      <td>...</td>\n",
       "      <td>14.036510</td>\n",
       "      <td>-500.857308</td>\n",
       "      <td>11.999550</td>\n",
       "      <td>-501.193686</td>\n",
       "      <td>9.970366</td>\n",
       "      <td>-499.201640</td>\n",
       "      <td>7.977324</td>\n",
       "      <td>-500.255908</td>\n",
       "      <td>14.005551</td>\n",
       "      <td>-599.996129</td>\n",
       "    </tr>\n",
       "    <tr>\n",
       "      <th>4</th>\n",
       "      <td>2016-01-15 04:00:00</td>\n",
       "      <td>6.148599</td>\n",
       "      <td>10.142511</td>\n",
       "      <td>4.939416</td>\n",
       "      <td>42.774141</td>\n",
       "      <td>66.927016</td>\n",
       "      <td>10.360302</td>\n",
       "      <td>0.792826</td>\n",
       "      <td>16.525686</td>\n",
       "      <td>2.055292</td>\n",
       "      <td>...</td>\n",
       "      <td>14.027298</td>\n",
       "      <td>-499.838632</td>\n",
       "      <td>11.953070</td>\n",
       "      <td>-501.053894</td>\n",
       "      <td>9.925709</td>\n",
       "      <td>-501.686727</td>\n",
       "      <td>7.894242</td>\n",
       "      <td>-500.356035</td>\n",
       "      <td>13.996647</td>\n",
       "      <td>-601.496691</td>\n",
       "    </tr>\n",
       "  </tbody>\n",
       "</table>\n",
       "<p>5 rows × 87 columns</p>\n",
       "</div>"
      ],
      "text/plain": [
       "                  date  final.output.concentrate_ag  \\\n",
       "0  2016-01-15 00:00:00                     6.055403   \n",
       "1  2016-01-15 01:00:00                     6.029369   \n",
       "2  2016-01-15 02:00:00                     6.055926   \n",
       "3  2016-01-15 03:00:00                     6.047977   \n",
       "4  2016-01-15 04:00:00                     6.148599   \n",
       "\n",
       "   final.output.concentrate_pb  final.output.concentrate_sol  \\\n",
       "0                     9.889648                      5.507324   \n",
       "1                     9.968944                      5.257781   \n",
       "2                    10.213995                      5.383759   \n",
       "3                     9.977019                      4.858634   \n",
       "4                    10.142511                      4.939416   \n",
       "\n",
       "   final.output.concentrate_au  final.output.recovery  final.output.tail_ag  \\\n",
       "0                    42.192020              70.541216             10.411962   \n",
       "1                    42.701629              69.266198             10.462676   \n",
       "2                    42.657501              68.116445             10.507046   \n",
       "3                    42.689819              68.347543             10.422762   \n",
       "4                    42.774141              66.927016             10.360302   \n",
       "\n",
       "   final.output.tail_pb  final.output.tail_sol  final.output.tail_au  ...  \\\n",
       "0              0.895447              16.904297              2.143149  ...   \n",
       "1              0.927452              16.634514              2.224930  ...   \n",
       "2              0.953716              16.208849              2.257889  ...   \n",
       "3              0.883763              16.532835              2.146849  ...   \n",
       "4              0.792826              16.525686              2.055292  ...   \n",
       "\n",
       "   secondary_cleaner.state.floatbank4_a_air  \\\n",
       "0                                 14.016835   \n",
       "1                                 13.992281   \n",
       "2                                 14.015015   \n",
       "3                                 14.036510   \n",
       "4                                 14.027298   \n",
       "\n",
       "   secondary_cleaner.state.floatbank4_a_level  \\\n",
       "0                                 -502.488007   \n",
       "1                                 -505.503262   \n",
       "2                                 -502.520901   \n",
       "3                                 -500.857308   \n",
       "4                                 -499.838632   \n",
       "\n",
       "   secondary_cleaner.state.floatbank4_b_air  \\\n",
       "0                                 12.099931   \n",
       "1                                 11.950531   \n",
       "2                                 11.912783   \n",
       "3                                 11.999550   \n",
       "4                                 11.953070   \n",
       "\n",
       "   secondary_cleaner.state.floatbank4_b_level  \\\n",
       "0                                 -504.715942   \n",
       "1                                 -501.331529   \n",
       "2                                 -501.133383   \n",
       "3                                 -501.193686   \n",
       "4                                 -501.053894   \n",
       "\n",
       "   secondary_cleaner.state.floatbank5_a_air  \\\n",
       "0                                  9.925633   \n",
       "1                                 10.039245   \n",
       "2                                 10.070913   \n",
       "3                                  9.970366   \n",
       "4                                  9.925709   \n",
       "\n",
       "   secondary_cleaner.state.floatbank5_a_level  \\\n",
       "0                                 -498.310211   \n",
       "1                                 -500.169983   \n",
       "2                                 -500.129135   \n",
       "3                                 -499.201640   \n",
       "4                                 -501.686727   \n",
       "\n",
       "   secondary_cleaner.state.floatbank5_b_air  \\\n",
       "0                                  8.079666   \n",
       "1                                  7.984757   \n",
       "2                                  8.013877   \n",
       "3                                  7.977324   \n",
       "4                                  7.894242   \n",
       "\n",
       "   secondary_cleaner.state.floatbank5_b_level  \\\n",
       "0                                 -500.470978   \n",
       "1                                 -500.582168   \n",
       "2                                 -500.517572   \n",
       "3                                 -500.255908   \n",
       "4                                 -500.356035   \n",
       "\n",
       "   secondary_cleaner.state.floatbank6_a_air  \\\n",
       "0                                 14.151341   \n",
       "1                                 13.998353   \n",
       "2                                 14.028663   \n",
       "3                                 14.005551   \n",
       "4                                 13.996647   \n",
       "\n",
       "   secondary_cleaner.state.floatbank6_a_level  \n",
       "0                                 -605.841980  \n",
       "1                                 -599.787184  \n",
       "2                                 -601.427363  \n",
       "3                                 -599.996129  \n",
       "4                                 -601.496691  \n",
       "\n",
       "[5 rows x 87 columns]"
      ]
     },
     "metadata": {},
     "output_type": "display_data"
    },
    {
     "name": "stdout",
     "output_type": "stream",
     "text": [
      "------------------------------------------------------------------------------------------\n",
      "Info:\n",
      "\n",
      "<class 'pandas.core.frame.DataFrame'>\n",
      "RangeIndex: 16860 entries, 0 to 16859\n",
      "Data columns (total 87 columns):\n",
      " #   Column                                              Non-Null Count  Dtype  \n",
      "---  ------                                              --------------  -----  \n",
      " 0   date                                                16860 non-null  object \n",
      " 1   final.output.concentrate_ag                         16788 non-null  float64\n",
      " 2   final.output.concentrate_pb                         16788 non-null  float64\n",
      " 3   final.output.concentrate_sol                        16490 non-null  float64\n",
      " 4   final.output.concentrate_au                         16789 non-null  float64\n",
      " 5   final.output.recovery                               15339 non-null  float64\n",
      " 6   final.output.tail_ag                                16794 non-null  float64\n",
      " 7   final.output.tail_pb                                16677 non-null  float64\n",
      " 8   final.output.tail_sol                               16715 non-null  float64\n",
      " 9   final.output.tail_au                                16794 non-null  float64\n",
      " 10  primary_cleaner.input.sulfate                       15553 non-null  float64\n",
      " 11  primary_cleaner.input.depressant                    15598 non-null  float64\n",
      " 12  primary_cleaner.input.feed_size                     16860 non-null  float64\n",
      " 13  primary_cleaner.input.xanthate                      15875 non-null  float64\n",
      " 14  primary_cleaner.output.concentrate_ag               16778 non-null  float64\n",
      " 15  primary_cleaner.output.concentrate_pb               16502 non-null  float64\n",
      " 16  primary_cleaner.output.concentrate_sol              16224 non-null  float64\n",
      " 17  primary_cleaner.output.concentrate_au               16778 non-null  float64\n",
      " 18  primary_cleaner.output.tail_ag                      16777 non-null  float64\n",
      " 19  primary_cleaner.output.tail_pb                      16761 non-null  float64\n",
      " 20  primary_cleaner.output.tail_sol                     16579 non-null  float64\n",
      " 21  primary_cleaner.output.tail_au                      16777 non-null  float64\n",
      " 22  primary_cleaner.state.floatbank8_a_air              16820 non-null  float64\n",
      " 23  primary_cleaner.state.floatbank8_a_level            16827 non-null  float64\n",
      " 24  primary_cleaner.state.floatbank8_b_air              16820 non-null  float64\n",
      " 25  primary_cleaner.state.floatbank8_b_level            16833 non-null  float64\n",
      " 26  primary_cleaner.state.floatbank8_c_air              16822 non-null  float64\n",
      " 27  primary_cleaner.state.floatbank8_c_level            16833 non-null  float64\n",
      " 28  primary_cleaner.state.floatbank8_d_air              16821 non-null  float64\n",
      " 29  primary_cleaner.state.floatbank8_d_level            16833 non-null  float64\n",
      " 30  rougher.calculation.sulfate_to_au_concentrate       16833 non-null  float64\n",
      " 31  rougher.calculation.floatbank10_sulfate_to_au_feed  16833 non-null  float64\n",
      " 32  rougher.calculation.floatbank11_sulfate_to_au_feed  16833 non-null  float64\n",
      " 33  rougher.calculation.au_pb_ratio                     15618 non-null  float64\n",
      " 34  rougher.input.feed_ag                               16778 non-null  float64\n",
      " 35  rougher.input.feed_pb                               16632 non-null  float64\n",
      " 36  rougher.input.feed_rate                             16347 non-null  float64\n",
      " 37  rougher.input.feed_size                             16443 non-null  float64\n",
      " 38  rougher.input.feed_sol                              16568 non-null  float64\n",
      " 39  rougher.input.feed_au                               16777 non-null  float64\n",
      " 40  rougher.input.floatbank10_sulfate                   15816 non-null  float64\n",
      " 41  rougher.input.floatbank10_xanthate                  16514 non-null  float64\n",
      " 42  rougher.input.floatbank11_sulfate                   16237 non-null  float64\n",
      " 43  rougher.input.floatbank11_xanthate                  14956 non-null  float64\n",
      " 44  rougher.output.concentrate_ag                       16778 non-null  float64\n",
      " 45  rougher.output.concentrate_pb                       16778 non-null  float64\n",
      " 46  rougher.output.concentrate_sol                      16698 non-null  float64\n",
      " 47  rougher.output.concentrate_au                       16778 non-null  float64\n",
      " 48  rougher.output.recovery                             14287 non-null  float64\n",
      " 49  rougher.output.tail_ag                              14610 non-null  float64\n",
      " 50  rougher.output.tail_pb                              16778 non-null  float64\n",
      " 51  rougher.output.tail_sol                             14611 non-null  float64\n",
      " 52  rougher.output.tail_au                              14611 non-null  float64\n",
      " 53  rougher.state.floatbank10_a_air                     16807 non-null  float64\n",
      " 54  rougher.state.floatbank10_a_level                   16807 non-null  float64\n",
      " 55  rougher.state.floatbank10_b_air                     16807 non-null  float64\n",
      " 56  rougher.state.floatbank10_b_level                   16807 non-null  float64\n",
      " 57  rougher.state.floatbank10_c_air                     16807 non-null  float64\n",
      " 58  rougher.state.floatbank10_c_level                   16814 non-null  float64\n",
      " 59  rougher.state.floatbank10_d_air                     16802 non-null  float64\n",
      " 60  rougher.state.floatbank10_d_level                   16809 non-null  float64\n",
      " 61  rougher.state.floatbank10_e_air                     16257 non-null  float64\n",
      " 62  rougher.state.floatbank10_e_level                   16809 non-null  float64\n",
      " 63  rougher.state.floatbank10_f_air                     16802 non-null  float64\n",
      " 64  rougher.state.floatbank10_f_level                   16802 non-null  float64\n",
      " 65  secondary_cleaner.output.tail_ag                    16776 non-null  float64\n",
      " 66  secondary_cleaner.output.tail_pb                    16764 non-null  float64\n",
      " 67  secondary_cleaner.output.tail_sol                   14874 non-null  float64\n",
      " 68  secondary_cleaner.output.tail_au                    16778 non-null  float64\n",
      " 69  secondary_cleaner.state.floatbank2_a_air            16497 non-null  float64\n",
      " 70  secondary_cleaner.state.floatbank2_a_level          16751 non-null  float64\n",
      " 71  secondary_cleaner.state.floatbank2_b_air            16705 non-null  float64\n",
      " 72  secondary_cleaner.state.floatbank2_b_level          16748 non-null  float64\n",
      " 73  secondary_cleaner.state.floatbank3_a_air            16763 non-null  float64\n",
      " 74  secondary_cleaner.state.floatbank3_a_level          16747 non-null  float64\n",
      " 75  secondary_cleaner.state.floatbank3_b_air            16752 non-null  float64\n",
      " 76  secondary_cleaner.state.floatbank3_b_level          16750 non-null  float64\n",
      " 77  secondary_cleaner.state.floatbank4_a_air            16731 non-null  float64\n",
      " 78  secondary_cleaner.state.floatbank4_a_level          16747 non-null  float64\n",
      " 79  secondary_cleaner.state.floatbank4_b_air            16768 non-null  float64\n",
      " 80  secondary_cleaner.state.floatbank4_b_level          16767 non-null  float64\n",
      " 81  secondary_cleaner.state.floatbank5_a_air            16775 non-null  float64\n",
      " 82  secondary_cleaner.state.floatbank5_a_level          16775 non-null  float64\n",
      " 83  secondary_cleaner.state.floatbank5_b_air            16775 non-null  float64\n",
      " 84  secondary_cleaner.state.floatbank5_b_level          16776 non-null  float64\n",
      " 85  secondary_cleaner.state.floatbank6_a_air            16757 non-null  float64\n",
      " 86  secondary_cleaner.state.floatbank6_a_level          16775 non-null  float64\n",
      "dtypes: float64(86), object(1)\n",
      "memory usage: 11.2+ MB\n",
      "None\n",
      "------------------------------------------------------------------------------------------\n",
      "Shape\n",
      "\n"
     ]
    },
    {
     "data": {
      "text/plain": [
       "(16860, 87)"
      ]
     },
     "metadata": {},
     "output_type": "display_data"
    }
   ],
   "source": [
    "df_info(df_train)"
   ]
  },
  {
   "cell_type": "code",
   "execution_count": 5,
   "metadata": {},
   "outputs": [
    {
     "name": "stdout",
     "output_type": "stream",
     "text": [
      "DataFrame:\n"
     ]
    },
    {
     "data": {
      "text/html": [
       "<div>\n",
       "<style scoped>\n",
       "    .dataframe tbody tr th:only-of-type {\n",
       "        vertical-align: middle;\n",
       "    }\n",
       "\n",
       "    .dataframe tbody tr th {\n",
       "        vertical-align: top;\n",
       "    }\n",
       "\n",
       "    .dataframe thead th {\n",
       "        text-align: right;\n",
       "    }\n",
       "</style>\n",
       "<table border=\"1\" class=\"dataframe\">\n",
       "  <thead>\n",
       "    <tr style=\"text-align: right;\">\n",
       "      <th></th>\n",
       "      <th>date</th>\n",
       "      <th>primary_cleaner.input.sulfate</th>\n",
       "      <th>primary_cleaner.input.depressant</th>\n",
       "      <th>primary_cleaner.input.feed_size</th>\n",
       "      <th>primary_cleaner.input.xanthate</th>\n",
       "      <th>primary_cleaner.state.floatbank8_a_air</th>\n",
       "      <th>primary_cleaner.state.floatbank8_a_level</th>\n",
       "      <th>primary_cleaner.state.floatbank8_b_air</th>\n",
       "      <th>primary_cleaner.state.floatbank8_b_level</th>\n",
       "      <th>primary_cleaner.state.floatbank8_c_air</th>\n",
       "      <th>...</th>\n",
       "      <th>secondary_cleaner.state.floatbank4_a_air</th>\n",
       "      <th>secondary_cleaner.state.floatbank4_a_level</th>\n",
       "      <th>secondary_cleaner.state.floatbank4_b_air</th>\n",
       "      <th>secondary_cleaner.state.floatbank4_b_level</th>\n",
       "      <th>secondary_cleaner.state.floatbank5_a_air</th>\n",
       "      <th>secondary_cleaner.state.floatbank5_a_level</th>\n",
       "      <th>secondary_cleaner.state.floatbank5_b_air</th>\n",
       "      <th>secondary_cleaner.state.floatbank5_b_level</th>\n",
       "      <th>secondary_cleaner.state.floatbank6_a_air</th>\n",
       "      <th>secondary_cleaner.state.floatbank6_a_level</th>\n",
       "    </tr>\n",
       "  </thead>\n",
       "  <tbody>\n",
       "    <tr>\n",
       "      <th>0</th>\n",
       "      <td>2016-09-01 00:59:59</td>\n",
       "      <td>210.800909</td>\n",
       "      <td>14.993118</td>\n",
       "      <td>8.080000</td>\n",
       "      <td>1.005021</td>\n",
       "      <td>1398.981301</td>\n",
       "      <td>-500.225577</td>\n",
       "      <td>1399.144926</td>\n",
       "      <td>-499.919735</td>\n",
       "      <td>1400.102998</td>\n",
       "      <td>...</td>\n",
       "      <td>12.023554</td>\n",
       "      <td>-497.795834</td>\n",
       "      <td>8.016656</td>\n",
       "      <td>-501.289139</td>\n",
       "      <td>7.946562</td>\n",
       "      <td>-432.317850</td>\n",
       "      <td>4.872511</td>\n",
       "      <td>-500.037437</td>\n",
       "      <td>26.705889</td>\n",
       "      <td>-499.709414</td>\n",
       "    </tr>\n",
       "    <tr>\n",
       "      <th>1</th>\n",
       "      <td>2016-09-01 01:59:59</td>\n",
       "      <td>215.392455</td>\n",
       "      <td>14.987471</td>\n",
       "      <td>8.080000</td>\n",
       "      <td>0.990469</td>\n",
       "      <td>1398.777912</td>\n",
       "      <td>-500.057435</td>\n",
       "      <td>1398.055362</td>\n",
       "      <td>-499.778182</td>\n",
       "      <td>1396.151033</td>\n",
       "      <td>...</td>\n",
       "      <td>12.058140</td>\n",
       "      <td>-498.695773</td>\n",
       "      <td>8.130979</td>\n",
       "      <td>-499.634209</td>\n",
       "      <td>7.958270</td>\n",
       "      <td>-525.839648</td>\n",
       "      <td>4.878850</td>\n",
       "      <td>-500.162375</td>\n",
       "      <td>25.019940</td>\n",
       "      <td>-499.819438</td>\n",
       "    </tr>\n",
       "    <tr>\n",
       "      <th>2</th>\n",
       "      <td>2016-09-01 02:59:59</td>\n",
       "      <td>215.259946</td>\n",
       "      <td>12.884934</td>\n",
       "      <td>7.786667</td>\n",
       "      <td>0.996043</td>\n",
       "      <td>1398.493666</td>\n",
       "      <td>-500.868360</td>\n",
       "      <td>1398.860436</td>\n",
       "      <td>-499.764529</td>\n",
       "      <td>1398.075709</td>\n",
       "      <td>...</td>\n",
       "      <td>11.962366</td>\n",
       "      <td>-498.767484</td>\n",
       "      <td>8.096893</td>\n",
       "      <td>-500.827423</td>\n",
       "      <td>8.071056</td>\n",
       "      <td>-500.801673</td>\n",
       "      <td>4.905125</td>\n",
       "      <td>-499.828510</td>\n",
       "      <td>24.994862</td>\n",
       "      <td>-500.622559</td>\n",
       "    </tr>\n",
       "    <tr>\n",
       "      <th>3</th>\n",
       "      <td>2016-09-01 03:59:59</td>\n",
       "      <td>215.336236</td>\n",
       "      <td>12.006805</td>\n",
       "      <td>7.640000</td>\n",
       "      <td>0.863514</td>\n",
       "      <td>1399.618111</td>\n",
       "      <td>-498.863574</td>\n",
       "      <td>1397.440120</td>\n",
       "      <td>-499.211024</td>\n",
       "      <td>1400.129303</td>\n",
       "      <td>...</td>\n",
       "      <td>12.033091</td>\n",
       "      <td>-498.350935</td>\n",
       "      <td>8.074946</td>\n",
       "      <td>-499.474407</td>\n",
       "      <td>7.897085</td>\n",
       "      <td>-500.868509</td>\n",
       "      <td>4.931400</td>\n",
       "      <td>-499.963623</td>\n",
       "      <td>24.948919</td>\n",
       "      <td>-498.709987</td>\n",
       "    </tr>\n",
       "    <tr>\n",
       "      <th>4</th>\n",
       "      <td>2016-09-01 04:59:59</td>\n",
       "      <td>199.099327</td>\n",
       "      <td>10.682530</td>\n",
       "      <td>7.530000</td>\n",
       "      <td>0.805575</td>\n",
       "      <td>1401.268123</td>\n",
       "      <td>-500.808305</td>\n",
       "      <td>1398.128818</td>\n",
       "      <td>-499.504543</td>\n",
       "      <td>1402.172226</td>\n",
       "      <td>...</td>\n",
       "      <td>12.025367</td>\n",
       "      <td>-500.786497</td>\n",
       "      <td>8.054678</td>\n",
       "      <td>-500.397500</td>\n",
       "      <td>8.107890</td>\n",
       "      <td>-509.526725</td>\n",
       "      <td>4.957674</td>\n",
       "      <td>-500.360026</td>\n",
       "      <td>25.003331</td>\n",
       "      <td>-500.856333</td>\n",
       "    </tr>\n",
       "  </tbody>\n",
       "</table>\n",
       "<p>5 rows × 53 columns</p>\n",
       "</div>"
      ],
      "text/plain": [
       "                  date  primary_cleaner.input.sulfate  \\\n",
       "0  2016-09-01 00:59:59                     210.800909   \n",
       "1  2016-09-01 01:59:59                     215.392455   \n",
       "2  2016-09-01 02:59:59                     215.259946   \n",
       "3  2016-09-01 03:59:59                     215.336236   \n",
       "4  2016-09-01 04:59:59                     199.099327   \n",
       "\n",
       "   primary_cleaner.input.depressant  primary_cleaner.input.feed_size  \\\n",
       "0                         14.993118                         8.080000   \n",
       "1                         14.987471                         8.080000   \n",
       "2                         12.884934                         7.786667   \n",
       "3                         12.006805                         7.640000   \n",
       "4                         10.682530                         7.530000   \n",
       "\n",
       "   primary_cleaner.input.xanthate  primary_cleaner.state.floatbank8_a_air  \\\n",
       "0                        1.005021                             1398.981301   \n",
       "1                        0.990469                             1398.777912   \n",
       "2                        0.996043                             1398.493666   \n",
       "3                        0.863514                             1399.618111   \n",
       "4                        0.805575                             1401.268123   \n",
       "\n",
       "   primary_cleaner.state.floatbank8_a_level  \\\n",
       "0                               -500.225577   \n",
       "1                               -500.057435   \n",
       "2                               -500.868360   \n",
       "3                               -498.863574   \n",
       "4                               -500.808305   \n",
       "\n",
       "   primary_cleaner.state.floatbank8_b_air  \\\n",
       "0                             1399.144926   \n",
       "1                             1398.055362   \n",
       "2                             1398.860436   \n",
       "3                             1397.440120   \n",
       "4                             1398.128818   \n",
       "\n",
       "   primary_cleaner.state.floatbank8_b_level  \\\n",
       "0                               -499.919735   \n",
       "1                               -499.778182   \n",
       "2                               -499.764529   \n",
       "3                               -499.211024   \n",
       "4                               -499.504543   \n",
       "\n",
       "   primary_cleaner.state.floatbank8_c_air  ...  \\\n",
       "0                             1400.102998  ...   \n",
       "1                             1396.151033  ...   \n",
       "2                             1398.075709  ...   \n",
       "3                             1400.129303  ...   \n",
       "4                             1402.172226  ...   \n",
       "\n",
       "   secondary_cleaner.state.floatbank4_a_air  \\\n",
       "0                                 12.023554   \n",
       "1                                 12.058140   \n",
       "2                                 11.962366   \n",
       "3                                 12.033091   \n",
       "4                                 12.025367   \n",
       "\n",
       "   secondary_cleaner.state.floatbank4_a_level  \\\n",
       "0                                 -497.795834   \n",
       "1                                 -498.695773   \n",
       "2                                 -498.767484   \n",
       "3                                 -498.350935   \n",
       "4                                 -500.786497   \n",
       "\n",
       "   secondary_cleaner.state.floatbank4_b_air  \\\n",
       "0                                  8.016656   \n",
       "1                                  8.130979   \n",
       "2                                  8.096893   \n",
       "3                                  8.074946   \n",
       "4                                  8.054678   \n",
       "\n",
       "   secondary_cleaner.state.floatbank4_b_level  \\\n",
       "0                                 -501.289139   \n",
       "1                                 -499.634209   \n",
       "2                                 -500.827423   \n",
       "3                                 -499.474407   \n",
       "4                                 -500.397500   \n",
       "\n",
       "   secondary_cleaner.state.floatbank5_a_air  \\\n",
       "0                                  7.946562   \n",
       "1                                  7.958270   \n",
       "2                                  8.071056   \n",
       "3                                  7.897085   \n",
       "4                                  8.107890   \n",
       "\n",
       "   secondary_cleaner.state.floatbank5_a_level  \\\n",
       "0                                 -432.317850   \n",
       "1                                 -525.839648   \n",
       "2                                 -500.801673   \n",
       "3                                 -500.868509   \n",
       "4                                 -509.526725   \n",
       "\n",
       "   secondary_cleaner.state.floatbank5_b_air  \\\n",
       "0                                  4.872511   \n",
       "1                                  4.878850   \n",
       "2                                  4.905125   \n",
       "3                                  4.931400   \n",
       "4                                  4.957674   \n",
       "\n",
       "   secondary_cleaner.state.floatbank5_b_level  \\\n",
       "0                                 -500.037437   \n",
       "1                                 -500.162375   \n",
       "2                                 -499.828510   \n",
       "3                                 -499.963623   \n",
       "4                                 -500.360026   \n",
       "\n",
       "   secondary_cleaner.state.floatbank6_a_air  \\\n",
       "0                                 26.705889   \n",
       "1                                 25.019940   \n",
       "2                                 24.994862   \n",
       "3                                 24.948919   \n",
       "4                                 25.003331   \n",
       "\n",
       "   secondary_cleaner.state.floatbank6_a_level  \n",
       "0                                 -499.709414  \n",
       "1                                 -499.819438  \n",
       "2                                 -500.622559  \n",
       "3                                 -498.709987  \n",
       "4                                 -500.856333  \n",
       "\n",
       "[5 rows x 53 columns]"
      ]
     },
     "metadata": {},
     "output_type": "display_data"
    },
    {
     "name": "stdout",
     "output_type": "stream",
     "text": [
      "------------------------------------------------------------------------------------------\n",
      "Info:\n",
      "\n",
      "<class 'pandas.core.frame.DataFrame'>\n",
      "RangeIndex: 5856 entries, 0 to 5855\n",
      "Data columns (total 53 columns):\n",
      " #   Column                                      Non-Null Count  Dtype  \n",
      "---  ------                                      --------------  -----  \n",
      " 0   date                                        5856 non-null   object \n",
      " 1   primary_cleaner.input.sulfate               5554 non-null   float64\n",
      " 2   primary_cleaner.input.depressant            5572 non-null   float64\n",
      " 3   primary_cleaner.input.feed_size             5856 non-null   float64\n",
      " 4   primary_cleaner.input.xanthate              5690 non-null   float64\n",
      " 5   primary_cleaner.state.floatbank8_a_air      5840 non-null   float64\n",
      " 6   primary_cleaner.state.floatbank8_a_level    5840 non-null   float64\n",
      " 7   primary_cleaner.state.floatbank8_b_air      5840 non-null   float64\n",
      " 8   primary_cleaner.state.floatbank8_b_level    5840 non-null   float64\n",
      " 9   primary_cleaner.state.floatbank8_c_air      5840 non-null   float64\n",
      " 10  primary_cleaner.state.floatbank8_c_level    5840 non-null   float64\n",
      " 11  primary_cleaner.state.floatbank8_d_air      5840 non-null   float64\n",
      " 12  primary_cleaner.state.floatbank8_d_level    5840 non-null   float64\n",
      " 13  rougher.input.feed_ag                       5840 non-null   float64\n",
      " 14  rougher.input.feed_pb                       5840 non-null   float64\n",
      " 15  rougher.input.feed_rate                     5816 non-null   float64\n",
      " 16  rougher.input.feed_size                     5834 non-null   float64\n",
      " 17  rougher.input.feed_sol                      5789 non-null   float64\n",
      " 18  rougher.input.feed_au                       5840 non-null   float64\n",
      " 19  rougher.input.floatbank10_sulfate           5599 non-null   float64\n",
      " 20  rougher.input.floatbank10_xanthate          5733 non-null   float64\n",
      " 21  rougher.input.floatbank11_sulfate           5801 non-null   float64\n",
      " 22  rougher.input.floatbank11_xanthate          5503 non-null   float64\n",
      " 23  rougher.state.floatbank10_a_air             5839 non-null   float64\n",
      " 24  rougher.state.floatbank10_a_level           5840 non-null   float64\n",
      " 25  rougher.state.floatbank10_b_air             5839 non-null   float64\n",
      " 26  rougher.state.floatbank10_b_level           5840 non-null   float64\n",
      " 27  rougher.state.floatbank10_c_air             5839 non-null   float64\n",
      " 28  rougher.state.floatbank10_c_level           5840 non-null   float64\n",
      " 29  rougher.state.floatbank10_d_air             5839 non-null   float64\n",
      " 30  rougher.state.floatbank10_d_level           5840 non-null   float64\n",
      " 31  rougher.state.floatbank10_e_air             5839 non-null   float64\n",
      " 32  rougher.state.floatbank10_e_level           5840 non-null   float64\n",
      " 33  rougher.state.floatbank10_f_air             5839 non-null   float64\n",
      " 34  rougher.state.floatbank10_f_level           5840 non-null   float64\n",
      " 35  secondary_cleaner.state.floatbank2_a_air    5836 non-null   float64\n",
      " 36  secondary_cleaner.state.floatbank2_a_level  5840 non-null   float64\n",
      " 37  secondary_cleaner.state.floatbank2_b_air    5833 non-null   float64\n",
      " 38  secondary_cleaner.state.floatbank2_b_level  5840 non-null   float64\n",
      " 39  secondary_cleaner.state.floatbank3_a_air    5822 non-null   float64\n",
      " 40  secondary_cleaner.state.floatbank3_a_level  5840 non-null   float64\n",
      " 41  secondary_cleaner.state.floatbank3_b_air    5840 non-null   float64\n",
      " 42  secondary_cleaner.state.floatbank3_b_level  5840 non-null   float64\n",
      " 43  secondary_cleaner.state.floatbank4_a_air    5840 non-null   float64\n",
      " 44  secondary_cleaner.state.floatbank4_a_level  5840 non-null   float64\n",
      " 45  secondary_cleaner.state.floatbank4_b_air    5840 non-null   float64\n",
      " 46  secondary_cleaner.state.floatbank4_b_level  5840 non-null   float64\n",
      " 47  secondary_cleaner.state.floatbank5_a_air    5840 non-null   float64\n",
      " 48  secondary_cleaner.state.floatbank5_a_level  5840 non-null   float64\n",
      " 49  secondary_cleaner.state.floatbank5_b_air    5840 non-null   float64\n",
      " 50  secondary_cleaner.state.floatbank5_b_level  5840 non-null   float64\n",
      " 51  secondary_cleaner.state.floatbank6_a_air    5840 non-null   float64\n",
      " 52  secondary_cleaner.state.floatbank6_a_level  5840 non-null   float64\n",
      "dtypes: float64(52), object(1)\n",
      "memory usage: 2.4+ MB\n",
      "None\n",
      "------------------------------------------------------------------------------------------\n",
      "Shape\n",
      "\n"
     ]
    },
    {
     "data": {
      "text/plain": [
       "(5856, 53)"
      ]
     },
     "metadata": {},
     "output_type": "display_data"
    }
   ],
   "source": [
    "df_info(df_test)"
   ]
  },
  {
   "cell_type": "code",
   "execution_count": 6,
   "metadata": {},
   "outputs": [
    {
     "name": "stdout",
     "output_type": "stream",
     "text": [
      "DataFrame:\n"
     ]
    },
    {
     "data": {
      "text/html": [
       "<div>\n",
       "<style scoped>\n",
       "    .dataframe tbody tr th:only-of-type {\n",
       "        vertical-align: middle;\n",
       "    }\n",
       "\n",
       "    .dataframe tbody tr th {\n",
       "        vertical-align: top;\n",
       "    }\n",
       "\n",
       "    .dataframe thead th {\n",
       "        text-align: right;\n",
       "    }\n",
       "</style>\n",
       "<table border=\"1\" class=\"dataframe\">\n",
       "  <thead>\n",
       "    <tr style=\"text-align: right;\">\n",
       "      <th></th>\n",
       "      <th>date</th>\n",
       "      <th>final.output.concentrate_ag</th>\n",
       "      <th>final.output.concentrate_pb</th>\n",
       "      <th>final.output.concentrate_sol</th>\n",
       "      <th>final.output.concentrate_au</th>\n",
       "      <th>final.output.recovery</th>\n",
       "      <th>final.output.tail_ag</th>\n",
       "      <th>final.output.tail_pb</th>\n",
       "      <th>final.output.tail_sol</th>\n",
       "      <th>final.output.tail_au</th>\n",
       "      <th>...</th>\n",
       "      <th>secondary_cleaner.state.floatbank4_a_air</th>\n",
       "      <th>secondary_cleaner.state.floatbank4_a_level</th>\n",
       "      <th>secondary_cleaner.state.floatbank4_b_air</th>\n",
       "      <th>secondary_cleaner.state.floatbank4_b_level</th>\n",
       "      <th>secondary_cleaner.state.floatbank5_a_air</th>\n",
       "      <th>secondary_cleaner.state.floatbank5_a_level</th>\n",
       "      <th>secondary_cleaner.state.floatbank5_b_air</th>\n",
       "      <th>secondary_cleaner.state.floatbank5_b_level</th>\n",
       "      <th>secondary_cleaner.state.floatbank6_a_air</th>\n",
       "      <th>secondary_cleaner.state.floatbank6_a_level</th>\n",
       "    </tr>\n",
       "  </thead>\n",
       "  <tbody>\n",
       "    <tr>\n",
       "      <th>0</th>\n",
       "      <td>2016-01-15 00:00:00</td>\n",
       "      <td>6.055403</td>\n",
       "      <td>9.889648</td>\n",
       "      <td>5.507324</td>\n",
       "      <td>42.192020</td>\n",
       "      <td>70.541216</td>\n",
       "      <td>10.411962</td>\n",
       "      <td>0.895447</td>\n",
       "      <td>16.904297</td>\n",
       "      <td>2.143149</td>\n",
       "      <td>...</td>\n",
       "      <td>14.016835</td>\n",
       "      <td>-502.488007</td>\n",
       "      <td>12.099931</td>\n",
       "      <td>-504.715942</td>\n",
       "      <td>9.925633</td>\n",
       "      <td>-498.310211</td>\n",
       "      <td>8.079666</td>\n",
       "      <td>-500.470978</td>\n",
       "      <td>14.151341</td>\n",
       "      <td>-605.841980</td>\n",
       "    </tr>\n",
       "    <tr>\n",
       "      <th>1</th>\n",
       "      <td>2016-01-15 01:00:00</td>\n",
       "      <td>6.029369</td>\n",
       "      <td>9.968944</td>\n",
       "      <td>5.257781</td>\n",
       "      <td>42.701629</td>\n",
       "      <td>69.266198</td>\n",
       "      <td>10.462676</td>\n",
       "      <td>0.927452</td>\n",
       "      <td>16.634514</td>\n",
       "      <td>2.224930</td>\n",
       "      <td>...</td>\n",
       "      <td>13.992281</td>\n",
       "      <td>-505.503262</td>\n",
       "      <td>11.950531</td>\n",
       "      <td>-501.331529</td>\n",
       "      <td>10.039245</td>\n",
       "      <td>-500.169983</td>\n",
       "      <td>7.984757</td>\n",
       "      <td>-500.582168</td>\n",
       "      <td>13.998353</td>\n",
       "      <td>-599.787184</td>\n",
       "    </tr>\n",
       "    <tr>\n",
       "      <th>2</th>\n",
       "      <td>2016-01-15 02:00:00</td>\n",
       "      <td>6.055926</td>\n",
       "      <td>10.213995</td>\n",
       "      <td>5.383759</td>\n",
       "      <td>42.657501</td>\n",
       "      <td>68.116445</td>\n",
       "      <td>10.507046</td>\n",
       "      <td>0.953716</td>\n",
       "      <td>16.208849</td>\n",
       "      <td>2.257889</td>\n",
       "      <td>...</td>\n",
       "      <td>14.015015</td>\n",
       "      <td>-502.520901</td>\n",
       "      <td>11.912783</td>\n",
       "      <td>-501.133383</td>\n",
       "      <td>10.070913</td>\n",
       "      <td>-500.129135</td>\n",
       "      <td>8.013877</td>\n",
       "      <td>-500.517572</td>\n",
       "      <td>14.028663</td>\n",
       "      <td>-601.427363</td>\n",
       "    </tr>\n",
       "    <tr>\n",
       "      <th>3</th>\n",
       "      <td>2016-01-15 03:00:00</td>\n",
       "      <td>6.047977</td>\n",
       "      <td>9.977019</td>\n",
       "      <td>4.858634</td>\n",
       "      <td>42.689819</td>\n",
       "      <td>68.347543</td>\n",
       "      <td>10.422762</td>\n",
       "      <td>0.883763</td>\n",
       "      <td>16.532835</td>\n",
       "      <td>2.146849</td>\n",
       "      <td>...</td>\n",
       "      <td>14.036510</td>\n",
       "      <td>-500.857308</td>\n",
       "      <td>11.999550</td>\n",
       "      <td>-501.193686</td>\n",
       "      <td>9.970366</td>\n",
       "      <td>-499.201640</td>\n",
       "      <td>7.977324</td>\n",
       "      <td>-500.255908</td>\n",
       "      <td>14.005551</td>\n",
       "      <td>-599.996129</td>\n",
       "    </tr>\n",
       "    <tr>\n",
       "      <th>4</th>\n",
       "      <td>2016-01-15 04:00:00</td>\n",
       "      <td>6.148599</td>\n",
       "      <td>10.142511</td>\n",
       "      <td>4.939416</td>\n",
       "      <td>42.774141</td>\n",
       "      <td>66.927016</td>\n",
       "      <td>10.360302</td>\n",
       "      <td>0.792826</td>\n",
       "      <td>16.525686</td>\n",
       "      <td>2.055292</td>\n",
       "      <td>...</td>\n",
       "      <td>14.027298</td>\n",
       "      <td>-499.838632</td>\n",
       "      <td>11.953070</td>\n",
       "      <td>-501.053894</td>\n",
       "      <td>9.925709</td>\n",
       "      <td>-501.686727</td>\n",
       "      <td>7.894242</td>\n",
       "      <td>-500.356035</td>\n",
       "      <td>13.996647</td>\n",
       "      <td>-601.496691</td>\n",
       "    </tr>\n",
       "  </tbody>\n",
       "</table>\n",
       "<p>5 rows × 87 columns</p>\n",
       "</div>"
      ],
      "text/plain": [
       "                  date  final.output.concentrate_ag  \\\n",
       "0  2016-01-15 00:00:00                     6.055403   \n",
       "1  2016-01-15 01:00:00                     6.029369   \n",
       "2  2016-01-15 02:00:00                     6.055926   \n",
       "3  2016-01-15 03:00:00                     6.047977   \n",
       "4  2016-01-15 04:00:00                     6.148599   \n",
       "\n",
       "   final.output.concentrate_pb  final.output.concentrate_sol  \\\n",
       "0                     9.889648                      5.507324   \n",
       "1                     9.968944                      5.257781   \n",
       "2                    10.213995                      5.383759   \n",
       "3                     9.977019                      4.858634   \n",
       "4                    10.142511                      4.939416   \n",
       "\n",
       "   final.output.concentrate_au  final.output.recovery  final.output.tail_ag  \\\n",
       "0                    42.192020              70.541216             10.411962   \n",
       "1                    42.701629              69.266198             10.462676   \n",
       "2                    42.657501              68.116445             10.507046   \n",
       "3                    42.689819              68.347543             10.422762   \n",
       "4                    42.774141              66.927016             10.360302   \n",
       "\n",
       "   final.output.tail_pb  final.output.tail_sol  final.output.tail_au  ...  \\\n",
       "0              0.895447              16.904297              2.143149  ...   \n",
       "1              0.927452              16.634514              2.224930  ...   \n",
       "2              0.953716              16.208849              2.257889  ...   \n",
       "3              0.883763              16.532835              2.146849  ...   \n",
       "4              0.792826              16.525686              2.055292  ...   \n",
       "\n",
       "   secondary_cleaner.state.floatbank4_a_air  \\\n",
       "0                                 14.016835   \n",
       "1                                 13.992281   \n",
       "2                                 14.015015   \n",
       "3                                 14.036510   \n",
       "4                                 14.027298   \n",
       "\n",
       "   secondary_cleaner.state.floatbank4_a_level  \\\n",
       "0                                 -502.488007   \n",
       "1                                 -505.503262   \n",
       "2                                 -502.520901   \n",
       "3                                 -500.857308   \n",
       "4                                 -499.838632   \n",
       "\n",
       "   secondary_cleaner.state.floatbank4_b_air  \\\n",
       "0                                 12.099931   \n",
       "1                                 11.950531   \n",
       "2                                 11.912783   \n",
       "3                                 11.999550   \n",
       "4                                 11.953070   \n",
       "\n",
       "   secondary_cleaner.state.floatbank4_b_level  \\\n",
       "0                                 -504.715942   \n",
       "1                                 -501.331529   \n",
       "2                                 -501.133383   \n",
       "3                                 -501.193686   \n",
       "4                                 -501.053894   \n",
       "\n",
       "   secondary_cleaner.state.floatbank5_a_air  \\\n",
       "0                                  9.925633   \n",
       "1                                 10.039245   \n",
       "2                                 10.070913   \n",
       "3                                  9.970366   \n",
       "4                                  9.925709   \n",
       "\n",
       "   secondary_cleaner.state.floatbank5_a_level  \\\n",
       "0                                 -498.310211   \n",
       "1                                 -500.169983   \n",
       "2                                 -500.129135   \n",
       "3                                 -499.201640   \n",
       "4                                 -501.686727   \n",
       "\n",
       "   secondary_cleaner.state.floatbank5_b_air  \\\n",
       "0                                  8.079666   \n",
       "1                                  7.984757   \n",
       "2                                  8.013877   \n",
       "3                                  7.977324   \n",
       "4                                  7.894242   \n",
       "\n",
       "   secondary_cleaner.state.floatbank5_b_level  \\\n",
       "0                                 -500.470978   \n",
       "1                                 -500.582168   \n",
       "2                                 -500.517572   \n",
       "3                                 -500.255908   \n",
       "4                                 -500.356035   \n",
       "\n",
       "   secondary_cleaner.state.floatbank6_a_air  \\\n",
       "0                                 14.151341   \n",
       "1                                 13.998353   \n",
       "2                                 14.028663   \n",
       "3                                 14.005551   \n",
       "4                                 13.996647   \n",
       "\n",
       "   secondary_cleaner.state.floatbank6_a_level  \n",
       "0                                 -605.841980  \n",
       "1                                 -599.787184  \n",
       "2                                 -601.427363  \n",
       "3                                 -599.996129  \n",
       "4                                 -601.496691  \n",
       "\n",
       "[5 rows x 87 columns]"
      ]
     },
     "metadata": {},
     "output_type": "display_data"
    },
    {
     "name": "stdout",
     "output_type": "stream",
     "text": [
      "------------------------------------------------------------------------------------------\n",
      "Info:\n",
      "\n",
      "<class 'pandas.core.frame.DataFrame'>\n",
      "RangeIndex: 22716 entries, 0 to 22715\n",
      "Data columns (total 87 columns):\n",
      " #   Column                                              Non-Null Count  Dtype  \n",
      "---  ------                                              --------------  -----  \n",
      " 0   date                                                22716 non-null  object \n",
      " 1   final.output.concentrate_ag                         22627 non-null  float64\n",
      " 2   final.output.concentrate_pb                         22629 non-null  float64\n",
      " 3   final.output.concentrate_sol                        22331 non-null  float64\n",
      " 4   final.output.concentrate_au                         22630 non-null  float64\n",
      " 5   final.output.recovery                               20753 non-null  float64\n",
      " 6   final.output.tail_ag                                22633 non-null  float64\n",
      " 7   final.output.tail_pb                                22516 non-null  float64\n",
      " 8   final.output.tail_sol                               22445 non-null  float64\n",
      " 9   final.output.tail_au                                22635 non-null  float64\n",
      " 10  primary_cleaner.input.sulfate                       21107 non-null  float64\n",
      " 11  primary_cleaner.input.depressant                    21170 non-null  float64\n",
      " 12  primary_cleaner.input.feed_size                     22716 non-null  float64\n",
      " 13  primary_cleaner.input.xanthate                      21565 non-null  float64\n",
      " 14  primary_cleaner.output.concentrate_ag               22618 non-null  float64\n",
      " 15  primary_cleaner.output.concentrate_pb               22268 non-null  float64\n",
      " 16  primary_cleaner.output.concentrate_sol              21918 non-null  float64\n",
      " 17  primary_cleaner.output.concentrate_au               22618 non-null  float64\n",
      " 18  primary_cleaner.output.tail_ag                      22614 non-null  float64\n",
      " 19  primary_cleaner.output.tail_pb                      22594 non-null  float64\n",
      " 20  primary_cleaner.output.tail_sol                     22365 non-null  float64\n",
      " 21  primary_cleaner.output.tail_au                      22617 non-null  float64\n",
      " 22  primary_cleaner.state.floatbank8_a_air              22660 non-null  float64\n",
      " 23  primary_cleaner.state.floatbank8_a_level            22667 non-null  float64\n",
      " 24  primary_cleaner.state.floatbank8_b_air              22660 non-null  float64\n",
      " 25  primary_cleaner.state.floatbank8_b_level            22673 non-null  float64\n",
      " 26  primary_cleaner.state.floatbank8_c_air              22662 non-null  float64\n",
      " 27  primary_cleaner.state.floatbank8_c_level            22673 non-null  float64\n",
      " 28  primary_cleaner.state.floatbank8_d_air              22661 non-null  float64\n",
      " 29  primary_cleaner.state.floatbank8_d_level            22673 non-null  float64\n",
      " 30  rougher.calculation.sulfate_to_au_concentrate       22672 non-null  float64\n",
      " 31  rougher.calculation.floatbank10_sulfate_to_au_feed  22672 non-null  float64\n",
      " 32  rougher.calculation.floatbank11_sulfate_to_au_feed  22672 non-null  float64\n",
      " 33  rougher.calculation.au_pb_ratio                     21089 non-null  float64\n",
      " 34  rougher.input.feed_ag                               22618 non-null  float64\n",
      " 35  rougher.input.feed_pb                               22472 non-null  float64\n",
      " 36  rougher.input.feed_rate                             22163 non-null  float64\n",
      " 37  rougher.input.feed_size                             22277 non-null  float64\n",
      " 38  rougher.input.feed_sol                              22357 non-null  float64\n",
      " 39  rougher.input.feed_au                               22617 non-null  float64\n",
      " 40  rougher.input.floatbank10_sulfate                   21415 non-null  float64\n",
      " 41  rougher.input.floatbank10_xanthate                  22247 non-null  float64\n",
      " 42  rougher.input.floatbank11_sulfate                   22038 non-null  float64\n",
      " 43  rougher.input.floatbank11_xanthate                  20459 non-null  float64\n",
      " 44  rougher.output.concentrate_ag                       22618 non-null  float64\n",
      " 45  rougher.output.concentrate_pb                       22618 non-null  float64\n",
      " 46  rougher.output.concentrate_sol                      22526 non-null  float64\n",
      " 47  rougher.output.concentrate_au                       22618 non-null  float64\n",
      " 48  rougher.output.recovery                             19597 non-null  float64\n",
      " 49  rougher.output.tail_ag                              19979 non-null  float64\n",
      " 50  rougher.output.tail_pb                              22618 non-null  float64\n",
      " 51  rougher.output.tail_sol                             19980 non-null  float64\n",
      " 52  rougher.output.tail_au                              19980 non-null  float64\n",
      " 53  rougher.state.floatbank10_a_air                     22646 non-null  float64\n",
      " 54  rougher.state.floatbank10_a_level                   22647 non-null  float64\n",
      " 55  rougher.state.floatbank10_b_air                     22646 non-null  float64\n",
      " 56  rougher.state.floatbank10_b_level                   22647 non-null  float64\n",
      " 57  rougher.state.floatbank10_c_air                     22646 non-null  float64\n",
      " 58  rougher.state.floatbank10_c_level                   22654 non-null  float64\n",
      " 59  rougher.state.floatbank10_d_air                     22641 non-null  float64\n",
      " 60  rougher.state.floatbank10_d_level                   22649 non-null  float64\n",
      " 61  rougher.state.floatbank10_e_air                     22096 non-null  float64\n",
      " 62  rougher.state.floatbank10_e_level                   22649 non-null  float64\n",
      " 63  rougher.state.floatbank10_f_air                     22641 non-null  float64\n",
      " 64  rougher.state.floatbank10_f_level                   22642 non-null  float64\n",
      " 65  secondary_cleaner.output.tail_ag                    22616 non-null  float64\n",
      " 66  secondary_cleaner.output.tail_pb                    22600 non-null  float64\n",
      " 67  secondary_cleaner.output.tail_sol                   20501 non-null  float64\n",
      " 68  secondary_cleaner.output.tail_au                    22618 non-null  float64\n",
      " 69  secondary_cleaner.state.floatbank2_a_air            22333 non-null  float64\n",
      " 70  secondary_cleaner.state.floatbank2_a_level          22591 non-null  float64\n",
      " 71  secondary_cleaner.state.floatbank2_b_air            22538 non-null  float64\n",
      " 72  secondary_cleaner.state.floatbank2_b_level          22588 non-null  float64\n",
      " 73  secondary_cleaner.state.floatbank3_a_air            22585 non-null  float64\n",
      " 74  secondary_cleaner.state.floatbank3_a_level          22587 non-null  float64\n",
      " 75  secondary_cleaner.state.floatbank3_b_air            22592 non-null  float64\n",
      " 76  secondary_cleaner.state.floatbank3_b_level          22590 non-null  float64\n",
      " 77  secondary_cleaner.state.floatbank4_a_air            22571 non-null  float64\n",
      " 78  secondary_cleaner.state.floatbank4_a_level          22587 non-null  float64\n",
      " 79  secondary_cleaner.state.floatbank4_b_air            22608 non-null  float64\n",
      " 80  secondary_cleaner.state.floatbank4_b_level          22607 non-null  float64\n",
      " 81  secondary_cleaner.state.floatbank5_a_air            22615 non-null  float64\n",
      " 82  secondary_cleaner.state.floatbank5_a_level          22615 non-null  float64\n",
      " 83  secondary_cleaner.state.floatbank5_b_air            22615 non-null  float64\n",
      " 84  secondary_cleaner.state.floatbank5_b_level          22616 non-null  float64\n",
      " 85  secondary_cleaner.state.floatbank6_a_air            22597 non-null  float64\n",
      " 86  secondary_cleaner.state.floatbank6_a_level          22615 non-null  float64\n",
      "dtypes: float64(86), object(1)\n",
      "memory usage: 15.1+ MB\n",
      "None\n",
      "------------------------------------------------------------------------------------------\n",
      "Shape\n",
      "\n"
     ]
    },
    {
     "data": {
      "text/plain": [
       "(22716, 87)"
      ]
     },
     "metadata": {},
     "output_type": "display_data"
    }
   ],
   "source": [
    "df_info(df_full)"
   ]
  },
  {
   "cell_type": "markdown",
   "metadata": {},
   "source": [
    "### Check that recovery is calculated correctly."
   ]
  },
  {
   "cell_type": "code",
   "execution_count": 7,
   "metadata": {},
   "outputs": [],
   "source": [
    "#creating a function for calculating recovery:\n",
    "def calc_recovery(c, f, t):\n",
    "    recovery = ((c * (f - t)) / (f * (c - t))) * 100\n",
    "    recovery[recovery < 0] = np.nan\n",
    "    recovery[recovery > 100] = np.nan\n",
    "    return recovery"
   ]
  },
  {
   "cell_type": "code",
   "execution_count": 8,
   "metadata": {},
   "outputs": [],
   "source": [
    "#creating the column with calculations:\n",
    "df_train['rougher.output.calc'] = calc_recovery(df_train['rougher.output.concentrate_au'],\n",
    "           df_train['rougher.input.feed_au'], df_train['rougher.output.tail_au'])"
   ]
  },
  {
   "cell_type": "code",
   "execution_count": 9,
   "metadata": {},
   "outputs": [
    {
     "data": {
      "text/html": [
       "<div>\n",
       "<style scoped>\n",
       "    .dataframe tbody tr th:only-of-type {\n",
       "        vertical-align: middle;\n",
       "    }\n",
       "\n",
       "    .dataframe tbody tr th {\n",
       "        vertical-align: top;\n",
       "    }\n",
       "\n",
       "    .dataframe thead th {\n",
       "        text-align: right;\n",
       "    }\n",
       "</style>\n",
       "<table border=\"1\" class=\"dataframe\">\n",
       "  <thead>\n",
       "    <tr style=\"text-align: right;\">\n",
       "      <th></th>\n",
       "      <th>rougher.output.recovery</th>\n",
       "      <th>rougher.output.calc</th>\n",
       "    </tr>\n",
       "  </thead>\n",
       "  <tbody>\n",
       "    <tr>\n",
       "      <th>0</th>\n",
       "      <td>87.107763</td>\n",
       "      <td>87.107763</td>\n",
       "    </tr>\n",
       "    <tr>\n",
       "      <th>1</th>\n",
       "      <td>86.843261</td>\n",
       "      <td>86.843261</td>\n",
       "    </tr>\n",
       "    <tr>\n",
       "      <th>2</th>\n",
       "      <td>86.842308</td>\n",
       "      <td>86.842308</td>\n",
       "    </tr>\n",
       "    <tr>\n",
       "      <th>3</th>\n",
       "      <td>87.226430</td>\n",
       "      <td>87.226430</td>\n",
       "    </tr>\n",
       "    <tr>\n",
       "      <th>4</th>\n",
       "      <td>86.688794</td>\n",
       "      <td>86.688794</td>\n",
       "    </tr>\n",
       "  </tbody>\n",
       "</table>\n",
       "</div>"
      ],
      "text/plain": [
       "   rougher.output.recovery  rougher.output.calc\n",
       "0                87.107763            87.107763\n",
       "1                86.843261            86.843261\n",
       "2                86.842308            86.842308\n",
       "3                87.226430            87.226430\n",
       "4                86.688794            86.688794"
      ]
     },
     "execution_count": 9,
     "metadata": {},
     "output_type": "execute_result"
    }
   ],
   "source": [
    "#comparing results:\n",
    "df_train[['rougher.output.recovery', 'rougher.output.calc']].head()\n"
   ]
  },
  {
   "cell_type": "code",
   "execution_count": 10,
   "metadata": {},
   "outputs": [],
   "source": [
    "#filling NA with 0 for MAE calculations:\n",
    "df_train['rougher.output.recovery'].fillna(0, inplace=True)\n",
    "df_train['rougher.output.calc'].fillna(0, inplace=True)"
   ]
  },
  {
   "cell_type": "code",
   "execution_count": 11,
   "metadata": {},
   "outputs": [
    {
     "data": {
      "text/plain": [
       "8.00350954615662e-15"
      ]
     },
     "execution_count": 11,
     "metadata": {},
     "output_type": "execute_result"
    }
   ],
   "source": [
    "mean_absolute_error(df_train['rougher.output.recovery'], df_train['rougher.output.calc'])"
   ]
  },
  {
   "cell_type": "markdown",
   "metadata": {},
   "source": [
    "The MAE value is low which means that means that recovery calculations is corect"
   ]
  },
  {
   "cell_type": "markdown",
   "metadata": {},
   "source": [
    "### Analyze the features not available in the test set."
   ]
  },
  {
   "cell_type": "code",
   "execution_count": 12,
   "metadata": {},
   "outputs": [],
   "source": [
    "test_columns = df_test.columns\n",
    "df_non_test_columns = df_full.drop(test_columns, axis=1)"
   ]
  },
  {
   "cell_type": "code",
   "execution_count": 13,
   "metadata": {},
   "outputs": [],
   "source": [
    "df_test = df_test.merge(df_full[['date', 'rougher.output.recovery', 'final.output.recovery']], \n",
    "                           how = 'left', on = 'date')"
   ]
  },
  {
   "cell_type": "code",
   "execution_count": 14,
   "metadata": {},
   "outputs": [
    {
     "name": "stdout",
     "output_type": "stream",
     "text": [
      "DataFrame:\n"
     ]
    },
    {
     "data": {
      "text/html": [
       "<div>\n",
       "<style scoped>\n",
       "    .dataframe tbody tr th:only-of-type {\n",
       "        vertical-align: middle;\n",
       "    }\n",
       "\n",
       "    .dataframe tbody tr th {\n",
       "        vertical-align: top;\n",
       "    }\n",
       "\n",
       "    .dataframe thead th {\n",
       "        text-align: right;\n",
       "    }\n",
       "</style>\n",
       "<table border=\"1\" class=\"dataframe\">\n",
       "  <thead>\n",
       "    <tr style=\"text-align: right;\">\n",
       "      <th></th>\n",
       "      <th>final.output.concentrate_ag</th>\n",
       "      <th>final.output.concentrate_pb</th>\n",
       "      <th>final.output.concentrate_sol</th>\n",
       "      <th>final.output.concentrate_au</th>\n",
       "      <th>final.output.recovery</th>\n",
       "      <th>final.output.tail_ag</th>\n",
       "      <th>final.output.tail_pb</th>\n",
       "      <th>final.output.tail_sol</th>\n",
       "      <th>final.output.tail_au</th>\n",
       "      <th>primary_cleaner.output.concentrate_ag</th>\n",
       "      <th>...</th>\n",
       "      <th>rougher.output.concentrate_au</th>\n",
       "      <th>rougher.output.recovery</th>\n",
       "      <th>rougher.output.tail_ag</th>\n",
       "      <th>rougher.output.tail_pb</th>\n",
       "      <th>rougher.output.tail_sol</th>\n",
       "      <th>rougher.output.tail_au</th>\n",
       "      <th>secondary_cleaner.output.tail_ag</th>\n",
       "      <th>secondary_cleaner.output.tail_pb</th>\n",
       "      <th>secondary_cleaner.output.tail_sol</th>\n",
       "      <th>secondary_cleaner.output.tail_au</th>\n",
       "    </tr>\n",
       "  </thead>\n",
       "  <tbody>\n",
       "    <tr>\n",
       "      <th>0</th>\n",
       "      <td>6.055403</td>\n",
       "      <td>9.889648</td>\n",
       "      <td>5.507324</td>\n",
       "      <td>42.192020</td>\n",
       "      <td>70.541216</td>\n",
       "      <td>10.411962</td>\n",
       "      <td>0.895447</td>\n",
       "      <td>16.904297</td>\n",
       "      <td>2.143149</td>\n",
       "      <td>8.547551</td>\n",
       "      <td>...</td>\n",
       "      <td>19.793808</td>\n",
       "      <td>87.107763</td>\n",
       "      <td>5.008018</td>\n",
       "      <td>0.508728</td>\n",
       "      <td>19.154297</td>\n",
       "      <td>1.170244</td>\n",
       "      <td>14.500184</td>\n",
       "      <td>4.694824</td>\n",
       "      <td>8.764648</td>\n",
       "      <td>2.606185</td>\n",
       "    </tr>\n",
       "    <tr>\n",
       "      <th>1</th>\n",
       "      <td>6.029369</td>\n",
       "      <td>9.968944</td>\n",
       "      <td>5.257781</td>\n",
       "      <td>42.701629</td>\n",
       "      <td>69.266198</td>\n",
       "      <td>10.462676</td>\n",
       "      <td>0.927452</td>\n",
       "      <td>16.634514</td>\n",
       "      <td>2.224930</td>\n",
       "      <td>8.558743</td>\n",
       "      <td>...</td>\n",
       "      <td>20.050975</td>\n",
       "      <td>86.843261</td>\n",
       "      <td>4.955378</td>\n",
       "      <td>0.536689</td>\n",
       "      <td>18.965234</td>\n",
       "      <td>1.184827</td>\n",
       "      <td>14.265474</td>\n",
       "      <td>4.592547</td>\n",
       "      <td>9.001494</td>\n",
       "      <td>2.488248</td>\n",
       "    </tr>\n",
       "    <tr>\n",
       "      <th>2</th>\n",
       "      <td>6.055926</td>\n",
       "      <td>10.213995</td>\n",
       "      <td>5.383759</td>\n",
       "      <td>42.657501</td>\n",
       "      <td>68.116445</td>\n",
       "      <td>10.507046</td>\n",
       "      <td>0.953716</td>\n",
       "      <td>16.208849</td>\n",
       "      <td>2.257889</td>\n",
       "      <td>8.603505</td>\n",
       "      <td>...</td>\n",
       "      <td>19.737170</td>\n",
       "      <td>86.842308</td>\n",
       "      <td>4.843460</td>\n",
       "      <td>0.546416</td>\n",
       "      <td>18.808533</td>\n",
       "      <td>1.162562</td>\n",
       "      <td>14.115662</td>\n",
       "      <td>4.624775</td>\n",
       "      <td>8.842896</td>\n",
       "      <td>2.458187</td>\n",
       "    </tr>\n",
       "    <tr>\n",
       "      <th>3</th>\n",
       "      <td>6.047977</td>\n",
       "      <td>9.977019</td>\n",
       "      <td>4.858634</td>\n",
       "      <td>42.689819</td>\n",
       "      <td>68.347543</td>\n",
       "      <td>10.422762</td>\n",
       "      <td>0.883763</td>\n",
       "      <td>16.532835</td>\n",
       "      <td>2.146849</td>\n",
       "      <td>7.221879</td>\n",
       "      <td>...</td>\n",
       "      <td>19.320810</td>\n",
       "      <td>87.226430</td>\n",
       "      <td>4.655288</td>\n",
       "      <td>0.542525</td>\n",
       "      <td>19.330200</td>\n",
       "      <td>1.079755</td>\n",
       "      <td>13.732071</td>\n",
       "      <td>4.482453</td>\n",
       "      <td>9.122857</td>\n",
       "      <td>2.322062</td>\n",
       "    </tr>\n",
       "    <tr>\n",
       "      <th>4</th>\n",
       "      <td>6.148599</td>\n",
       "      <td>10.142511</td>\n",
       "      <td>4.939416</td>\n",
       "      <td>42.774141</td>\n",
       "      <td>66.927016</td>\n",
       "      <td>10.360302</td>\n",
       "      <td>0.792826</td>\n",
       "      <td>16.525686</td>\n",
       "      <td>2.055292</td>\n",
       "      <td>9.089428</td>\n",
       "      <td>...</td>\n",
       "      <td>19.216101</td>\n",
       "      <td>86.688794</td>\n",
       "      <td>4.552800</td>\n",
       "      <td>0.515438</td>\n",
       "      <td>19.267422</td>\n",
       "      <td>1.012642</td>\n",
       "      <td>14.079996</td>\n",
       "      <td>4.470737</td>\n",
       "      <td>8.871028</td>\n",
       "      <td>2.330448</td>\n",
       "    </tr>\n",
       "  </tbody>\n",
       "</table>\n",
       "<p>5 rows × 34 columns</p>\n",
       "</div>"
      ],
      "text/plain": [
       "   final.output.concentrate_ag  final.output.concentrate_pb  \\\n",
       "0                     6.055403                     9.889648   \n",
       "1                     6.029369                     9.968944   \n",
       "2                     6.055926                    10.213995   \n",
       "3                     6.047977                     9.977019   \n",
       "4                     6.148599                    10.142511   \n",
       "\n",
       "   final.output.concentrate_sol  final.output.concentrate_au  \\\n",
       "0                      5.507324                    42.192020   \n",
       "1                      5.257781                    42.701629   \n",
       "2                      5.383759                    42.657501   \n",
       "3                      4.858634                    42.689819   \n",
       "4                      4.939416                    42.774141   \n",
       "\n",
       "   final.output.recovery  final.output.tail_ag  final.output.tail_pb  \\\n",
       "0              70.541216             10.411962              0.895447   \n",
       "1              69.266198             10.462676              0.927452   \n",
       "2              68.116445             10.507046              0.953716   \n",
       "3              68.347543             10.422762              0.883763   \n",
       "4              66.927016             10.360302              0.792826   \n",
       "\n",
       "   final.output.tail_sol  final.output.tail_au  \\\n",
       "0              16.904297              2.143149   \n",
       "1              16.634514              2.224930   \n",
       "2              16.208849              2.257889   \n",
       "3              16.532835              2.146849   \n",
       "4              16.525686              2.055292   \n",
       "\n",
       "   primary_cleaner.output.concentrate_ag  ...  rougher.output.concentrate_au  \\\n",
       "0                               8.547551  ...                      19.793808   \n",
       "1                               8.558743  ...                      20.050975   \n",
       "2                               8.603505  ...                      19.737170   \n",
       "3                               7.221879  ...                      19.320810   \n",
       "4                               9.089428  ...                      19.216101   \n",
       "\n",
       "   rougher.output.recovery  rougher.output.tail_ag  rougher.output.tail_pb  \\\n",
       "0                87.107763                5.008018                0.508728   \n",
       "1                86.843261                4.955378                0.536689   \n",
       "2                86.842308                4.843460                0.546416   \n",
       "3                87.226430                4.655288                0.542525   \n",
       "4                86.688794                4.552800                0.515438   \n",
       "\n",
       "   rougher.output.tail_sol  rougher.output.tail_au  \\\n",
       "0                19.154297                1.170244   \n",
       "1                18.965234                1.184827   \n",
       "2                18.808533                1.162562   \n",
       "3                19.330200                1.079755   \n",
       "4                19.267422                1.012642   \n",
       "\n",
       "   secondary_cleaner.output.tail_ag  secondary_cleaner.output.tail_pb  \\\n",
       "0                         14.500184                          4.694824   \n",
       "1                         14.265474                          4.592547   \n",
       "2                         14.115662                          4.624775   \n",
       "3                         13.732071                          4.482453   \n",
       "4                         14.079996                          4.470737   \n",
       "\n",
       "   secondary_cleaner.output.tail_sol  secondary_cleaner.output.tail_au  \n",
       "0                           8.764648                          2.606185  \n",
       "1                           9.001494                          2.488248  \n",
       "2                           8.842896                          2.458187  \n",
       "3                           9.122857                          2.322062  \n",
       "4                           8.871028                          2.330448  \n",
       "\n",
       "[5 rows x 34 columns]"
      ]
     },
     "metadata": {},
     "output_type": "display_data"
    },
    {
     "name": "stdout",
     "output_type": "stream",
     "text": [
      "------------------------------------------------------------------------------------------\n",
      "Info:\n",
      "\n",
      "<class 'pandas.core.frame.DataFrame'>\n",
      "RangeIndex: 22716 entries, 0 to 22715\n",
      "Data columns (total 34 columns):\n",
      " #   Column                                              Non-Null Count  Dtype  \n",
      "---  ------                                              --------------  -----  \n",
      " 0   final.output.concentrate_ag                         22627 non-null  float64\n",
      " 1   final.output.concentrate_pb                         22629 non-null  float64\n",
      " 2   final.output.concentrate_sol                        22331 non-null  float64\n",
      " 3   final.output.concentrate_au                         22630 non-null  float64\n",
      " 4   final.output.recovery                               20753 non-null  float64\n",
      " 5   final.output.tail_ag                                22633 non-null  float64\n",
      " 6   final.output.tail_pb                                22516 non-null  float64\n",
      " 7   final.output.tail_sol                               22445 non-null  float64\n",
      " 8   final.output.tail_au                                22635 non-null  float64\n",
      " 9   primary_cleaner.output.concentrate_ag               22618 non-null  float64\n",
      " 10  primary_cleaner.output.concentrate_pb               22268 non-null  float64\n",
      " 11  primary_cleaner.output.concentrate_sol              21918 non-null  float64\n",
      " 12  primary_cleaner.output.concentrate_au               22618 non-null  float64\n",
      " 13  primary_cleaner.output.tail_ag                      22614 non-null  float64\n",
      " 14  primary_cleaner.output.tail_pb                      22594 non-null  float64\n",
      " 15  primary_cleaner.output.tail_sol                     22365 non-null  float64\n",
      " 16  primary_cleaner.output.tail_au                      22617 non-null  float64\n",
      " 17  rougher.calculation.sulfate_to_au_concentrate       22672 non-null  float64\n",
      " 18  rougher.calculation.floatbank10_sulfate_to_au_feed  22672 non-null  float64\n",
      " 19  rougher.calculation.floatbank11_sulfate_to_au_feed  22672 non-null  float64\n",
      " 20  rougher.calculation.au_pb_ratio                     21089 non-null  float64\n",
      " 21  rougher.output.concentrate_ag                       22618 non-null  float64\n",
      " 22  rougher.output.concentrate_pb                       22618 non-null  float64\n",
      " 23  rougher.output.concentrate_sol                      22526 non-null  float64\n",
      " 24  rougher.output.concentrate_au                       22618 non-null  float64\n",
      " 25  rougher.output.recovery                             19597 non-null  float64\n",
      " 26  rougher.output.tail_ag                              19979 non-null  float64\n",
      " 27  rougher.output.tail_pb                              22618 non-null  float64\n",
      " 28  rougher.output.tail_sol                             19980 non-null  float64\n",
      " 29  rougher.output.tail_au                              19980 non-null  float64\n",
      " 30  secondary_cleaner.output.tail_ag                    22616 non-null  float64\n",
      " 31  secondary_cleaner.output.tail_pb                    22600 non-null  float64\n",
      " 32  secondary_cleaner.output.tail_sol                   20501 non-null  float64\n",
      " 33  secondary_cleaner.output.tail_au                    22618 non-null  float64\n",
      "dtypes: float64(34)\n",
      "memory usage: 5.9 MB\n",
      "None\n",
      "------------------------------------------------------------------------------------------\n",
      "Shape\n",
      "\n"
     ]
    },
    {
     "data": {
      "text/plain": [
       "(22716, 34)"
      ]
     },
     "metadata": {},
     "output_type": "display_data"
    }
   ],
   "source": [
    "df_info(df_non_test_columns)"
   ]
  },
  {
   "cell_type": "markdown",
   "metadata": {},
   "source": [
    "Apparently, we are dealing with the output values of raw materials and other chemicals obtained at various stages of raw material enrichment."
   ]
  },
  {
   "cell_type": "markdown",
   "metadata": {},
   "source": [
    "###  Perform data preprocessing."
   ]
  },
  {
   "cell_type": "code",
   "execution_count": 15,
   "metadata": {},
   "outputs": [],
   "source": [
    "df_full['date'] = pd.to_datetime(df_full['date'])\n",
    "df_train['date'] = pd.to_datetime(df_train['date'])\n",
    "df_test['date'] = pd.to_datetime(df_test['date'])"
   ]
  },
  {
   "cell_type": "code",
   "execution_count": 16,
   "metadata": {},
   "outputs": [
    {
     "data": {
      "text/html": [
       "<div>\n",
       "<style scoped>\n",
       "    .dataframe tbody tr th:only-of-type {\n",
       "        vertical-align: middle;\n",
       "    }\n",
       "\n",
       "    .dataframe tbody tr th {\n",
       "        vertical-align: top;\n",
       "    }\n",
       "\n",
       "    .dataframe thead th {\n",
       "        text-align: right;\n",
       "    }\n",
       "</style>\n",
       "<table border=\"1\" class=\"dataframe\">\n",
       "  <thead>\n",
       "    <tr style=\"text-align: right;\">\n",
       "      <th></th>\n",
       "      <th>date</th>\n",
       "      <th>final.output.concentrate_ag</th>\n",
       "      <th>final.output.concentrate_pb</th>\n",
       "      <th>final.output.concentrate_sol</th>\n",
       "      <th>final.output.concentrate_au</th>\n",
       "      <th>final.output.recovery</th>\n",
       "      <th>final.output.tail_ag</th>\n",
       "      <th>final.output.tail_pb</th>\n",
       "      <th>final.output.tail_sol</th>\n",
       "      <th>final.output.tail_au</th>\n",
       "      <th>...</th>\n",
       "      <th>secondary_cleaner.state.floatbank4_a_air</th>\n",
       "      <th>secondary_cleaner.state.floatbank4_a_level</th>\n",
       "      <th>secondary_cleaner.state.floatbank4_b_air</th>\n",
       "      <th>secondary_cleaner.state.floatbank4_b_level</th>\n",
       "      <th>secondary_cleaner.state.floatbank5_a_air</th>\n",
       "      <th>secondary_cleaner.state.floatbank5_a_level</th>\n",
       "      <th>secondary_cleaner.state.floatbank5_b_air</th>\n",
       "      <th>secondary_cleaner.state.floatbank5_b_level</th>\n",
       "      <th>secondary_cleaner.state.floatbank6_a_air</th>\n",
       "      <th>secondary_cleaner.state.floatbank6_a_level</th>\n",
       "    </tr>\n",
       "  </thead>\n",
       "  <tbody>\n",
       "    <tr>\n",
       "      <th>0</th>\n",
       "      <td>2016-01-15 00:00:00</td>\n",
       "      <td>6.055403</td>\n",
       "      <td>9.889648</td>\n",
       "      <td>5.507324</td>\n",
       "      <td>42.192020</td>\n",
       "      <td>70.541216</td>\n",
       "      <td>10.411962</td>\n",
       "      <td>0.895447</td>\n",
       "      <td>16.904297</td>\n",
       "      <td>2.143149</td>\n",
       "      <td>...</td>\n",
       "      <td>14.016835</td>\n",
       "      <td>-502.488007</td>\n",
       "      <td>12.099931</td>\n",
       "      <td>-504.715942</td>\n",
       "      <td>9.925633</td>\n",
       "      <td>-498.310211</td>\n",
       "      <td>8.079666</td>\n",
       "      <td>-500.470978</td>\n",
       "      <td>14.151341</td>\n",
       "      <td>-605.841980</td>\n",
       "    </tr>\n",
       "    <tr>\n",
       "      <th>1</th>\n",
       "      <td>2016-01-15 01:00:00</td>\n",
       "      <td>6.029369</td>\n",
       "      <td>9.968944</td>\n",
       "      <td>5.257781</td>\n",
       "      <td>42.701629</td>\n",
       "      <td>69.266198</td>\n",
       "      <td>10.462676</td>\n",
       "      <td>0.927452</td>\n",
       "      <td>16.634514</td>\n",
       "      <td>2.224930</td>\n",
       "      <td>...</td>\n",
       "      <td>13.992281</td>\n",
       "      <td>-505.503262</td>\n",
       "      <td>11.950531</td>\n",
       "      <td>-501.331529</td>\n",
       "      <td>10.039245</td>\n",
       "      <td>-500.169983</td>\n",
       "      <td>7.984757</td>\n",
       "      <td>-500.582168</td>\n",
       "      <td>13.998353</td>\n",
       "      <td>-599.787184</td>\n",
       "    </tr>\n",
       "    <tr>\n",
       "      <th>2</th>\n",
       "      <td>2016-01-15 02:00:00</td>\n",
       "      <td>6.055926</td>\n",
       "      <td>10.213995</td>\n",
       "      <td>5.383759</td>\n",
       "      <td>42.657501</td>\n",
       "      <td>68.116445</td>\n",
       "      <td>10.507046</td>\n",
       "      <td>0.953716</td>\n",
       "      <td>16.208849</td>\n",
       "      <td>2.257889</td>\n",
       "      <td>...</td>\n",
       "      <td>14.015015</td>\n",
       "      <td>-502.520901</td>\n",
       "      <td>11.912783</td>\n",
       "      <td>-501.133383</td>\n",
       "      <td>10.070913</td>\n",
       "      <td>-500.129135</td>\n",
       "      <td>8.013877</td>\n",
       "      <td>-500.517572</td>\n",
       "      <td>14.028663</td>\n",
       "      <td>-601.427363</td>\n",
       "    </tr>\n",
       "    <tr>\n",
       "      <th>3</th>\n",
       "      <td>2016-01-15 03:00:00</td>\n",
       "      <td>6.047977</td>\n",
       "      <td>9.977019</td>\n",
       "      <td>4.858634</td>\n",
       "      <td>42.689819</td>\n",
       "      <td>68.347543</td>\n",
       "      <td>10.422762</td>\n",
       "      <td>0.883763</td>\n",
       "      <td>16.532835</td>\n",
       "      <td>2.146849</td>\n",
       "      <td>...</td>\n",
       "      <td>14.036510</td>\n",
       "      <td>-500.857308</td>\n",
       "      <td>11.999550</td>\n",
       "      <td>-501.193686</td>\n",
       "      <td>9.970366</td>\n",
       "      <td>-499.201640</td>\n",
       "      <td>7.977324</td>\n",
       "      <td>-500.255908</td>\n",
       "      <td>14.005551</td>\n",
       "      <td>-599.996129</td>\n",
       "    </tr>\n",
       "    <tr>\n",
       "      <th>4</th>\n",
       "      <td>2016-01-15 04:00:00</td>\n",
       "      <td>6.148599</td>\n",
       "      <td>10.142511</td>\n",
       "      <td>4.939416</td>\n",
       "      <td>42.774141</td>\n",
       "      <td>66.927016</td>\n",
       "      <td>10.360302</td>\n",
       "      <td>0.792826</td>\n",
       "      <td>16.525686</td>\n",
       "      <td>2.055292</td>\n",
       "      <td>...</td>\n",
       "      <td>14.027298</td>\n",
       "      <td>-499.838632</td>\n",
       "      <td>11.953070</td>\n",
       "      <td>-501.053894</td>\n",
       "      <td>9.925709</td>\n",
       "      <td>-501.686727</td>\n",
       "      <td>7.894242</td>\n",
       "      <td>-500.356035</td>\n",
       "      <td>13.996647</td>\n",
       "      <td>-601.496691</td>\n",
       "    </tr>\n",
       "  </tbody>\n",
       "</table>\n",
       "<p>5 rows × 87 columns</p>\n",
       "</div>"
      ],
      "text/plain": [
       "                 date  final.output.concentrate_ag  \\\n",
       "0 2016-01-15 00:00:00                     6.055403   \n",
       "1 2016-01-15 01:00:00                     6.029369   \n",
       "2 2016-01-15 02:00:00                     6.055926   \n",
       "3 2016-01-15 03:00:00                     6.047977   \n",
       "4 2016-01-15 04:00:00                     6.148599   \n",
       "\n",
       "   final.output.concentrate_pb  final.output.concentrate_sol  \\\n",
       "0                     9.889648                      5.507324   \n",
       "1                     9.968944                      5.257781   \n",
       "2                    10.213995                      5.383759   \n",
       "3                     9.977019                      4.858634   \n",
       "4                    10.142511                      4.939416   \n",
       "\n",
       "   final.output.concentrate_au  final.output.recovery  final.output.tail_ag  \\\n",
       "0                    42.192020              70.541216             10.411962   \n",
       "1                    42.701629              69.266198             10.462676   \n",
       "2                    42.657501              68.116445             10.507046   \n",
       "3                    42.689819              68.347543             10.422762   \n",
       "4                    42.774141              66.927016             10.360302   \n",
       "\n",
       "   final.output.tail_pb  final.output.tail_sol  final.output.tail_au  ...  \\\n",
       "0              0.895447              16.904297              2.143149  ...   \n",
       "1              0.927452              16.634514              2.224930  ...   \n",
       "2              0.953716              16.208849              2.257889  ...   \n",
       "3              0.883763              16.532835              2.146849  ...   \n",
       "4              0.792826              16.525686              2.055292  ...   \n",
       "\n",
       "   secondary_cleaner.state.floatbank4_a_air  \\\n",
       "0                                 14.016835   \n",
       "1                                 13.992281   \n",
       "2                                 14.015015   \n",
       "3                                 14.036510   \n",
       "4                                 14.027298   \n",
       "\n",
       "   secondary_cleaner.state.floatbank4_a_level  \\\n",
       "0                                 -502.488007   \n",
       "1                                 -505.503262   \n",
       "2                                 -502.520901   \n",
       "3                                 -500.857308   \n",
       "4                                 -499.838632   \n",
       "\n",
       "   secondary_cleaner.state.floatbank4_b_air  \\\n",
       "0                                 12.099931   \n",
       "1                                 11.950531   \n",
       "2                                 11.912783   \n",
       "3                                 11.999550   \n",
       "4                                 11.953070   \n",
       "\n",
       "   secondary_cleaner.state.floatbank4_b_level  \\\n",
       "0                                 -504.715942   \n",
       "1                                 -501.331529   \n",
       "2                                 -501.133383   \n",
       "3                                 -501.193686   \n",
       "4                                 -501.053894   \n",
       "\n",
       "   secondary_cleaner.state.floatbank5_a_air  \\\n",
       "0                                  9.925633   \n",
       "1                                 10.039245   \n",
       "2                                 10.070913   \n",
       "3                                  9.970366   \n",
       "4                                  9.925709   \n",
       "\n",
       "   secondary_cleaner.state.floatbank5_a_level  \\\n",
       "0                                 -498.310211   \n",
       "1                                 -500.169983   \n",
       "2                                 -500.129135   \n",
       "3                                 -499.201640   \n",
       "4                                 -501.686727   \n",
       "\n",
       "   secondary_cleaner.state.floatbank5_b_air  \\\n",
       "0                                  8.079666   \n",
       "1                                  7.984757   \n",
       "2                                  8.013877   \n",
       "3                                  7.977324   \n",
       "4                                  7.894242   \n",
       "\n",
       "   secondary_cleaner.state.floatbank5_b_level  \\\n",
       "0                                 -500.470978   \n",
       "1                                 -500.582168   \n",
       "2                                 -500.517572   \n",
       "3                                 -500.255908   \n",
       "4                                 -500.356035   \n",
       "\n",
       "   secondary_cleaner.state.floatbank6_a_air  \\\n",
       "0                                 14.151341   \n",
       "1                                 13.998353   \n",
       "2                                 14.028663   \n",
       "3                                 14.005551   \n",
       "4                                 13.996647   \n",
       "\n",
       "   secondary_cleaner.state.floatbank6_a_level  \n",
       "0                                 -605.841980  \n",
       "1                                 -599.787184  \n",
       "2                                 -601.427363  \n",
       "3                                 -599.996129  \n",
       "4                                 -601.496691  \n",
       "\n",
       "[5 rows x 87 columns]"
      ]
     },
     "execution_count": 16,
     "metadata": {},
     "output_type": "execute_result"
    }
   ],
   "source": [
    "df_full.head()"
   ]
  },
  {
   "cell_type": "code",
   "execution_count": 17,
   "metadata": {},
   "outputs": [
    {
     "data": {
      "text/plain": [
       "date                                            0\n",
       "final.output.concentrate_ag                    89\n",
       "final.output.concentrate_pb                    87\n",
       "final.output.concentrate_sol                  385\n",
       "final.output.concentrate_au                    86\n",
       "                                             ... \n",
       "secondary_cleaner.state.floatbank5_a_level    101\n",
       "secondary_cleaner.state.floatbank5_b_air      101\n",
       "secondary_cleaner.state.floatbank5_b_level    100\n",
       "secondary_cleaner.state.floatbank6_a_air      119\n",
       "secondary_cleaner.state.floatbank6_a_level    101\n",
       "Length: 87, dtype: int64"
      ]
     },
     "execution_count": 17,
     "metadata": {},
     "output_type": "execute_result"
    }
   ],
   "source": [
    "df_full.isna().sum()"
   ]
  },
  {
   "cell_type": "markdown",
   "metadata": {},
   "source": [
    "As can be seen, all columns have missing values. The omissions are most likely due to different stages of enrichment.\n",
    "\n",
    "First, take the training sample and remove all columns that do not appear in the test sample:"
   ]
  },
  {
   "cell_type": "code",
   "execution_count": 18,
   "metadata": {},
   "outputs": [
    {
     "data": {
      "text/plain": [
       "(16860, 55)"
      ]
     },
     "execution_count": 18,
     "metadata": {},
     "output_type": "execute_result"
    }
   ],
   "source": [
    "df_train = df_train[df_test.columns]\n",
    "df_train.shape"
   ]
  },
  {
   "cell_type": "code",
   "execution_count": 19,
   "metadata": {},
   "outputs": [
    {
     "data": {
      "text/plain": [
       "date                                             0\n",
       "primary_cleaner.input.sulfate                 1307\n",
       "primary_cleaner.input.depressant              1262\n",
       "primary_cleaner.input.feed_size                  0\n",
       "primary_cleaner.input.xanthate                 985\n",
       "primary_cleaner.state.floatbank8_a_air          40\n",
       "primary_cleaner.state.floatbank8_a_level        33\n",
       "primary_cleaner.state.floatbank8_b_air          40\n",
       "primary_cleaner.state.floatbank8_b_level        27\n",
       "primary_cleaner.state.floatbank8_c_air          38\n",
       "primary_cleaner.state.floatbank8_c_level        27\n",
       "primary_cleaner.state.floatbank8_d_air          39\n",
       "primary_cleaner.state.floatbank8_d_level        27\n",
       "rougher.input.feed_ag                           82\n",
       "rougher.input.feed_pb                          228\n",
       "rougher.input.feed_rate                        513\n",
       "rougher.input.feed_size                        417\n",
       "rougher.input.feed_sol                         292\n",
       "rougher.input.feed_au                           83\n",
       "rougher.input.floatbank10_sulfate             1044\n",
       "rougher.input.floatbank10_xanthate             346\n",
       "rougher.input.floatbank11_sulfate              623\n",
       "rougher.input.floatbank11_xanthate            1904\n",
       "rougher.state.floatbank10_a_air                 53\n",
       "rougher.state.floatbank10_a_level               53\n",
       "rougher.state.floatbank10_b_air                 53\n",
       "rougher.state.floatbank10_b_level               53\n",
       "rougher.state.floatbank10_c_air                 53\n",
       "rougher.state.floatbank10_c_level               46\n",
       "rougher.state.floatbank10_d_air                 58\n",
       "rougher.state.floatbank10_d_level               51\n",
       "rougher.state.floatbank10_e_air                603\n",
       "rougher.state.floatbank10_e_level               51\n",
       "rougher.state.floatbank10_f_air                 58\n",
       "rougher.state.floatbank10_f_level               58\n",
       "secondary_cleaner.state.floatbank2_a_air       363\n",
       "secondary_cleaner.state.floatbank2_a_level     109\n",
       "secondary_cleaner.state.floatbank2_b_air       155\n",
       "secondary_cleaner.state.floatbank2_b_level     112\n",
       "secondary_cleaner.state.floatbank3_a_air        97\n",
       "secondary_cleaner.state.floatbank3_a_level     113\n",
       "secondary_cleaner.state.floatbank3_b_air       108\n",
       "secondary_cleaner.state.floatbank3_b_level     110\n",
       "secondary_cleaner.state.floatbank4_a_air       129\n",
       "secondary_cleaner.state.floatbank4_a_level     113\n",
       "secondary_cleaner.state.floatbank4_b_air        92\n",
       "secondary_cleaner.state.floatbank4_b_level      93\n",
       "secondary_cleaner.state.floatbank5_a_air        85\n",
       "secondary_cleaner.state.floatbank5_a_level      85\n",
       "secondary_cleaner.state.floatbank5_b_air        85\n",
       "secondary_cleaner.state.floatbank5_b_level      84\n",
       "secondary_cleaner.state.floatbank6_a_air       103\n",
       "secondary_cleaner.state.floatbank6_a_level      85\n",
       "rougher.output.recovery                          0\n",
       "final.output.recovery                         1521\n",
       "dtype: int64"
      ]
     },
     "execution_count": 19,
     "metadata": {},
     "output_type": "execute_result"
    }
   ],
   "source": [
    "#checking missing values in test and train sets:\n",
    "df_train.isna().sum()"
   ]
  },
  {
   "cell_type": "code",
   "execution_count": 20,
   "metadata": {},
   "outputs": [
    {
     "data": {
      "text/plain": [
       "date                                            0\n",
       "primary_cleaner.input.sulfate                 302\n",
       "primary_cleaner.input.depressant              284\n",
       "primary_cleaner.input.feed_size                 0\n",
       "primary_cleaner.input.xanthate                166\n",
       "primary_cleaner.state.floatbank8_a_air         16\n",
       "primary_cleaner.state.floatbank8_a_level       16\n",
       "primary_cleaner.state.floatbank8_b_air         16\n",
       "primary_cleaner.state.floatbank8_b_level       16\n",
       "primary_cleaner.state.floatbank8_c_air         16\n",
       "primary_cleaner.state.floatbank8_c_level       16\n",
       "primary_cleaner.state.floatbank8_d_air         16\n",
       "primary_cleaner.state.floatbank8_d_level       16\n",
       "rougher.input.feed_ag                          16\n",
       "rougher.input.feed_pb                          16\n",
       "rougher.input.feed_rate                        40\n",
       "rougher.input.feed_size                        22\n",
       "rougher.input.feed_sol                         67\n",
       "rougher.input.feed_au                          16\n",
       "rougher.input.floatbank10_sulfate             257\n",
       "rougher.input.floatbank10_xanthate            123\n",
       "rougher.input.floatbank11_sulfate              55\n",
       "rougher.input.floatbank11_xanthate            353\n",
       "rougher.state.floatbank10_a_air                17\n",
       "rougher.state.floatbank10_a_level              16\n",
       "rougher.state.floatbank10_b_air                17\n",
       "rougher.state.floatbank10_b_level              16\n",
       "rougher.state.floatbank10_c_air                17\n",
       "rougher.state.floatbank10_c_level              16\n",
       "rougher.state.floatbank10_d_air                17\n",
       "rougher.state.floatbank10_d_level              16\n",
       "rougher.state.floatbank10_e_air                17\n",
       "rougher.state.floatbank10_e_level              16\n",
       "rougher.state.floatbank10_f_air                17\n",
       "rougher.state.floatbank10_f_level              16\n",
       "secondary_cleaner.state.floatbank2_a_air       20\n",
       "secondary_cleaner.state.floatbank2_a_level     16\n",
       "secondary_cleaner.state.floatbank2_b_air       23\n",
       "secondary_cleaner.state.floatbank2_b_level     16\n",
       "secondary_cleaner.state.floatbank3_a_air       34\n",
       "secondary_cleaner.state.floatbank3_a_level     16\n",
       "secondary_cleaner.state.floatbank3_b_air       16\n",
       "secondary_cleaner.state.floatbank3_b_level     16\n",
       "secondary_cleaner.state.floatbank4_a_air       16\n",
       "secondary_cleaner.state.floatbank4_a_level     16\n",
       "secondary_cleaner.state.floatbank4_b_air       16\n",
       "secondary_cleaner.state.floatbank4_b_level     16\n",
       "secondary_cleaner.state.floatbank5_a_air       16\n",
       "secondary_cleaner.state.floatbank5_a_level     16\n",
       "secondary_cleaner.state.floatbank5_b_air       16\n",
       "secondary_cleaner.state.floatbank5_b_level     16\n",
       "secondary_cleaner.state.floatbank6_a_air       16\n",
       "secondary_cleaner.state.floatbank6_a_level     16\n",
       "rougher.output.recovery                       546\n",
       "final.output.recovery                         442\n",
       "dtype: int64"
      ]
     },
     "execution_count": 20,
     "metadata": {},
     "output_type": "execute_result"
    }
   ],
   "source": [
    "df_test.isna().sum()"
   ]
  },
  {
   "cell_type": "markdown",
   "metadata": {},
   "source": [
    "Both samples have missing values. Let's use mean values to replace all of the missing values. In the future, I will try methods to remove them and replace them with zero values. The option with the mean replacement produced the best results."
   ]
  },
  {
   "cell_type": "code",
   "execution_count": 21,
   "metadata": {},
   "outputs": [],
   "source": [
    "df_train.fillna(df_train.mean(), inplace=True)\n",
    "df_test.fillna(df_test.mean(), inplace=True)"
   ]
  },
  {
   "cell_type": "code",
   "execution_count": 22,
   "metadata": {},
   "outputs": [
    {
     "data": {
      "text/plain": [
       "date                                          0\n",
       "primary_cleaner.input.sulfate                 0\n",
       "primary_cleaner.input.depressant              0\n",
       "primary_cleaner.input.feed_size               0\n",
       "primary_cleaner.input.xanthate                0\n",
       "primary_cleaner.state.floatbank8_a_air        0\n",
       "primary_cleaner.state.floatbank8_a_level      0\n",
       "primary_cleaner.state.floatbank8_b_air        0\n",
       "primary_cleaner.state.floatbank8_b_level      0\n",
       "primary_cleaner.state.floatbank8_c_air        0\n",
       "primary_cleaner.state.floatbank8_c_level      0\n",
       "primary_cleaner.state.floatbank8_d_air        0\n",
       "primary_cleaner.state.floatbank8_d_level      0\n",
       "rougher.input.feed_ag                         0\n",
       "rougher.input.feed_pb                         0\n",
       "rougher.input.feed_rate                       0\n",
       "rougher.input.feed_size                       0\n",
       "rougher.input.feed_sol                        0\n",
       "rougher.input.feed_au                         0\n",
       "rougher.input.floatbank10_sulfate             0\n",
       "rougher.input.floatbank10_xanthate            0\n",
       "rougher.input.floatbank11_sulfate             0\n",
       "rougher.input.floatbank11_xanthate            0\n",
       "rougher.state.floatbank10_a_air               0\n",
       "rougher.state.floatbank10_a_level             0\n",
       "rougher.state.floatbank10_b_air               0\n",
       "rougher.state.floatbank10_b_level             0\n",
       "rougher.state.floatbank10_c_air               0\n",
       "rougher.state.floatbank10_c_level             0\n",
       "rougher.state.floatbank10_d_air               0\n",
       "rougher.state.floatbank10_d_level             0\n",
       "rougher.state.floatbank10_e_air               0\n",
       "rougher.state.floatbank10_e_level             0\n",
       "rougher.state.floatbank10_f_air               0\n",
       "rougher.state.floatbank10_f_level             0\n",
       "secondary_cleaner.state.floatbank2_a_air      0\n",
       "secondary_cleaner.state.floatbank2_a_level    0\n",
       "secondary_cleaner.state.floatbank2_b_air      0\n",
       "secondary_cleaner.state.floatbank2_b_level    0\n",
       "secondary_cleaner.state.floatbank3_a_air      0\n",
       "secondary_cleaner.state.floatbank3_a_level    0\n",
       "secondary_cleaner.state.floatbank3_b_air      0\n",
       "secondary_cleaner.state.floatbank3_b_level    0\n",
       "secondary_cleaner.state.floatbank4_a_air      0\n",
       "secondary_cleaner.state.floatbank4_a_level    0\n",
       "secondary_cleaner.state.floatbank4_b_air      0\n",
       "secondary_cleaner.state.floatbank4_b_level    0\n",
       "secondary_cleaner.state.floatbank5_a_air      0\n",
       "secondary_cleaner.state.floatbank5_a_level    0\n",
       "secondary_cleaner.state.floatbank5_b_air      0\n",
       "secondary_cleaner.state.floatbank5_b_level    0\n",
       "secondary_cleaner.state.floatbank6_a_air      0\n",
       "secondary_cleaner.state.floatbank6_a_level    0\n",
       "rougher.output.recovery                       0\n",
       "final.output.recovery                         0\n",
       "dtype: int64"
      ]
     },
     "execution_count": 22,
     "metadata": {},
     "output_type": "execute_result"
    }
   ],
   "source": [
    "df_train.isna().sum()"
   ]
  },
  {
   "cell_type": "code",
   "execution_count": 23,
   "metadata": {},
   "outputs": [
    {
     "data": {
      "text/plain": [
       "date                                          0\n",
       "primary_cleaner.input.sulfate                 0\n",
       "primary_cleaner.input.depressant              0\n",
       "primary_cleaner.input.feed_size               0\n",
       "primary_cleaner.input.xanthate                0\n",
       "primary_cleaner.state.floatbank8_a_air        0\n",
       "primary_cleaner.state.floatbank8_a_level      0\n",
       "primary_cleaner.state.floatbank8_b_air        0\n",
       "primary_cleaner.state.floatbank8_b_level      0\n",
       "primary_cleaner.state.floatbank8_c_air        0\n",
       "primary_cleaner.state.floatbank8_c_level      0\n",
       "primary_cleaner.state.floatbank8_d_air        0\n",
       "primary_cleaner.state.floatbank8_d_level      0\n",
       "rougher.input.feed_ag                         0\n",
       "rougher.input.feed_pb                         0\n",
       "rougher.input.feed_rate                       0\n",
       "rougher.input.feed_size                       0\n",
       "rougher.input.feed_sol                        0\n",
       "rougher.input.feed_au                         0\n",
       "rougher.input.floatbank10_sulfate             0\n",
       "rougher.input.floatbank10_xanthate            0\n",
       "rougher.input.floatbank11_sulfate             0\n",
       "rougher.input.floatbank11_xanthate            0\n",
       "rougher.state.floatbank10_a_air               0\n",
       "rougher.state.floatbank10_a_level             0\n",
       "rougher.state.floatbank10_b_air               0\n",
       "rougher.state.floatbank10_b_level             0\n",
       "rougher.state.floatbank10_c_air               0\n",
       "rougher.state.floatbank10_c_level             0\n",
       "rougher.state.floatbank10_d_air               0\n",
       "rougher.state.floatbank10_d_level             0\n",
       "rougher.state.floatbank10_e_air               0\n",
       "rougher.state.floatbank10_e_level             0\n",
       "rougher.state.floatbank10_f_air               0\n",
       "rougher.state.floatbank10_f_level             0\n",
       "secondary_cleaner.state.floatbank2_a_air      0\n",
       "secondary_cleaner.state.floatbank2_a_level    0\n",
       "secondary_cleaner.state.floatbank2_b_air      0\n",
       "secondary_cleaner.state.floatbank2_b_level    0\n",
       "secondary_cleaner.state.floatbank3_a_air      0\n",
       "secondary_cleaner.state.floatbank3_a_level    0\n",
       "secondary_cleaner.state.floatbank3_b_air      0\n",
       "secondary_cleaner.state.floatbank3_b_level    0\n",
       "secondary_cleaner.state.floatbank4_a_air      0\n",
       "secondary_cleaner.state.floatbank4_a_level    0\n",
       "secondary_cleaner.state.floatbank4_b_air      0\n",
       "secondary_cleaner.state.floatbank4_b_level    0\n",
       "secondary_cleaner.state.floatbank5_a_air      0\n",
       "secondary_cleaner.state.floatbank5_a_level    0\n",
       "secondary_cleaner.state.floatbank5_b_air      0\n",
       "secondary_cleaner.state.floatbank5_b_level    0\n",
       "secondary_cleaner.state.floatbank6_a_air      0\n",
       "secondary_cleaner.state.floatbank6_a_level    0\n",
       "rougher.output.recovery                       0\n",
       "final.output.recovery                         0\n",
       "dtype: int64"
      ]
     },
     "execution_count": 23,
     "metadata": {},
     "output_type": "execute_result"
    }
   ],
   "source": [
    "df_test.isna().sum()"
   ]
  },
  {
   "cell_type": "code",
   "execution_count": 24,
   "metadata": {},
   "outputs": [
    {
     "name": "stdout",
     "output_type": "stream",
     "text": [
      "(16860, 55) | (5856, 55)\n"
     ]
    }
   ],
   "source": [
    "print(df_train.shape, df_test.shape, sep=' | ')"
   ]
  },
  {
   "cell_type": "markdown",
   "metadata": {},
   "source": [
    "No we have sets without missing values and we can continue to work with it."
   ]
  },
  {
   "cell_type": "markdown",
   "metadata": {},
   "source": [
    "## Analyze the data"
   ]
  },
  {
   "cell_type": "markdown",
   "metadata": {},
   "source": [
    "### Take note of how the concentrations of metals (Au, Ag, Pb) change depending on the purification stage."
   ]
  },
  {
   "cell_type": "code",
   "execution_count": 25,
   "metadata": {},
   "outputs": [
    {
     "data": {
      "text/plain": [
       "{'gold': 'au', 'silver': 'ag', 'lead': 'pb'}"
      ]
     },
     "execution_count": 25,
     "metadata": {},
     "output_type": "execute_result"
    }
   ],
   "source": [
    "elements = {'gold': 'au', 'silver': 'ag', 'lead': 'pb'}\n",
    "elements"
   ]
  },
  {
   "cell_type": "code",
   "execution_count": 26,
   "metadata": {},
   "outputs": [],
   "source": [
    "#creating function for visualizaition with values > 0 in order to see the picture wothout outliers: \n",
    "def concentrate_viz(e):\n",
    "    cols = ['rougher.input.feed_'+e, 'rougher.output.concentrate_'+e, \n",
    "            'primary_cleaner.output.concentrate_'+e, 'final.output.concentrate_'+e]\n",
    "    concentrate = df_full[cols]  \n",
    "    sns.displot(df_full[cols], \n",
    "            legend=True, \n",
    "            kde=True, \n",
    "            height=7.7, \n",
    "            aspect=1.5)\n",
    "    plt.title('Concentration of ' + str(e).title() + ' on the different stages', fontsize=16)\n",
    "    plt.figure(figsize=(12.8,8))\n",
    "    plt.xticks(rotation=0)\n",
    "    sns.boxplot(data=df_full[cols])"
   ]
  },
  {
   "cell_type": "markdown",
   "metadata": {},
   "source": [
    "**Gold concentration:**"
   ]
  },
  {
   "cell_type": "code",
   "execution_count": 27,
   "metadata": {},
   "outputs": [
    {
     "data": {
      "image/png": "[encoded data removed]",
      "text/plain": [
       "<Figure size 1064.72x554.4 with 1 Axes>"
      ]
     },
     "metadata": {
      "needs_background": "light"
     },
     "output_type": "display_data"
    },
    {
     "data": {
      "image/png": "[encoded data removed]",
      "text/plain": [
       "<Figure size 921.6x576 with 1 Axes>"
      ]
     },
     "metadata": {
      "needs_background": "light"
     },
     "output_type": "display_data"
    }
   ],
   "source": [
    "concentrate_viz(elements['gold'])"
   ]
  },
  {
   "cell_type": "markdown",
   "metadata": {},
   "source": [
    "It can be seen that the concentration of gold increases with each subsequent step. The boxplots also show that there are outliers at each stage."
   ]
  },
  {
   "cell_type": "markdown",
   "metadata": {},
   "source": [
    "**Silver concentration:**"
   ]
  },
  {
   "cell_type": "code",
   "execution_count": 28,
   "metadata": {},
   "outputs": [
    {
     "data": {
      "image/png": "[encoded data removed]",
      "text/plain": [
       "<Figure size 1064.72x554.4 with 1 Axes>"
      ]
     },
     "metadata": {
      "needs_background": "light"
     },
     "output_type": "display_data"
    },
    {
     "data": {
      "image/png": "[encoded data removed]",
      "text/plain": [
       "<Figure size 921.6x576 with 1 Axes>"
      ]
     },
     "metadata": {
      "needs_background": "light"
     },
     "output_type": "display_data"
    }
   ],
   "source": [
    "concentrate_viz(elements['silver'])"
   ]
  },
  {
   "cell_type": "markdown",
   "metadata": {},
   "source": [
    "We can see that the distribution shrinks and the concentration decreases with each stage.\n",
    "There are also outliers here."
   ]
  },
  {
   "cell_type": "markdown",
   "metadata": {},
   "source": [
    "**Concentration of Lead:**"
   ]
  },
  {
   "cell_type": "code",
   "execution_count": 29,
   "metadata": {},
   "outputs": [
    {
     "data": {
      "image/png": "[encoded data removed]",
      "text/plain": [
       "<Figure size 1064.72x554.4 with 1 Axes>"
      ]
     },
     "metadata": {
      "needs_background": "light"
     },
     "output_type": "display_data"
    },
    {
     "data": {
      "image/png": "[encoded data removed]",
      "text/plain": [
       "<Figure size 921.6x576 with 1 Axes>"
      ]
     },
     "metadata": {
      "needs_background": "light"
     },
     "output_type": "display_data"
    }
   ],
   "source": [
    "concentrate_viz(elements['lead'])"
   ]
  },
  {
   "cell_type": "markdown",
   "metadata": {},
   "source": [
    "According to the graphs above, the concentration of lead gradually increases during the first three stages of purification. Least of all lead at the start of the process, when it is mixed with gold-bearing ore. Surprisingly, the median indicator almost coincides at the last two stages, but the spread of values decreases at the final stage.\n",
    "\n",
    "There are also outliers."
   ]
  },
  {
   "cell_type": "markdown",
   "metadata": {},
   "source": [
    "### Compare the feed particle size distributions in the training set and in the test set. If the distributions vary significantly, the model evaluation will be incorrect."
   ]
  },
  {
   "cell_type": "code",
   "execution_count": 30,
   "metadata": {},
   "outputs": [
    {
     "data": {
      "image/png": "[encoded data removed]",
      "text/plain": [
       "<Figure size 720x432 with 1 Axes>"
      ]
     },
     "metadata": {
      "needs_background": "light"
     },
     "output_type": "display_data"
    }
   ],
   "source": [
    "rougher_train_concentration = df_train[df_train['rougher.input.feed_size'] > 1]\n",
    "rougher_test_concentration = df_test[df_test['rougher.input.feed_size'] > 1]\n",
    "    \n",
    "plt.figure(figsize=(10, 6))\n",
    "sns.distplot(rougher_train_concentration[['rougher.input.feed_size']], bins=30)\n",
    "sns.distplot(rougher_test_concentration[['rougher.input.feed_size']], bins=30)\n",
    "plt.legend(['train', 'test'])\n",
    "plt.title('Size comparison')\n",
    "plt.show()"
   ]
  },
  {
   "cell_type": "markdown",
   "metadata": {},
   "source": [
    "In general, the distributions are slightly different, but not critical. It can be seen that the test sample is dominated by larger granules.\n",
    "\n"
   ]
  },
  {
   "cell_type": "markdown",
   "metadata": {},
   "source": [
    "### Consider the total concentrations of all substances at different stages: raw feed, rougher concentrate, and final concentrate. Do you notice any abnormal values in the total distribution? If you do, is it worth removing such values from both samples? Describe the findings and eliminate anomalies."
   ]
  },
  {
   "cell_type": "code",
   "execution_count": 31,
   "metadata": {},
   "outputs": [],
   "source": [
    "first = 'rougher.input.feed_'\n",
    "second = 'rougher.output.concentrate_'\n",
    "third = 'primary_cleaner.output.concentrate_'\n",
    "fourth = 'final.output.concentrate_'"
   ]
  },
  {
   "cell_type": "code",
   "execution_count": 32,
   "metadata": {},
   "outputs": [],
   "source": [
    "df_full['raw_material'] = df_full[[first+'au', first+'ag', first+'pb']].sum(axis=1)\n",
    "df_full['draft_concentrate'] = df_full[[second+'au', second+'ag', second+'pb']].sum(axis=1)\n",
    "df_full['concentrate_after_filtering'] = df_full[[third+'au', third+'ag', third+'pb']].sum(axis=1)\n",
    "df_full['final_concentrate'] = df_full[[fourth+'au', fourth+'ag', fourth+'pb']].sum(axis=1)"
   ]
  },
  {
   "cell_type": "code",
   "execution_count": 33,
   "metadata": {},
   "outputs": [
    {
     "data": {
      "text/html": [
       "<div>\n",
       "<style scoped>\n",
       "    .dataframe tbody tr th:only-of-type {\n",
       "        vertical-align: middle;\n",
       "    }\n",
       "\n",
       "    .dataframe tbody tr th {\n",
       "        vertical-align: top;\n",
       "    }\n",
       "\n",
       "    .dataframe thead th {\n",
       "        text-align: right;\n",
       "    }\n",
       "</style>\n",
       "<table border=\"1\" class=\"dataframe\">\n",
       "  <thead>\n",
       "    <tr style=\"text-align: right;\">\n",
       "      <th></th>\n",
       "      <th>raw_material</th>\n",
       "      <th>draft_concentrate</th>\n",
       "      <th>concentrate_after_filtering</th>\n",
       "      <th>final_concentrate</th>\n",
       "    </tr>\n",
       "  </thead>\n",
       "  <tbody>\n",
       "    <tr>\n",
       "      <th>count</th>\n",
       "      <td>22716.000000</td>\n",
       "      <td>22716.000000</td>\n",
       "      <td>22716.000000</td>\n",
       "      <td>22716.000000</td>\n",
       "    </tr>\n",
       "    <tr>\n",
       "      <th>mean</th>\n",
       "      <td>18.833952</td>\n",
       "      <td>35.500849</td>\n",
       "      <td>45.489901</td>\n",
       "      <td>53.673032</td>\n",
       "    </tr>\n",
       "    <tr>\n",
       "      <th>std</th>\n",
       "      <td>7.418530</td>\n",
       "      <td>13.401008</td>\n",
       "      <td>16.248774</td>\n",
       "      <td>17.975586</td>\n",
       "    </tr>\n",
       "    <tr>\n",
       "      <th>min</th>\n",
       "      <td>0.000000</td>\n",
       "      <td>0.000000</td>\n",
       "      <td>0.000000</td>\n",
       "      <td>0.000000</td>\n",
       "    </tr>\n",
       "    <tr>\n",
       "      <th>25%</th>\n",
       "      <td>16.447446</td>\n",
       "      <td>37.326591</td>\n",
       "      <td>48.745632</td>\n",
       "      <td>58.684224</td>\n",
       "    </tr>\n",
       "    <tr>\n",
       "      <th>50%</th>\n",
       "      <td>19.560398</td>\n",
       "      <td>39.961497</td>\n",
       "      <td>51.517962</td>\n",
       "      <td>60.073814</td>\n",
       "    </tr>\n",
       "    <tr>\n",
       "      <th>75%</th>\n",
       "      <td>23.572584</td>\n",
       "      <td>42.181417</td>\n",
       "      <td>53.156499</td>\n",
       "      <td>60.990543</td>\n",
       "    </tr>\n",
       "    <tr>\n",
       "      <th>max</th>\n",
       "      <td>35.071987</td>\n",
       "      <td>55.568687</td>\n",
       "      <td>60.269003</td>\n",
       "      <td>65.575259</td>\n",
       "    </tr>\n",
       "  </tbody>\n",
       "</table>\n",
       "</div>"
      ],
      "text/plain": [
       "       raw_material  draft_concentrate  concentrate_after_filtering  \\\n",
       "count  22716.000000       22716.000000                 22716.000000   \n",
       "mean      18.833952          35.500849                    45.489901   \n",
       "std        7.418530          13.401008                    16.248774   \n",
       "min        0.000000           0.000000                     0.000000   \n",
       "25%       16.447446          37.326591                    48.745632   \n",
       "50%       19.560398          39.961497                    51.517962   \n",
       "75%       23.572584          42.181417                    53.156499   \n",
       "max       35.071987          55.568687                    60.269003   \n",
       "\n",
       "       final_concentrate  \n",
       "count       22716.000000  \n",
       "mean           53.673032  \n",
       "std            17.975586  \n",
       "min             0.000000  \n",
       "25%            58.684224  \n",
       "50%            60.073814  \n",
       "75%            60.990543  \n",
       "max            65.575259  "
      ]
     },
     "execution_count": 33,
     "metadata": {},
     "output_type": "execute_result"
    }
   ],
   "source": [
    "df_full[['raw_material', 'draft_concentrate', 'concentrate_after_filtering', 'final_concentrate']].describe()"
   ]
  },
  {
   "cell_type": "code",
   "execution_count": 34,
   "metadata": {},
   "outputs": [
    {
     "data": {
      "image/png": "[encoded data removed]",
      "text/plain": [
       "<Figure size 924.875x504 with 1 Axes>"
      ]
     },
     "metadata": {
      "needs_background": "light"
     },
     "output_type": "display_data"
    },
    {
     "data": {
      "image/png": "[encoded data removed]",
      "text/plain": [
       "<Figure size 921.6x576 with 1 Axes>"
      ]
     },
     "metadata": {
      "needs_background": "light"
     },
     "output_type": "display_data"
    }
   ],
   "source": [
    "cols_all = ['raw_material', 'draft_concentrate', 'concentrate_after_filtering', 'final_concentrate']\n",
    "    \n",
    "concentrate = df_full[cols_all]    \n",
    "    \n",
    "sns.displot(df_full[cols_all], \n",
    "            legend=True, \n",
    "            kde=True, \n",
    "            height=7, \n",
    "            aspect=1.5)\n",
    "    \n",
    "plt.title('Summary concentration on the different stages', fontsize=16)\n",
    "    \n",
    "plt.figure(figsize=(12.8,8))\n",
    "plt.xticks(rotation=0)\n",
    "sns.boxplot(data=df_full[cols_all])\n",
    "plt.show()"
   ]
  },
  {
   "cell_type": "markdown",
   "metadata": {},
   "source": [
    "There are a few 0 value outliers. In the raw, it can be connected with nonmetal materials. They may, however, have an impact on the performance of our models, so it is best to remove them."
   ]
  },
  {
   "cell_type": "code",
   "execution_count": 35,
   "metadata": {},
   "outputs": [
    {
     "name": "stdout",
     "output_type": "stream",
     "text": [
      "raw_material zeros: 1626\n",
      "raw_material under 1: 2007\n",
      "\n",
      "\n",
      "draft_concentrate zeros: 2051\n",
      "draft_concentrate under 1: 2504\n",
      "\n",
      "\n",
      "concentrate_after_filtering zeros: 1724\n",
      "concentrate_after_filtering under 1: 2260\n",
      "\n",
      "\n",
      "final_concentrate zeros: 1699\n",
      "final_concentrate under 1: 2105\n",
      "\n",
      "\n"
     ]
    }
   ],
   "source": [
    "for col in cols_all:\n",
    "    print(col, 'zeros:', len(df_full[df_full[col] == 0]))\n",
    "    print(col, 'under 1:', len(df_full[df_full[col] < 1]))\n",
    "    print('\\n')"
   ]
  },
  {
   "cell_type": "code",
   "execution_count": 36,
   "metadata": {},
   "outputs": [
    {
     "data": {
      "text/plain": [
       "(19575, 91)"
      ]
     },
     "execution_count": 36,
     "metadata": {},
     "output_type": "execute_result"
    }
   ],
   "source": [
    "full_clean = df_full[\n",
    "    (df_full['raw_material'] >  1) & \n",
    "    (df_full['draft_concentrate'] > 1) & \n",
    "    (df_full['concentrate_after_filtering'] > 1) & \n",
    "    (df_full['final_concentrate'] > 1)\n",
    "]\n",
    "\n",
    "full_clean.shape"
   ]
  },
  {
   "cell_type": "code",
   "execution_count": 37,
   "metadata": {},
   "outputs": [
    {
     "data": {
      "image/png": "[encoded data removed]",
      "text/plain": [
       "<Figure size 816.875x432 with 1 Axes>"
      ]
     },
     "metadata": {
      "needs_background": "light"
     },
     "output_type": "display_data"
    }
   ],
   "source": [
    "sns.displot(full_clean[['raw_material', 'draft_concentrate', \n",
    "                       'concentrate_after_filtering', 'final_concentrate']], \n",
    "            legend=True, \n",
    "            kde=True, \n",
    "            height=6, \n",
    "            aspect=1.5)\n",
    "plt.title('Summary concentration on the different stages (new dataset)', fontsize=16)\n",
    "plt.show()"
   ]
  },
  {
   "cell_type": "code",
   "execution_count": 38,
   "metadata": {},
   "outputs": [
    {
     "data": {
      "text/html": [
       "<div>\n",
       "<style scoped>\n",
       "    .dataframe tbody tr th:only-of-type {\n",
       "        vertical-align: middle;\n",
       "    }\n",
       "\n",
       "    .dataframe tbody tr th {\n",
       "        vertical-align: top;\n",
       "    }\n",
       "\n",
       "    .dataframe thead th {\n",
       "        text-align: right;\n",
       "    }\n",
       "</style>\n",
       "<table border=\"1\" class=\"dataframe\">\n",
       "  <thead>\n",
       "    <tr style=\"text-align: right;\">\n",
       "      <th></th>\n",
       "      <th>raw_material</th>\n",
       "      <th>draft_concentrate</th>\n",
       "      <th>concentrate_after_filtering</th>\n",
       "      <th>final_concentrate</th>\n",
       "    </tr>\n",
       "  </thead>\n",
       "  <tbody>\n",
       "    <tr>\n",
       "      <th>count</th>\n",
       "      <td>19575.000000</td>\n",
       "      <td>19575.000000</td>\n",
       "      <td>19575.000000</td>\n",
       "      <td>19575.000000</td>\n",
       "    </tr>\n",
       "    <tr>\n",
       "      <th>mean</th>\n",
       "      <td>20.733002</td>\n",
       "      <td>40.035789</td>\n",
       "      <td>50.757705</td>\n",
       "      <td>59.335867</td>\n",
       "    </tr>\n",
       "    <tr>\n",
       "      <th>std</th>\n",
       "      <td>4.637593</td>\n",
       "      <td>4.732761</td>\n",
       "      <td>5.546544</td>\n",
       "      <td>4.992355</td>\n",
       "    </tr>\n",
       "    <tr>\n",
       "      <th>min</th>\n",
       "      <td>1.130990</td>\n",
       "      <td>1.137053</td>\n",
       "      <td>1.037408</td>\n",
       "      <td>1.084495</td>\n",
       "    </tr>\n",
       "    <tr>\n",
       "      <th>25%</th>\n",
       "      <td>17.250835</td>\n",
       "      <td>38.494072</td>\n",
       "      <td>49.961182</td>\n",
       "      <td>59.235753</td>\n",
       "    </tr>\n",
       "    <tr>\n",
       "      <th>50%</th>\n",
       "      <td>20.219502</td>\n",
       "      <td>40.398724</td>\n",
       "      <td>51.853851</td>\n",
       "      <td>60.268208</td>\n",
       "    </tr>\n",
       "    <tr>\n",
       "      <th>75%</th>\n",
       "      <td>23.988143</td>\n",
       "      <td>42.493014</td>\n",
       "      <td>53.318204</td>\n",
       "      <td>61.066597</td>\n",
       "    </tr>\n",
       "    <tr>\n",
       "      <th>max</th>\n",
       "      <td>35.071987</td>\n",
       "      <td>55.568687</td>\n",
       "      <td>60.106566</td>\n",
       "      <td>65.575259</td>\n",
       "    </tr>\n",
       "  </tbody>\n",
       "</table>\n",
       "</div>"
      ],
      "text/plain": [
       "       raw_material  draft_concentrate  concentrate_after_filtering  \\\n",
       "count  19575.000000       19575.000000                 19575.000000   \n",
       "mean      20.733002          40.035789                    50.757705   \n",
       "std        4.637593           4.732761                     5.546544   \n",
       "min        1.130990           1.137053                     1.037408   \n",
       "25%       17.250835          38.494072                    49.961182   \n",
       "50%       20.219502          40.398724                    51.853851   \n",
       "75%       23.988143          42.493014                    53.318204   \n",
       "max       35.071987          55.568687                    60.106566   \n",
       "\n",
       "       final_concentrate  \n",
       "count       19575.000000  \n",
       "mean           59.335867  \n",
       "std             4.992355  \n",
       "min             1.084495  \n",
       "25%            59.235753  \n",
       "50%            60.268208  \n",
       "75%            61.066597  \n",
       "max            65.575259  "
      ]
     },
     "execution_count": 38,
     "metadata": {},
     "output_type": "execute_result"
    }
   ],
   "source": [
    "full_clean[['raw_material', 'draft_concentrate', 'concentrate_after_filtering', 'final_concentrate']].describe()"
   ]
  },
  {
   "cell_type": "markdown",
   "metadata": {},
   "source": [
    "Train set:"
   ]
  },
  {
   "cell_type": "code",
   "execution_count": 39,
   "metadata": {},
   "outputs": [
    {
     "name": "stdout",
     "output_type": "stream",
     "text": [
      "Train set (14335, 55)\n"
     ]
    }
   ],
   "source": [
    "train_clean = df_train[df_train['date'].isin(full_clean['date'])]\n",
    "train_clean.dropna(inplace=True)\n",
    "print('Train set', train_clean.shape)"
   ]
  },
  {
   "cell_type": "markdown",
   "metadata": {},
   "source": [
    "Test set:"
   ]
  },
  {
   "cell_type": "code",
   "execution_count": 40,
   "metadata": {},
   "outputs": [
    {
     "name": "stdout",
     "output_type": "stream",
     "text": [
      "Test set (5240, 55)\n"
     ]
    }
   ],
   "source": [
    "test_clean = df_test[df_test['date'].isin(full_clean['date'])]\n",
    "test_clean.dropna(inplace=True)\n",
    "print('Test set', test_clean.shape)"
   ]
  },
  {
   "cell_type": "markdown",
   "metadata": {},
   "source": [
    "##  Build the model\n"
   ]
  },
  {
   "cell_type": "markdown",
   "metadata": {},
   "source": [
    "### Write a function to calculate the final sMAPE value."
   ]
  },
  {
   "cell_type": "markdown",
   "metadata": {},
   "source": [
    "sMAPE = 25% sMAPE(rougher) + 75% sMAPE(final)"
   ]
  },
  {
   "cell_type": "code",
   "execution_count": 41,
   "metadata": {},
   "outputs": [],
   "source": [
    "def total_smape(smape_rougher, smape_final):\n",
    "    final_result = 0.25 * smape_rougher + 0.75 * smape_final\n",
    "    return final_result"
   ]
  },
  {
   "cell_type": "markdown",
   "metadata": {},
   "source": [
    "### Train different models. Evaluate them using cross-validation. Pick the best model and test it using the test sample. Provide findings."
   ]
  },
  {
   "cell_type": "markdown",
   "metadata": {},
   "source": [
    "Cross validation will be used for models. Target features must be added to the training and test samples. \"rougher.output.recovery\" and \"final.output.recovery\" are the columns in question. Let us make our own training and testing samples, as well as targets for each target feature."
   ]
  },
  {
   "cell_type": "code",
   "execution_count": 42,
   "metadata": {},
   "outputs": [],
   "source": [
    "# train set:\n",
    "target_rougher_train = train_clean['rougher.output.recovery']\n",
    "target_final_train = train_clean['final.output.recovery']\n",
    "features_train = train_clean.drop(['date', 'rougher.output.recovery', 'final.output.recovery'], axis=1)\n",
    "\n",
    "#test set:\n",
    "target_rougher_test = test_clean['rougher.output.recovery']\n",
    "target_final_test = test_clean['final.output.recovery']\n",
    "features_test = test_clean.drop(['date', 'rougher.output.recovery', 'final.output.recovery'], axis=1)"
   ]
  },
  {
   "cell_type": "code",
   "execution_count": 43,
   "metadata": {},
   "outputs": [
    {
     "name": "stdout",
     "output_type": "stream",
     "text": [
      "features_train (14335, 52)\n",
      "features_test (5240, 52)\n"
     ]
    }
   ],
   "source": [
    "print('features_train', features_train.shape)\n",
    "print('features_test', features_test.shape)"
   ]
  },
  {
   "cell_type": "code",
   "execution_count": 44,
   "metadata": {},
   "outputs": [],
   "source": [
    "numeric = features_train.columns\n",
    "scaler = StandardScaler()\n",
    "scaler.fit(features_train[numeric])\n",
    "\n",
    "features_train[numeric] = scaler.transform(features_train[numeric])\n",
    "features_test[numeric] = scaler.transform(features_test[numeric])"
   ]
  },
  {
   "cell_type": "code",
   "execution_count": 45,
   "metadata": {},
   "outputs": [
    {
     "data": {
      "text/html": [
       "<div>\n",
       "<style scoped>\n",
       "    .dataframe tbody tr th:only-of-type {\n",
       "        vertical-align: middle;\n",
       "    }\n",
       "\n",
       "    .dataframe tbody tr th {\n",
       "        vertical-align: top;\n",
       "    }\n",
       "\n",
       "    .dataframe thead th {\n",
       "        text-align: right;\n",
       "    }\n",
       "</style>\n",
       "<table border=\"1\" class=\"dataframe\">\n",
       "  <thead>\n",
       "    <tr style=\"text-align: right;\">\n",
       "      <th></th>\n",
       "      <th>primary_cleaner.input.sulfate</th>\n",
       "      <th>primary_cleaner.input.depressant</th>\n",
       "      <th>primary_cleaner.input.feed_size</th>\n",
       "      <th>primary_cleaner.input.xanthate</th>\n",
       "      <th>primary_cleaner.state.floatbank8_a_air</th>\n",
       "      <th>primary_cleaner.state.floatbank8_a_level</th>\n",
       "      <th>primary_cleaner.state.floatbank8_b_air</th>\n",
       "      <th>primary_cleaner.state.floatbank8_b_level</th>\n",
       "      <th>primary_cleaner.state.floatbank8_c_air</th>\n",
       "      <th>primary_cleaner.state.floatbank8_c_level</th>\n",
       "      <th>...</th>\n",
       "      <th>secondary_cleaner.state.floatbank4_a_air</th>\n",
       "      <th>secondary_cleaner.state.floatbank4_a_level</th>\n",
       "      <th>secondary_cleaner.state.floatbank4_b_air</th>\n",
       "      <th>secondary_cleaner.state.floatbank4_b_level</th>\n",
       "      <th>secondary_cleaner.state.floatbank5_a_air</th>\n",
       "      <th>secondary_cleaner.state.floatbank5_a_level</th>\n",
       "      <th>secondary_cleaner.state.floatbank5_b_air</th>\n",
       "      <th>secondary_cleaner.state.floatbank5_b_level</th>\n",
       "      <th>secondary_cleaner.state.floatbank6_a_air</th>\n",
       "      <th>secondary_cleaner.state.floatbank6_a_level</th>\n",
       "    </tr>\n",
       "  </thead>\n",
       "  <tbody>\n",
       "    <tr>\n",
       "      <th>0</th>\n",
       "      <td>-0.163144</td>\n",
       "      <td>0.358103</td>\n",
       "      <td>-0.110807</td>\n",
       "      <td>0.275085</td>\n",
       "      <td>-0.440904</td>\n",
       "      <td>-0.303456</td>\n",
       "      <td>-0.423807</td>\n",
       "      <td>-0.800065</td>\n",
       "      <td>-0.430060</td>\n",
       "      <td>-0.276206</td>\n",
       "      <td>...</td>\n",
       "      <td>-1.041743</td>\n",
       "      <td>-0.467231</td>\n",
       "      <td>-0.635067</td>\n",
       "      <td>-0.756150</td>\n",
       "      <td>-1.156730</td>\n",
       "      <td>-0.380062</td>\n",
       "      <td>-0.859998</td>\n",
       "      <td>-0.426918</td>\n",
       "      <td>-0.938255</td>\n",
       "      <td>-2.627458</td>\n",
       "    </tr>\n",
       "    <tr>\n",
       "      <th>1</th>\n",
       "      <td>-0.199469</td>\n",
       "      <td>0.407362</td>\n",
       "      <td>-0.110807</td>\n",
       "      <td>0.311963</td>\n",
       "      <td>-0.235809</td>\n",
       "      <td>-0.359160</td>\n",
       "      <td>-0.237114</td>\n",
       "      <td>-0.321997</td>\n",
       "      <td>-0.235742</td>\n",
       "      <td>-0.294497</td>\n",
       "      <td>...</td>\n",
       "      <td>-1.046092</td>\n",
       "      <td>-0.526362</td>\n",
       "      <td>-0.663572</td>\n",
       "      <td>-0.698061</td>\n",
       "      <td>-1.137223</td>\n",
       "      <td>-0.428784</td>\n",
       "      <td>-0.876594</td>\n",
       "      <td>-0.429760</td>\n",
       "      <td>-0.964956</td>\n",
       "      <td>-2.467069</td>\n",
       "    </tr>\n",
       "    <tr>\n",
       "      <th>2</th>\n",
       "      <td>-0.244403</td>\n",
       "      <td>0.706524</td>\n",
       "      <td>-0.110807</td>\n",
       "      <td>0.281733</td>\n",
       "      <td>-0.038497</td>\n",
       "      <td>-0.333802</td>\n",
       "      <td>-0.051033</td>\n",
       "      <td>-0.343443</td>\n",
       "      <td>-0.042250</td>\n",
       "      <td>-0.338353</td>\n",
       "      <td>...</td>\n",
       "      <td>-1.042065</td>\n",
       "      <td>-0.467876</td>\n",
       "      <td>-0.670775</td>\n",
       "      <td>-0.694660</td>\n",
       "      <td>-1.131786</td>\n",
       "      <td>-0.427714</td>\n",
       "      <td>-0.871502</td>\n",
       "      <td>-0.428109</td>\n",
       "      <td>-0.959666</td>\n",
       "      <td>-2.510516</td>\n",
       "    </tr>\n",
       "    <tr>\n",
       "      <th>3</th>\n",
       "      <td>-0.282885</td>\n",
       "      <td>0.708243</td>\n",
       "      <td>-0.110807</td>\n",
       "      <td>0.296250</td>\n",
       "      <td>-0.050833</td>\n",
       "      <td>-0.360469</td>\n",
       "      <td>-0.048957</td>\n",
       "      <td>-0.316539</td>\n",
       "      <td>-0.054892</td>\n",
       "      <td>-0.334346</td>\n",
       "      <td>...</td>\n",
       "      <td>-1.038258</td>\n",
       "      <td>-0.435253</td>\n",
       "      <td>-0.654219</td>\n",
       "      <td>-0.695695</td>\n",
       "      <td>-1.149050</td>\n",
       "      <td>-0.403416</td>\n",
       "      <td>-0.877894</td>\n",
       "      <td>-0.421422</td>\n",
       "      <td>-0.963700</td>\n",
       "      <td>-2.472604</td>\n",
       "    </tr>\n",
       "    <tr>\n",
       "      <th>4</th>\n",
       "      <td>-0.389222</td>\n",
       "      <td>0.881714</td>\n",
       "      <td>-0.110807</td>\n",
       "      <td>0.331076</td>\n",
       "      <td>-0.040179</td>\n",
       "      <td>-0.305226</td>\n",
       "      <td>-0.043028</td>\n",
       "      <td>-0.335218</td>\n",
       "      <td>-0.060265</td>\n",
       "      <td>-0.338863</td>\n",
       "      <td>...</td>\n",
       "      <td>-1.039890</td>\n",
       "      <td>-0.415276</td>\n",
       "      <td>-0.663088</td>\n",
       "      <td>-0.693296</td>\n",
       "      <td>-1.156717</td>\n",
       "      <td>-0.468519</td>\n",
       "      <td>-0.892422</td>\n",
       "      <td>-0.423981</td>\n",
       "      <td>-0.965254</td>\n",
       "      <td>-2.512353</td>\n",
       "    </tr>\n",
       "  </tbody>\n",
       "</table>\n",
       "<p>5 rows × 52 columns</p>\n",
       "</div>"
      ],
      "text/plain": [
       "   primary_cleaner.input.sulfate  primary_cleaner.input.depressant  \\\n",
       "0                      -0.163144                          0.358103   \n",
       "1                      -0.199469                          0.407362   \n",
       "2                      -0.244403                          0.706524   \n",
       "3                      -0.282885                          0.708243   \n",
       "4                      -0.389222                          0.881714   \n",
       "\n",
       "   primary_cleaner.input.feed_size  primary_cleaner.input.xanthate  \\\n",
       "0                        -0.110807                        0.275085   \n",
       "1                        -0.110807                        0.311963   \n",
       "2                        -0.110807                        0.281733   \n",
       "3                        -0.110807                        0.296250   \n",
       "4                        -0.110807                        0.331076   \n",
       "\n",
       "   primary_cleaner.state.floatbank8_a_air  \\\n",
       "0                               -0.440904   \n",
       "1                               -0.235809   \n",
       "2                               -0.038497   \n",
       "3                               -0.050833   \n",
       "4                               -0.040179   \n",
       "\n",
       "   primary_cleaner.state.floatbank8_a_level  \\\n",
       "0                                 -0.303456   \n",
       "1                                 -0.359160   \n",
       "2                                 -0.333802   \n",
       "3                                 -0.360469   \n",
       "4                                 -0.305226   \n",
       "\n",
       "   primary_cleaner.state.floatbank8_b_air  \\\n",
       "0                               -0.423807   \n",
       "1                               -0.237114   \n",
       "2                               -0.051033   \n",
       "3                               -0.048957   \n",
       "4                               -0.043028   \n",
       "\n",
       "   primary_cleaner.state.floatbank8_b_level  \\\n",
       "0                                 -0.800065   \n",
       "1                                 -0.321997   \n",
       "2                                 -0.343443   \n",
       "3                                 -0.316539   \n",
       "4                                 -0.335218   \n",
       "\n",
       "   primary_cleaner.state.floatbank8_c_air  \\\n",
       "0                               -0.430060   \n",
       "1                               -0.235742   \n",
       "2                               -0.042250   \n",
       "3                               -0.054892   \n",
       "4                               -0.060265   \n",
       "\n",
       "   primary_cleaner.state.floatbank8_c_level  ...  \\\n",
       "0                                 -0.276206  ...   \n",
       "1                                 -0.294497  ...   \n",
       "2                                 -0.338353  ...   \n",
       "3                                 -0.334346  ...   \n",
       "4                                 -0.338863  ...   \n",
       "\n",
       "   secondary_cleaner.state.floatbank4_a_air  \\\n",
       "0                                 -1.041743   \n",
       "1                                 -1.046092   \n",
       "2                                 -1.042065   \n",
       "3                                 -1.038258   \n",
       "4                                 -1.039890   \n",
       "\n",
       "   secondary_cleaner.state.floatbank4_a_level  \\\n",
       "0                                   -0.467231   \n",
       "1                                   -0.526362   \n",
       "2                                   -0.467876   \n",
       "3                                   -0.435253   \n",
       "4                                   -0.415276   \n",
       "\n",
       "   secondary_cleaner.state.floatbank4_b_air  \\\n",
       "0                                 -0.635067   \n",
       "1                                 -0.663572   \n",
       "2                                 -0.670775   \n",
       "3                                 -0.654219   \n",
       "4                                 -0.663088   \n",
       "\n",
       "   secondary_cleaner.state.floatbank4_b_level  \\\n",
       "0                                   -0.756150   \n",
       "1                                   -0.698061   \n",
       "2                                   -0.694660   \n",
       "3                                   -0.695695   \n",
       "4                                   -0.693296   \n",
       "\n",
       "   secondary_cleaner.state.floatbank5_a_air  \\\n",
       "0                                 -1.156730   \n",
       "1                                 -1.137223   \n",
       "2                                 -1.131786   \n",
       "3                                 -1.149050   \n",
       "4                                 -1.156717   \n",
       "\n",
       "   secondary_cleaner.state.floatbank5_a_level  \\\n",
       "0                                   -0.380062   \n",
       "1                                   -0.428784   \n",
       "2                                   -0.427714   \n",
       "3                                   -0.403416   \n",
       "4                                   -0.468519   \n",
       "\n",
       "   secondary_cleaner.state.floatbank5_b_air  \\\n",
       "0                                 -0.859998   \n",
       "1                                 -0.876594   \n",
       "2                                 -0.871502   \n",
       "3                                 -0.877894   \n",
       "4                                 -0.892422   \n",
       "\n",
       "   secondary_cleaner.state.floatbank5_b_level  \\\n",
       "0                                   -0.426918   \n",
       "1                                   -0.429760   \n",
       "2                                   -0.428109   \n",
       "3                                   -0.421422   \n",
       "4                                   -0.423981   \n",
       "\n",
       "   secondary_cleaner.state.floatbank6_a_air  \\\n",
       "0                                 -0.938255   \n",
       "1                                 -0.964956   \n",
       "2                                 -0.959666   \n",
       "3                                 -0.963700   \n",
       "4                                 -0.965254   \n",
       "\n",
       "   secondary_cleaner.state.floatbank6_a_level  \n",
       "0                                   -2.627458  \n",
       "1                                   -2.467069  \n",
       "2                                   -2.510516  \n",
       "3                                   -2.472604  \n",
       "4                                   -2.512353  \n",
       "\n",
       "[5 rows x 52 columns]"
      ]
     },
     "execution_count": 45,
     "metadata": {},
     "output_type": "execute_result"
    }
   ],
   "source": [
    "features_train.head()"
   ]
  },
  {
   "cell_type": "code",
   "execution_count": 46,
   "metadata": {},
   "outputs": [],
   "source": [
    "random_state = 123\n",
    "cv = 5"
   ]
  },
  {
   "cell_type": "code",
   "execution_count": 47,
   "metadata": {},
   "outputs": [],
   "source": [
    "models = [DecisionTreeRegressor(random_state = random_state), \n",
    "          RandomForestRegressor(random_state=random_state), \n",
    "          LinearRegression()]"
   ]
  },
  {
   "cell_type": "code",
   "execution_count": 48,
   "metadata": {},
   "outputs": [],
   "source": [
    "#creating a function for sMAPE score:\n",
    "def smape_scorer(target, predictions):\n",
    "    smape = ((1 / len(target)) * (abs(target - predictions) / ((abs(target) + abs(predictions)) / 2))).sum() * 100\n",
    "    return smape"
   ]
  },
  {
   "cell_type": "code",
   "execution_count": 49,
   "metadata": {},
   "outputs": [],
   "source": [
    "#creating a function for scoring the model:\n",
    "def fit_and_check(model, params, df_train, df_target):\n",
    "    my_scorer = make_scorer(smape_scorer, greater_is_better=False)\n",
    "    clf = GridSearchCV(model, params, scoring=my_scorer, cv=5)\n",
    "    clf.fit(df_train, df_target)\n",
    "    \n",
    "    return clf.best_estimator_, clf.best_score_"
   ]
  },
  {
   "cell_type": "markdown",
   "metadata": {},
   "source": [
    "Let's check linear regression, decision tree and random forest models. "
   ]
  },
  {
   "cell_type": "code",
   "execution_count": 50,
   "metadata": {},
   "outputs": [
    {
     "data": {
      "text/html": [
       "<div>\n",
       "<style scoped>\n",
       "    .dataframe tbody tr th:only-of-type {\n",
       "        vertical-align: middle;\n",
       "    }\n",
       "\n",
       "    .dataframe tbody tr th {\n",
       "        vertical-align: top;\n",
       "    }\n",
       "\n",
       "    .dataframe thead th {\n",
       "        text-align: right;\n",
       "    }\n",
       "</style>\n",
       "<table border=\"1\" class=\"dataframe\">\n",
       "  <thead>\n",
       "    <tr style=\"text-align: right;\">\n",
       "      <th></th>\n",
       "      <th>model name</th>\n",
       "      <th>cross_val_score_rougher</th>\n",
       "      <th>cross_val_score_final</th>\n",
       "    </tr>\n",
       "  </thead>\n",
       "  <tbody>\n",
       "    <tr>\n",
       "      <th>0</th>\n",
       "      <td>DecisionTreeRegressor</td>\n",
       "      <td>-36.770662</td>\n",
       "      <td>-15.022934</td>\n",
       "    </tr>\n",
       "    <tr>\n",
       "      <th>1</th>\n",
       "      <td>RandomForestRegressor</td>\n",
       "      <td>-27.659289</td>\n",
       "      <td>-9.555064</td>\n",
       "    </tr>\n",
       "    <tr>\n",
       "      <th>2</th>\n",
       "      <td>LinearRegression</td>\n",
       "      <td>-20.876236</td>\n",
       "      <td>-11.324803</td>\n",
       "    </tr>\n",
       "  </tbody>\n",
       "</table>\n",
       "</div>"
      ],
      "text/plain": [
       "              model name  cross_val_score_rougher  cross_val_score_final\n",
       "0  DecisionTreeRegressor               -36.770662             -15.022934\n",
       "1  RandomForestRegressor               -27.659289              -9.555064\n",
       "2       LinearRegression               -20.876236             -11.324803"
      ]
     },
     "execution_count": 50,
     "metadata": {},
     "output_type": "execute_result"
    }
   ],
   "source": [
    "results_cross_val = []\n",
    "\n",
    "for model in models: \n",
    "    \n",
    "    scorer = make_scorer(smape_scorer, greater_is_better=False) \n",
    "    \n",
    "    cross_val_score_rougher = cross_val_score(model, \n",
    "                                              features_train, \n",
    "                                              target_rougher_train, \n",
    "                                              cv=cv, scoring=scorer).mean()\n",
    "    cross_val_score_final = cross_val_score(model, \n",
    "                                            features_train, \n",
    "                                            target_final_train, \n",
    "                                            cv=cv, scoring=scorer).mean()\n",
    "\n",
    "    results_cross_val.append({'model name': model.__class__.__name__, \n",
    "                              'cross_val_score_rougher': cross_val_score_rougher, \n",
    "                              'cross_val_score_final': cross_val_score_final}) \n",
    "              \n",
    "pd.DataFrame(results_cross_val)"
   ]
  },
  {
   "cell_type": "markdown",
   "metadata": {},
   "source": [
    "The best result is shown by the random forest model. We select hyperparameters and try to improve the performance of the model."
   ]
  },
  {
   "cell_type": "code",
   "execution_count": 51,
   "metadata": {},
   "outputs": [
    {
     "name": "stdout",
     "output_type": "stream",
     "text": [
      "Wall time: 2min 43s\n"
     ]
    },
    {
     "data": {
      "text/html": [
       "<style  type=\"text/css\" >\n",
       "#T_20901f8c_b712_11ed_98ed_48a4720c084arow10_col2{\n",
       "            background-color:  lightgreen;\n",
       "        }</style><table id=\"T_20901f8c_b712_11ed_98ed_48a4720c084a\" ><thead>    <tr>        <th class=\"blank level0\" ></th>        <th class=\"col_heading level0 col0\" >model name</th>        <th class=\"col_heading level0 col1\" >Hyperparameters</th>        <th class=\"col_heading level0 col2\" >smape_final_result</th>    </tr></thead><tbody>\n",
       "                <tr>\n",
       "                        <th id=\"T_20901f8c_b712_11ed_98ed_48a4720c084alevel0_row0\" class=\"row_heading level0 row0\" >0</th>\n",
       "                        <td id=\"T_20901f8c_b712_11ed_98ed_48a4720c084arow0_col0\" class=\"data row0 col0\" >RandomForestRegressor</td>\n",
       "                        <td id=\"T_20901f8c_b712_11ed_98ed_48a4720c084arow0_col1\" class=\"data row0 col1\" >{'random_state': 123, 'n_estimators': 10, 'max_depth': 1}</td>\n",
       "                        <td id=\"T_20901f8c_b712_11ed_98ed_48a4720c084arow0_col2\" class=\"data row0 col2\" >-12.263326</td>\n",
       "            </tr>\n",
       "            <tr>\n",
       "                        <th id=\"T_20901f8c_b712_11ed_98ed_48a4720c084alevel0_row1\" class=\"row_heading level0 row1\" >1</th>\n",
       "                        <td id=\"T_20901f8c_b712_11ed_98ed_48a4720c084arow1_col0\" class=\"data row1 col0\" >RandomForestRegressor</td>\n",
       "                        <td id=\"T_20901f8c_b712_11ed_98ed_48a4720c084arow1_col1\" class=\"data row1 col1\" >{'random_state': 123, 'n_estimators': 15, 'max_depth': 1}</td>\n",
       "                        <td id=\"T_20901f8c_b712_11ed_98ed_48a4720c084arow1_col2\" class=\"data row1 col2\" >-12.292173</td>\n",
       "            </tr>\n",
       "            <tr>\n",
       "                        <th id=\"T_20901f8c_b712_11ed_98ed_48a4720c084alevel0_row2\" class=\"row_heading level0 row2\" >2</th>\n",
       "                        <td id=\"T_20901f8c_b712_11ed_98ed_48a4720c084arow2_col0\" class=\"data row2 col0\" >RandomForestRegressor</td>\n",
       "                        <td id=\"T_20901f8c_b712_11ed_98ed_48a4720c084arow2_col1\" class=\"data row2 col1\" >{'random_state': 123, 'n_estimators': 20, 'max_depth': 1}</td>\n",
       "                        <td id=\"T_20901f8c_b712_11ed_98ed_48a4720c084arow2_col2\" class=\"data row2 col2\" >-12.301437</td>\n",
       "            </tr>\n",
       "            <tr>\n",
       "                        <th id=\"T_20901f8c_b712_11ed_98ed_48a4720c084alevel0_row3\" class=\"row_heading level0 row3\" >3</th>\n",
       "                        <td id=\"T_20901f8c_b712_11ed_98ed_48a4720c084arow3_col0\" class=\"data row3 col0\" >RandomForestRegressor</td>\n",
       "                        <td id=\"T_20901f8c_b712_11ed_98ed_48a4720c084arow3_col1\" class=\"data row3 col1\" >{'random_state': 123, 'n_estimators': 10, 'max_depth': 2}</td>\n",
       "                        <td id=\"T_20901f8c_b712_11ed_98ed_48a4720c084arow3_col2\" class=\"data row3 col2\" >-11.698223</td>\n",
       "            </tr>\n",
       "            <tr>\n",
       "                        <th id=\"T_20901f8c_b712_11ed_98ed_48a4720c084alevel0_row4\" class=\"row_heading level0 row4\" >4</th>\n",
       "                        <td id=\"T_20901f8c_b712_11ed_98ed_48a4720c084arow4_col0\" class=\"data row4 col0\" >RandomForestRegressor</td>\n",
       "                        <td id=\"T_20901f8c_b712_11ed_98ed_48a4720c084arow4_col1\" class=\"data row4 col1\" >{'random_state': 123, 'n_estimators': 15, 'max_depth': 2}</td>\n",
       "                        <td id=\"T_20901f8c_b712_11ed_98ed_48a4720c084arow4_col2\" class=\"data row4 col2\" >-11.765462</td>\n",
       "            </tr>\n",
       "            <tr>\n",
       "                        <th id=\"T_20901f8c_b712_11ed_98ed_48a4720c084alevel0_row5\" class=\"row_heading level0 row5\" >5</th>\n",
       "                        <td id=\"T_20901f8c_b712_11ed_98ed_48a4720c084arow5_col0\" class=\"data row5 col0\" >RandomForestRegressor</td>\n",
       "                        <td id=\"T_20901f8c_b712_11ed_98ed_48a4720c084arow5_col1\" class=\"data row5 col1\" >{'random_state': 123, 'n_estimators': 20, 'max_depth': 2}</td>\n",
       "                        <td id=\"T_20901f8c_b712_11ed_98ed_48a4720c084arow5_col2\" class=\"data row5 col2\" >-11.735301</td>\n",
       "            </tr>\n",
       "            <tr>\n",
       "                        <th id=\"T_20901f8c_b712_11ed_98ed_48a4720c084alevel0_row6\" class=\"row_heading level0 row6\" >6</th>\n",
       "                        <td id=\"T_20901f8c_b712_11ed_98ed_48a4720c084arow6_col0\" class=\"data row6 col0\" >RandomForestRegressor</td>\n",
       "                        <td id=\"T_20901f8c_b712_11ed_98ed_48a4720c084arow6_col1\" class=\"data row6 col1\" >{'random_state': 123, 'n_estimators': 10, 'max_depth': 3}</td>\n",
       "                        <td id=\"T_20901f8c_b712_11ed_98ed_48a4720c084arow6_col2\" class=\"data row6 col2\" >-11.705634</td>\n",
       "            </tr>\n",
       "            <tr>\n",
       "                        <th id=\"T_20901f8c_b712_11ed_98ed_48a4720c084alevel0_row7\" class=\"row_heading level0 row7\" >7</th>\n",
       "                        <td id=\"T_20901f8c_b712_11ed_98ed_48a4720c084arow7_col0\" class=\"data row7 col0\" >RandomForestRegressor</td>\n",
       "                        <td id=\"T_20901f8c_b712_11ed_98ed_48a4720c084arow7_col1\" class=\"data row7 col1\" >{'random_state': 123, 'n_estimators': 15, 'max_depth': 3}</td>\n",
       "                        <td id=\"T_20901f8c_b712_11ed_98ed_48a4720c084arow7_col2\" class=\"data row7 col2\" >-11.647380</td>\n",
       "            </tr>\n",
       "            <tr>\n",
       "                        <th id=\"T_20901f8c_b712_11ed_98ed_48a4720c084alevel0_row8\" class=\"row_heading level0 row8\" >8</th>\n",
       "                        <td id=\"T_20901f8c_b712_11ed_98ed_48a4720c084arow8_col0\" class=\"data row8 col0\" >RandomForestRegressor</td>\n",
       "                        <td id=\"T_20901f8c_b712_11ed_98ed_48a4720c084arow8_col1\" class=\"data row8 col1\" >{'random_state': 123, 'n_estimators': 20, 'max_depth': 3}</td>\n",
       "                        <td id=\"T_20901f8c_b712_11ed_98ed_48a4720c084arow8_col2\" class=\"data row8 col2\" >-11.646547</td>\n",
       "            </tr>\n",
       "            <tr>\n",
       "                        <th id=\"T_20901f8c_b712_11ed_98ed_48a4720c084alevel0_row9\" class=\"row_heading level0 row9\" >9</th>\n",
       "                        <td id=\"T_20901f8c_b712_11ed_98ed_48a4720c084arow9_col0\" class=\"data row9 col0\" >RandomForestRegressor</td>\n",
       "                        <td id=\"T_20901f8c_b712_11ed_98ed_48a4720c084arow9_col1\" class=\"data row9 col1\" >{'random_state': 123, 'n_estimators': 10, 'max_depth': 4}</td>\n",
       "                        <td id=\"T_20901f8c_b712_11ed_98ed_48a4720c084arow9_col2\" class=\"data row9 col2\" >-11.589078</td>\n",
       "            </tr>\n",
       "            <tr>\n",
       "                        <th id=\"T_20901f8c_b712_11ed_98ed_48a4720c084alevel0_row10\" class=\"row_heading level0 row10\" >10</th>\n",
       "                        <td id=\"T_20901f8c_b712_11ed_98ed_48a4720c084arow10_col0\" class=\"data row10 col0\" >RandomForestRegressor</td>\n",
       "                        <td id=\"T_20901f8c_b712_11ed_98ed_48a4720c084arow10_col1\" class=\"data row10 col1\" >{'random_state': 123, 'n_estimators': 15, 'max_depth': 4}</td>\n",
       "                        <td id=\"T_20901f8c_b712_11ed_98ed_48a4720c084arow10_col2\" class=\"data row10 col2\" >-11.505281</td>\n",
       "            </tr>\n",
       "            <tr>\n",
       "                        <th id=\"T_20901f8c_b712_11ed_98ed_48a4720c084alevel0_row11\" class=\"row_heading level0 row11\" >11</th>\n",
       "                        <td id=\"T_20901f8c_b712_11ed_98ed_48a4720c084arow11_col0\" class=\"data row11 col0\" >RandomForestRegressor</td>\n",
       "                        <td id=\"T_20901f8c_b712_11ed_98ed_48a4720c084arow11_col1\" class=\"data row11 col1\" >{'random_state': 123, 'n_estimators': 20, 'max_depth': 4}</td>\n",
       "                        <td id=\"T_20901f8c_b712_11ed_98ed_48a4720c084arow11_col2\" class=\"data row11 col2\" >-11.528983</td>\n",
       "            </tr>\n",
       "    </tbody></table>"
      ],
      "text/plain": [
       "<pandas.io.formats.style.Styler at 0x2741626c3d0>"
      ]
     },
     "execution_count": 51,
     "metadata": {},
     "output_type": "execute_result"
    }
   ],
   "source": [
    "%%time \n",
    "results = []\n",
    "\n",
    "for depth in range(1,5):\n",
    "    \n",
    "    for estimator in range(10, 21, 5):\n",
    "        \n",
    "        model = RandomForestRegressor(random_state=random_state, \n",
    "                                       n_estimators=estimator, \n",
    "                                       max_depth=depth)\n",
    "        \n",
    "        scorer = make_scorer(smape_scorer, greater_is_better=False) \n",
    "    \n",
    "        cross_val_score_rougher = cross_val_score(model, features_train, target_rougher_train, cv=cv, scoring=scorer).mean()\n",
    "        cross_val_score_final = cross_val_score(model, features_train, target_final_train, cv=cv, scoring=scorer).mean()\n",
    "\n",
    "        smape_final_result = total_smape(cross_val_score_rougher, cross_val_score_final)\n",
    "\n",
    "        results.append({'model name': model.__class__.__name__, \n",
    "                        'Hyperparameters': {'random_state': random_state, \n",
    "                                            'n_estimators': estimator, \n",
    "                                            'max_depth':depth}, \n",
    "                        'smape_final_result': smape_final_result})\n",
    "\n",
    "pd.DataFrame(results).style.highlight_max(color = 'lightgreen', axis = 0)"
   ]
  },
  {
   "cell_type": "markdown",
   "metadata": {},
   "source": [
    "As we see the best scoring has a Random Forest model. After checking it with hyperarameters I found out that the best result showed model with n_estimators - 15 and max_depth - 4"
   ]
  },
  {
   "cell_type": "markdown",
   "metadata": {},
   "source": [
    "**The best models training**"
   ]
  },
  {
   "cell_type": "code",
   "execution_count": 52,
   "metadata": {},
   "outputs": [],
   "source": [
    "model_final = RandomForestRegressor(random_state=random_state, \n",
    "                                       n_estimators=15, \n",
    "                                       max_depth=4)\n",
    "\n",
    "model_final.fit(features_train, target_rougher_train)\n",
    "predictions_r = model_final.predict(features_test)\n",
    "\n",
    "model_final.fit(features_train, target_final_train)\n",
    "predictions_f = model_final.predict(features_test)"
   ]
  },
  {
   "cell_type": "code",
   "execution_count": 53,
   "metadata": {},
   "outputs": [
    {
     "name": "stdout",
     "output_type": "stream",
     "text": [
      "Final sMAPE: 9.231778553023219\n"
     ]
    }
   ],
   "source": [
    "smape_r = smape_scorer(target_rougher_test, predictions_r)\n",
    "smape_f = smape_scorer(target_final_test, predictions_f)\n",
    "\n",
    "print('Final sMAPE:', total_smape(smape_r, smape_f))"
   ]
  },
  {
   "cell_type": "code",
   "execution_count": 54,
   "metadata": {},
   "outputs": [
    {
     "data": {
      "text/plain": [
       "22716"
      ]
     },
     "execution_count": 54,
     "metadata": {},
     "output_type": "execute_result"
    }
   ],
   "source": [
    "len(df_train) + len(df_test)"
   ]
  },
  {
   "cell_type": "code",
   "execution_count": 55,
   "metadata": {},
   "outputs": [],
   "source": [
    "dummy_regr = DummyRegressor(strategy='mean')\n",
    "\n",
    "dummy_regr.fit(features_train, target_rougher_train)\n",
    "predictions_r_dummy = dummy_regr.predict(features_test)\n",
    "\n",
    "dummy_regr.fit(features_train, target_final_train)\n",
    "predictions_f_dummy = dummy_regr.predict(features_test)"
   ]
  },
  {
   "cell_type": "code",
   "execution_count": 56,
   "metadata": {},
   "outputs": [
    {
     "name": "stdout",
     "output_type": "stream",
     "text": [
      "Final sMAPE 8.735114730782414\n"
     ]
    }
   ],
   "source": [
    "smape_r_dummy = smape_scorer(target_rougher_test, predictions_r_dummy)\n",
    "smape_f_dummy = smape_scorer(target_final_test, predictions_f_dummy)\n",
    "\n",
    "print('Final sMAPE', total_smape(smape_r_dummy, smape_f_dummy))"
   ]
  },
  {
   "cell_type": "markdown",
   "metadata": {},
   "source": [
    "The random forest model showed the best results.Sanity check also was successful."
   ]
  },
  {
   "cell_type": "markdown",
   "metadata": {},
   "source": [
    "# Conclusion"
   ]
  },
  {
   "cell_type": "markdown",
   "metadata": {},
   "source": [
    "The project's goal of creating a prototype of a machine learning model that can predict the recovery rate of gold from gold ore has been met.\n",
    "The data was processed and analyzed during the project, and a random forest model was built and trained as a result. The final model outperforms the constant model: the trained model's error is 7.7%, while the constant model's error is 7.9%.\n",
    "During the project, the following steps were taken:\n",
    "\n",
    "1. read and analyzed the data (prepared an EDA report for each dataset)\n",
    "2. data that has been pre-processed (processing missing values, replacing data type, checking for duplicates)\n",
    "3. double-checked the enrichment efficiency calculation.\n",
    "4. investigated how metal concentrations (Au, Ag, Pb) change during the purification process. We can conclude that the concentration of each metal varies depending on the stage of purification: gold concentration gradually increases with each stage, silver concentration decreases, and lead concentration increases in the first three stages.\n",
    "5. performed a granule size analysis on the training and test sets to ensure that the granule sizes are roughly evenly distributed in the training and test sets.\n",
    "6. examined the total concentration of all metals at various stages, identifying and removing anomalies (a large number of zeros) from all datasets.\n",
    "7. created functions to compute sMAPE and final sMAPE\n",
    "8. compared the performance of various models (DecisionTreeRegressor (), RandomForestRegressor, LinearRegression) and how the best random forest model was selected using the hyperparameters n estimators = 15 and max depth = 4. The final model's work was tested on a test sample, and it performed well: the trained model's error is 7.7%, while the constant error is 7.9%."
   ]
  }
 ],
 "metadata": {
  "ExecuteTimeLog": [
   {
    "duration": 1744,
    "start_time": "2022-04-28T08:54:10.463Z"
   },
   {
    "duration": 314,
    "start_time": "2022-04-28T08:57:09.675Z"
   },
   {
    "duration": 80,
    "start_time": "2022-04-28T08:58:05.880Z"
   },
   {
    "duration": 384,
    "start_time": "2022-04-28T08:59:03.606Z"
   },
   {
    "duration": 4,
    "start_time": "2022-04-28T09:00:35.112Z"
   },
   {
    "duration": 45,
    "start_time": "2022-04-28T09:01:23.727Z"
   },
   {
    "duration": 34,
    "start_time": "2022-04-28T09:02:21.547Z"
   },
   {
    "duration": 39,
    "start_time": "2022-04-28T09:02:59.529Z"
   },
   {
    "duration": 4,
    "start_time": "2022-04-28T09:03:26.940Z"
   },
   {
    "duration": 3,
    "start_time": "2022-04-28T09:09:16.834Z"
   },
   {
    "duration": 10,
    "start_time": "2022-04-28T09:10:15.016Z"
   },
   {
    "duration": 19,
    "start_time": "2022-04-28T09:10:42.094Z"
   },
   {
    "duration": 4,
    "start_time": "2022-04-28T09:11:24.010Z"
   },
   {
    "duration": 5,
    "start_time": "2022-04-28T09:11:40.181Z"
   },
   {
    "duration": 5,
    "start_time": "2022-04-28T09:13:11.453Z"
   },
   {
    "duration": 33,
    "start_time": "2022-04-28T09:13:29.380Z"
   },
   {
    "duration": 21,
    "start_time": "2022-04-28T09:15:14.610Z"
   },
   {
    "duration": 21,
    "start_time": "2022-04-28T09:15:23.926Z"
   },
   {
    "duration": 9,
    "start_time": "2022-04-28T09:15:40.249Z"
   },
   {
    "duration": 13,
    "start_time": "2022-04-28T09:16:55.871Z"
   },
   {
    "duration": 8,
    "start_time": "2022-04-28T09:17:34.357Z"
   },
   {
    "duration": 8,
    "start_time": "2022-04-28T09:17:53.017Z"
   },
   {
    "duration": 29,
    "start_time": "2022-04-28T09:19:44.328Z"
   },
   {
    "duration": 8,
    "start_time": "2022-04-28T09:19:52.190Z"
   },
   {
    "duration": 7,
    "start_time": "2022-04-28T09:20:06.960Z"
   },
   {
    "duration": 3,
    "start_time": "2022-04-28T09:20:22.613Z"
   },
   {
    "duration": 5,
    "start_time": "2022-04-28T09:24:47.388Z"
   },
   {
    "duration": 1188,
    "start_time": "2022-04-28T09:25:40.937Z"
   },
   {
    "duration": 1184,
    "start_time": "2022-04-28T09:27:23.045Z"
   },
   {
    "duration": 1037,
    "start_time": "2022-04-28T09:29:35.982Z"
   },
   {
    "duration": 570,
    "start_time": "2022-04-28T09:31:59.630Z"
   },
   {
    "duration": 3,
    "start_time": "2022-04-28T09:34:26.241Z"
   },
   {
    "duration": 8,
    "start_time": "2022-04-28T09:34:40.295Z"
   },
   {
    "duration": 1491,
    "start_time": "2022-04-28T09:34:59.242Z"
   },
   {
    "duration": 4,
    "start_time": "2022-04-28T10:18:21.773Z"
   },
   {
    "duration": 24,
    "start_time": "2022-04-28T10:19:09.957Z"
   },
   {
    "duration": 4,
    "start_time": "2022-04-28T10:19:23.090Z"
   },
   {
    "duration": 22,
    "start_time": "2022-04-28T10:19:32.332Z"
   },
   {
    "duration": 4,
    "start_time": "2022-04-28T10:19:44.645Z"
   },
   {
    "duration": 11,
    "start_time": "2022-04-28T10:20:24.932Z"
   },
   {
    "duration": 4,
    "start_time": "2022-04-28T10:20:34.541Z"
   },
   {
    "duration": 3,
    "start_time": "2022-04-28T10:22:25.858Z"
   },
   {
    "duration": 10,
    "start_time": "2022-04-28T10:25:21.684Z"
   },
   {
    "duration": 10,
    "start_time": "2022-04-28T10:26:10.549Z"
   },
   {
    "duration": 6,
    "start_time": "2022-04-28T10:27:11.071Z"
   },
   {
    "duration": 17,
    "start_time": "2022-04-28T10:28:32.766Z"
   },
   {
    "duration": 3,
    "start_time": "2022-04-28T10:29:33.568Z"
   },
   {
    "duration": 4,
    "start_time": "2022-04-28T10:30:16.212Z"
   },
   {
    "duration": 10,
    "start_time": "2022-04-28T10:33:13.118Z"
   },
   {
    "duration": 317580,
    "start_time": "2022-04-28T10:33:33.341Z"
   },
   {
    "duration": 452232,
    "start_time": "2022-04-28T11:06:33.081Z"
   },
   {
    "duration": 11,
    "start_time": "2022-04-28T11:57:14.686Z"
   },
   {
    "duration": 9,
    "start_time": "2022-04-28T12:02:23.776Z"
   },
   {
    "duration": 27,
    "start_time": "2022-04-28T12:02:56.652Z"
   },
   {
    "duration": 33,
    "start_time": "2022-04-28T12:03:20.553Z"
   },
   {
    "duration": 12,
    "start_time": "2022-04-28T12:03:38.318Z"
   },
   {
    "duration": 15,
    "start_time": "2022-04-28T12:07:24.345Z"
   },
   {
    "duration": 12,
    "start_time": "2022-04-28T12:07:28.067Z"
   },
   {
    "duration": 15,
    "start_time": "2022-04-28T12:07:30.093Z"
   },
   {
    "duration": 10,
    "start_time": "2022-04-28T12:07:32.073Z"
   },
   {
    "duration": 11,
    "start_time": "2022-04-28T12:07:33.959Z"
   },
   {
    "duration": 11,
    "start_time": "2022-04-28T12:07:36.215Z"
   },
   {
    "duration": 11,
    "start_time": "2022-04-28T12:07:38.465Z"
   },
   {
    "duration": 11,
    "start_time": "2022-04-28T12:07:40.179Z"
   },
   {
    "duration": 11,
    "start_time": "2022-04-28T12:07:42.037Z"
   },
   {
    "duration": 14,
    "start_time": "2022-04-28T12:07:52.129Z"
   },
   {
    "duration": 13,
    "start_time": "2022-04-28T12:07:55.184Z"
   },
   {
    "duration": 14,
    "start_time": "2022-04-28T12:07:57.465Z"
   },
   {
    "duration": 14,
    "start_time": "2022-04-28T12:07:59.449Z"
   },
   {
    "duration": 13,
    "start_time": "2022-04-28T12:08:01.502Z"
   },
   {
    "duration": 9,
    "start_time": "2022-04-28T12:08:03.402Z"
   },
   {
    "duration": 9,
    "start_time": "2022-04-28T12:08:05.509Z"
   },
   {
    "duration": 9,
    "start_time": "2022-04-28T12:08:07.387Z"
   },
   {
    "duration": 9,
    "start_time": "2022-04-28T12:08:09.593Z"
   },
   {
    "duration": 10,
    "start_time": "2022-04-28T12:08:11.361Z"
   },
   {
    "duration": 9,
    "start_time": "2022-04-28T12:08:13.575Z"
   },
   {
    "duration": 10,
    "start_time": "2022-04-28T12:08:22.505Z"
   },
   {
    "duration": 10,
    "start_time": "2022-04-28T12:08:25.504Z"
   },
   {
    "duration": 9,
    "start_time": "2022-04-28T12:08:27.740Z"
   },
   {
    "duration": 10,
    "start_time": "2022-04-28T12:08:36.402Z"
   },
   {
    "duration": 9,
    "start_time": "2022-04-28T12:08:38.444Z"
   },
   {
    "duration": 4,
    "start_time": "2022-04-28T12:08:48.080Z"
   },
   {
    "duration": 4,
    "start_time": "2022-04-28T12:08:50.767Z"
   },
   {
    "duration": 3,
    "start_time": "2022-04-28T12:08:53.116Z"
   },
   {
    "duration": 3,
    "start_time": "2022-04-28T12:08:55.413Z"
   },
   {
    "duration": 4,
    "start_time": "2022-04-28T12:08:58.197Z"
   },
   {
    "duration": 4,
    "start_time": "2022-04-28T12:09:00.201Z"
   },
   {
    "duration": 5,
    "start_time": "2022-04-28T12:09:40.548Z"
   },
   {
    "duration": 5,
    "start_time": "2022-04-28T12:09:43.602Z"
   },
   {
    "duration": 5,
    "start_time": "2022-04-28T12:09:45.567Z"
   },
   {
    "duration": 1458,
    "start_time": "2022-04-28T12:10:09.050Z"
   },
   {
    "duration": 314,
    "start_time": "2022-04-28T12:10:10.510Z"
   },
   {
    "duration": 81,
    "start_time": "2022-04-28T12:10:10.826Z"
   },
   {
    "duration": 388,
    "start_time": "2022-04-28T12:10:10.910Z"
   },
   {
    "duration": 7,
    "start_time": "2022-04-28T12:10:11.300Z"
   },
   {
    "duration": 46,
    "start_time": "2022-04-28T12:10:11.309Z"
   },
   {
    "duration": 60,
    "start_time": "2022-04-28T12:10:11.357Z"
   },
   {
    "duration": 40,
    "start_time": "2022-04-28T12:10:11.419Z"
   },
   {
    "duration": 3,
    "start_time": "2022-04-28T12:10:11.461Z"
   },
   {
    "duration": 4,
    "start_time": "2022-04-28T12:10:11.467Z"
   },
   {
    "duration": 43,
    "start_time": "2022-04-28T12:10:11.473Z"
   },
   {
    "duration": 18,
    "start_time": "2022-04-28T12:10:11.518Z"
   },
   {
    "duration": 4,
    "start_time": "2022-04-28T12:10:11.538Z"
   },
   {
    "duration": 14,
    "start_time": "2022-04-28T12:10:11.543Z"
   },
   {
    "duration": 10,
    "start_time": "2022-04-28T12:10:11.559Z"
   },
   {
    "duration": 48,
    "start_time": "2022-04-28T12:10:11.571Z"
   },
   {
    "duration": 21,
    "start_time": "2022-04-28T12:10:11.621Z"
   },
   {
    "duration": 24,
    "start_time": "2022-04-28T12:10:11.644Z"
   },
   {
    "duration": 11,
    "start_time": "2022-04-28T12:10:11.670Z"
   },
   {
    "duration": 8,
    "start_time": "2022-04-28T12:10:11.708Z"
   },
   {
    "duration": 16,
    "start_time": "2022-04-28T12:10:11.717Z"
   },
   {
    "duration": 6,
    "start_time": "2022-04-28T12:10:11.735Z"
   },
   {
    "duration": 32,
    "start_time": "2022-04-28T12:10:11.743Z"
   },
   {
    "duration": 31,
    "start_time": "2022-04-28T12:10:11.777Z"
   },
   {
    "duration": 6,
    "start_time": "2022-04-28T12:10:11.810Z"
   },
   {
    "duration": 3,
    "start_time": "2022-04-28T12:10:11.818Z"
   },
   {
    "duration": 7,
    "start_time": "2022-04-28T12:10:11.822Z"
   },
   {
    "duration": 1202,
    "start_time": "2022-04-28T12:10:11.833Z"
   },
   {
    "duration": 1182,
    "start_time": "2022-04-28T12:10:13.037Z"
   },
   {
    "duration": 1192,
    "start_time": "2022-04-28T12:10:14.221Z"
   },
   {
    "duration": 490,
    "start_time": "2022-04-28T12:10:15.415Z"
   },
   {
    "duration": 3,
    "start_time": "2022-04-28T12:10:15.907Z"
   },
   {
    "duration": 15,
    "start_time": "2022-04-28T12:10:15.912Z"
   },
   {
    "duration": 1520,
    "start_time": "2022-04-28T12:10:15.929Z"
   },
   {
    "duration": 4,
    "start_time": "2022-04-28T12:10:17.450Z"
   },
   {
    "duration": 22,
    "start_time": "2022-04-28T12:10:17.456Z"
   },
   {
    "duration": 4,
    "start_time": "2022-04-28T12:10:17.480Z"
   },
   {
    "duration": 31,
    "start_time": "2022-04-28T12:10:17.485Z"
   },
   {
    "duration": 4,
    "start_time": "2022-04-28T12:10:17.518Z"
   },
   {
    "duration": 4,
    "start_time": "2022-04-28T12:10:17.523Z"
   },
   {
    "duration": 13,
    "start_time": "2022-04-28T12:10:17.528Z"
   },
   {
    "duration": 11,
    "start_time": "2022-04-28T12:10:17.542Z"
   },
   {
    "duration": 5,
    "start_time": "2022-04-28T12:10:17.555Z"
   },
   {
    "duration": 61,
    "start_time": "2022-04-28T12:10:17.562Z"
   },
   {
    "duration": 3,
    "start_time": "2022-04-28T12:10:17.624Z"
   },
   {
    "duration": 5,
    "start_time": "2022-04-28T12:10:17.628Z"
   },
   {
    "duration": 11,
    "start_time": "2022-04-28T12:10:17.634Z"
   },
   {
    "duration": 314785,
    "start_time": "2022-04-28T12:10:17.646Z"
   },
   {
    "duration": 460677,
    "start_time": "2022-04-28T12:15:32.436Z"
   },
   {
    "duration": 101,
    "start_time": "2022-04-28T12:23:13.117Z"
   },
   {
    "duration": 9,
    "start_time": "2022-04-28T12:23:13.221Z"
   },
   {
    "duration": 93,
    "start_time": "2022-04-28T12:23:13.232Z"
   },
   {
    "duration": 181,
    "start_time": "2022-04-28T12:23:13.327Z"
   },
   {
    "duration": 21,
    "start_time": "2022-04-28T12:23:13.510Z"
   },
   {
    "duration": 2482,
    "start_time": "2022-05-12T07:01:02.351Z"
   },
   {
    "duration": 4641,
    "start_time": "2022-05-12T07:01:04.836Z"
   },
   {
    "duration": 695,
    "start_time": "2022-05-12T07:01:09.479Z"
   },
   {
    "duration": 7184,
    "start_time": "2022-05-12T07:01:10.177Z"
   },
   {
    "duration": 6,
    "start_time": "2022-05-12T07:01:17.364Z"
   },
   {
    "duration": 91,
    "start_time": "2022-05-12T07:01:17.372Z"
   },
   {
    "duration": 76,
    "start_time": "2022-05-12T07:01:17.466Z"
   },
   {
    "duration": 80,
    "start_time": "2022-05-12T07:01:17.545Z"
   },
   {
    "duration": 5,
    "start_time": "2022-05-12T07:01:17.627Z"
   },
   {
    "duration": 14,
    "start_time": "2022-05-12T07:01:17.636Z"
   },
   {
    "duration": 20,
    "start_time": "2022-05-12T07:01:17.652Z"
   },
   {
    "duration": 41,
    "start_time": "2022-05-12T07:01:17.674Z"
   },
   {
    "duration": 6,
    "start_time": "2022-05-12T07:01:17.717Z"
   },
   {
    "duration": 10,
    "start_time": "2022-05-12T07:01:17.725Z"
   },
   {
    "duration": 9,
    "start_time": "2022-05-12T07:01:17.737Z"
   },
   {
    "duration": 90,
    "start_time": "2022-05-12T07:01:17.748Z"
   },
   {
    "duration": 23,
    "start_time": "2022-05-12T07:01:17.841Z"
   },
   {
    "duration": 58,
    "start_time": "2022-05-12T07:01:17.866Z"
   },
   {
    "duration": 13,
    "start_time": "2022-05-12T07:01:17.926Z"
   },
   {
    "duration": 10,
    "start_time": "2022-05-12T07:01:17.941Z"
   },
   {
    "duration": 41,
    "start_time": "2022-05-12T07:01:17.954Z"
   },
   {
    "duration": 14,
    "start_time": "2022-05-12T07:01:17.997Z"
   },
   {
    "duration": 45,
    "start_time": "2022-05-12T07:01:18.014Z"
   },
   {
    "duration": 35,
    "start_time": "2022-05-12T07:01:18.061Z"
   },
   {
    "duration": 11,
    "start_time": "2022-05-12T07:01:18.098Z"
   },
   {
    "duration": 7,
    "start_time": "2022-05-12T07:01:18.112Z"
   },
   {
    "duration": 7,
    "start_time": "2022-05-12T07:01:18.121Z"
   },
   {
    "duration": 197,
    "start_time": "2022-05-12T07:01:18.133Z"
   },
   {
    "duration": 1,
    "start_time": "2022-05-12T07:01:18.331Z"
   },
   {
    "duration": 0,
    "start_time": "2022-05-12T07:01:18.333Z"
   },
   {
    "duration": 0,
    "start_time": "2022-05-12T07:01:18.335Z"
   },
   {
    "duration": 0,
    "start_time": "2022-05-12T07:01:18.337Z"
   },
   {
    "duration": 0,
    "start_time": "2022-05-12T07:01:18.338Z"
   },
   {
    "duration": 0,
    "start_time": "2022-05-12T07:01:18.340Z"
   },
   {
    "duration": 0,
    "start_time": "2022-05-12T07:01:18.341Z"
   },
   {
    "duration": 0,
    "start_time": "2022-05-12T07:01:18.342Z"
   },
   {
    "duration": 0,
    "start_time": "2022-05-12T07:01:18.343Z"
   },
   {
    "duration": 0,
    "start_time": "2022-05-12T07:01:18.345Z"
   },
   {
    "duration": 0,
    "start_time": "2022-05-12T07:01:18.346Z"
   },
   {
    "duration": 0,
    "start_time": "2022-05-12T07:01:18.348Z"
   },
   {
    "duration": 0,
    "start_time": "2022-05-12T07:01:18.349Z"
   },
   {
    "duration": 0,
    "start_time": "2022-05-12T07:01:18.350Z"
   },
   {
    "duration": 1,
    "start_time": "2022-05-12T07:01:18.351Z"
   },
   {
    "duration": 0,
    "start_time": "2022-05-12T07:01:18.353Z"
   },
   {
    "duration": 0,
    "start_time": "2022-05-12T07:01:18.393Z"
   },
   {
    "duration": 0,
    "start_time": "2022-05-12T07:01:18.397Z"
   },
   {
    "duration": 0,
    "start_time": "2022-05-12T07:01:18.399Z"
   },
   {
    "duration": 0,
    "start_time": "2022-05-12T07:01:18.403Z"
   },
   {
    "duration": 0,
    "start_time": "2022-05-12T07:01:18.405Z"
   },
   {
    "duration": 0,
    "start_time": "2022-05-12T07:01:18.406Z"
   },
   {
    "duration": 0,
    "start_time": "2022-05-12T07:01:18.407Z"
   },
   {
    "duration": 0,
    "start_time": "2022-05-12T07:01:18.408Z"
   },
   {
    "duration": 0,
    "start_time": "2022-05-12T07:01:18.409Z"
   },
   {
    "duration": 0,
    "start_time": "2022-05-12T07:01:18.410Z"
   },
   {
    "duration": 7,
    "start_time": "2022-05-12T07:03:44.715Z"
   },
   {
    "duration": 9,
    "start_time": "2022-05-12T07:05:37.264Z"
   },
   {
    "duration": 6,
    "start_time": "2022-05-12T07:07:00.069Z"
   },
   {
    "duration": 19,
    "start_time": "2022-05-12T07:07:17.583Z"
   },
   {
    "duration": 8,
    "start_time": "2022-05-12T07:07:33.955Z"
   },
   {
    "duration": 3248,
    "start_time": "2022-05-12T07:07:35.594Z"
   },
   {
    "duration": 3647,
    "start_time": "2022-05-12T07:09:56.655Z"
   },
   {
    "duration": 3744,
    "start_time": "2022-05-12T07:11:05.410Z"
   },
   {
    "duration": 884,
    "start_time": "2022-05-12T07:14:11.762Z"
   },
   {
    "duration": 4,
    "start_time": "2022-05-12T07:15:01.353Z"
   },
   {
    "duration": 11,
    "start_time": "2022-05-12T07:15:02.202Z"
   },
   {
    "duration": 2016,
    "start_time": "2022-05-12T07:15:03.007Z"
   },
   {
    "duration": 7,
    "start_time": "2022-05-12T07:15:08.643Z"
   },
   {
    "duration": 31,
    "start_time": "2022-05-12T07:15:10.431Z"
   },
   {
    "duration": 5,
    "start_time": "2022-05-12T07:15:11.313Z"
   },
   {
    "duration": 17,
    "start_time": "2022-05-12T07:15:13.255Z"
   },
   {
    "duration": 6,
    "start_time": "2022-05-12T07:15:14.214Z"
   },
   {
    "duration": 3752,
    "start_time": "2022-05-12T07:18:09.024Z"
   },
   {
    "duration": 3528,
    "start_time": "2022-05-12T07:18:15.670Z"
   },
   {
    "duration": 2118,
    "start_time": "2022-05-12T07:19:35.072Z"
   },
   {
    "duration": 363,
    "start_time": "2022-05-12T07:19:37.195Z"
   },
   {
    "duration": 98,
    "start_time": "2022-05-12T07:19:37.560Z"
   },
   {
    "duration": 468,
    "start_time": "2022-05-12T07:19:37.662Z"
   },
   {
    "duration": 5,
    "start_time": "2022-05-12T07:19:38.132Z"
   },
   {
    "duration": 97,
    "start_time": "2022-05-12T07:19:38.140Z"
   },
   {
    "duration": 76,
    "start_time": "2022-05-12T07:19:38.239Z"
   },
   {
    "duration": 92,
    "start_time": "2022-05-12T07:19:38.317Z"
   },
   {
    "duration": 7,
    "start_time": "2022-05-12T07:19:38.411Z"
   },
   {
    "duration": 7,
    "start_time": "2022-05-12T07:19:38.422Z"
   },
   {
    "duration": 28,
    "start_time": "2022-05-12T07:19:38.431Z"
   },
   {
    "duration": 44,
    "start_time": "2022-05-12T07:19:38.465Z"
   },
   {
    "duration": 7,
    "start_time": "2022-05-12T07:19:38.512Z"
   },
   {
    "duration": 9,
    "start_time": "2022-05-12T07:19:38.522Z"
   },
   {
    "duration": 9,
    "start_time": "2022-05-12T07:19:38.535Z"
   },
   {
    "duration": 91,
    "start_time": "2022-05-12T07:19:38.547Z"
   },
   {
    "duration": 20,
    "start_time": "2022-05-12T07:19:38.640Z"
   },
   {
    "duration": 66,
    "start_time": "2022-05-12T07:19:38.662Z"
   },
   {
    "duration": 14,
    "start_time": "2022-05-12T07:19:38.730Z"
   },
   {
    "duration": 11,
    "start_time": "2022-05-12T07:19:38.747Z"
   },
   {
    "duration": 40,
    "start_time": "2022-05-12T07:19:38.762Z"
   },
   {
    "duration": 11,
    "start_time": "2022-05-12T07:19:38.805Z"
   },
   {
    "duration": 77,
    "start_time": "2022-05-12T07:19:38.819Z"
   },
   {
    "duration": 17,
    "start_time": "2022-05-12T07:19:38.899Z"
   },
   {
    "duration": 9,
    "start_time": "2022-05-12T07:19:38.919Z"
   },
   {
    "duration": 5,
    "start_time": "2022-05-12T07:19:38.930Z"
   },
   {
    "duration": 16,
    "start_time": "2022-05-12T07:19:38.938Z"
   },
   {
    "duration": 7,
    "start_time": "2022-05-12T07:19:38.995Z"
   },
   {
    "duration": 3060,
    "start_time": "2022-05-12T07:19:39.004Z"
   },
   {
    "duration": 3649,
    "start_time": "2022-05-12T07:19:42.066Z"
   },
   {
    "duration": 3465,
    "start_time": "2022-05-12T07:19:45.718Z"
   },
   {
    "duration": 763,
    "start_time": "2022-05-12T07:19:49.185Z"
   },
   {
    "duration": 5,
    "start_time": "2022-05-12T07:19:49.951Z"
   },
   {
    "duration": 19,
    "start_time": "2022-05-12T07:19:49.959Z"
   },
   {
    "duration": 1721,
    "start_time": "2022-05-12T07:19:49.980Z"
   },
   {
    "duration": 6,
    "start_time": "2022-05-12T07:19:51.704Z"
   },
   {
    "duration": 36,
    "start_time": "2022-05-12T07:19:51.713Z"
   },
   {
    "duration": 6,
    "start_time": "2022-05-12T07:19:51.751Z"
   },
   {
    "duration": 50,
    "start_time": "2022-05-12T07:19:51.759Z"
   },
   {
    "duration": 6,
    "start_time": "2022-05-12T07:19:51.811Z"
   },
   {
    "duration": 7,
    "start_time": "2022-05-12T07:19:51.820Z"
   },
   {
    "duration": 16,
    "start_time": "2022-05-12T07:19:51.829Z"
   },
   {
    "duration": 14,
    "start_time": "2022-05-12T07:19:51.848Z"
   },
   {
    "duration": 12,
    "start_time": "2022-05-12T07:19:51.896Z"
   },
   {
    "duration": 36,
    "start_time": "2022-05-12T07:19:51.910Z"
   },
   {
    "duration": 5,
    "start_time": "2022-05-12T07:19:51.949Z"
   },
   {
    "duration": 10,
    "start_time": "2022-05-12T07:19:51.957Z"
   },
   {
    "duration": 40,
    "start_time": "2022-05-12T07:19:51.969Z"
   },
   {
    "duration": 392605,
    "start_time": "2022-05-12T07:19:52.012Z"
   },
   {
    "duration": 1070,
    "start_time": "2022-05-12T07:26:24.619Z"
   },
   {
    "duration": 0,
    "start_time": "2022-05-12T07:26:25.691Z"
   },
   {
    "duration": 0,
    "start_time": "2022-05-12T07:26:25.692Z"
   },
   {
    "duration": 0,
    "start_time": "2022-05-12T07:26:25.693Z"
   },
   {
    "duration": 0,
    "start_time": "2022-05-12T07:26:25.697Z"
   },
   {
    "duration": 0,
    "start_time": "2022-05-12T07:26:25.698Z"
   },
   {
    "duration": 0,
    "start_time": "2022-05-12T07:26:25.699Z"
   },
   {
    "duration": 3284,
    "start_time": "2022-05-12T07:26:50.052Z"
   },
   {
    "duration": 53,
    "start_time": "2022-05-12T07:31:44.820Z"
   },
   {
    "duration": 4,
    "start_time": "2022-05-12T07:33:29.325Z"
   },
   {
    "duration": 74,
    "start_time": "2022-05-12T07:35:42.941Z"
   },
   {
    "duration": 54,
    "start_time": "2022-05-12T07:36:37.163Z"
   },
   {
    "duration": 3039,
    "start_time": "2022-05-12T07:38:17.520Z"
   },
   {
    "duration": 27,
    "start_time": "2022-05-12T07:39:31.137Z"
   },
   {
    "duration": 13,
    "start_time": "2022-05-12T07:40:51.520Z"
   },
   {
    "duration": 22,
    "start_time": "2022-05-12T07:41:14.312Z"
   },
   {
    "duration": 3620,
    "start_time": "2022-05-12T07:43:14.390Z"
   },
   {
    "duration": 34,
    "start_time": "2022-05-12T07:44:00.730Z"
   },
   {
    "duration": 23,
    "start_time": "2022-05-12T07:45:27.871Z"
   },
   {
    "duration": 13,
    "start_time": "2022-05-12T07:46:37.666Z"
   },
   {
    "duration": 3760,
    "start_time": "2022-05-12T07:47:41.226Z"
   },
   {
    "duration": 2201,
    "start_time": "2022-05-12T07:49:14.684Z"
   },
   {
    "duration": 393,
    "start_time": "2022-05-12T07:49:16.888Z"
   },
   {
    "duration": 973,
    "start_time": "2022-05-12T07:49:17.283Z"
   },
   {
    "duration": 1393,
    "start_time": "2022-05-12T07:49:18.259Z"
   },
   {
    "duration": 7,
    "start_time": "2022-05-12T07:49:19.654Z"
   },
   {
    "duration": 82,
    "start_time": "2022-05-12T07:49:19.664Z"
   },
   {
    "duration": 69,
    "start_time": "2022-05-12T07:49:19.748Z"
   },
   {
    "duration": 94,
    "start_time": "2022-05-12T07:49:19.819Z"
   },
   {
    "duration": 5,
    "start_time": "2022-05-12T07:49:19.917Z"
   },
   {
    "duration": 6,
    "start_time": "2022-05-12T07:49:19.926Z"
   },
   {
    "duration": 17,
    "start_time": "2022-05-12T07:49:19.933Z"
   },
   {
    "duration": 55,
    "start_time": "2022-05-12T07:49:19.952Z"
   },
   {
    "duration": 5,
    "start_time": "2022-05-12T07:49:20.009Z"
   },
   {
    "duration": 12,
    "start_time": "2022-05-12T07:49:20.016Z"
   },
   {
    "duration": 6,
    "start_time": "2022-05-12T07:49:20.031Z"
   },
   {
    "duration": 84,
    "start_time": "2022-05-12T07:49:20.039Z"
   },
   {
    "duration": 20,
    "start_time": "2022-05-12T07:49:20.125Z"
   },
   {
    "duration": 58,
    "start_time": "2022-05-12T07:49:20.147Z"
   },
   {
    "duration": 13,
    "start_time": "2022-05-12T07:49:20.207Z"
   },
   {
    "duration": 14,
    "start_time": "2022-05-12T07:49:20.222Z"
   },
   {
    "duration": 21,
    "start_time": "2022-05-12T07:49:20.237Z"
   },
   {
    "duration": 39,
    "start_time": "2022-05-12T07:49:20.260Z"
   },
   {
    "duration": 53,
    "start_time": "2022-05-12T07:49:20.301Z"
   },
   {
    "duration": 10,
    "start_time": "2022-05-12T07:49:20.356Z"
   },
   {
    "duration": 27,
    "start_time": "2022-05-12T07:49:20.368Z"
   },
   {
    "duration": 5,
    "start_time": "2022-05-12T07:49:20.398Z"
   },
   {
    "duration": 15,
    "start_time": "2022-05-12T07:49:20.405Z"
   },
   {
    "duration": 6,
    "start_time": "2022-05-12T07:49:20.425Z"
   },
   {
    "duration": 3264,
    "start_time": "2022-05-12T07:49:20.433Z"
   },
   {
    "duration": 5166,
    "start_time": "2022-05-12T07:49:23.700Z"
   },
   {
    "duration": 3386,
    "start_time": "2022-05-12T07:49:28.869Z"
   },
   {
    "duration": 1097,
    "start_time": "2022-05-12T07:49:32.258Z"
   },
   {
    "duration": 7,
    "start_time": "2022-05-12T07:49:33.358Z"
   },
   {
    "duration": 87,
    "start_time": "2022-05-12T07:49:33.367Z"
   },
   {
    "duration": 61,
    "start_time": "2022-05-12T07:49:33.457Z"
   },
   {
    "duration": 3322,
    "start_time": "2022-05-12T07:49:33.521Z"
   },
   {
    "duration": 28,
    "start_time": "2022-05-12T07:49:36.846Z"
   },
   {
    "duration": 21,
    "start_time": "2022-05-12T07:49:36.894Z"
   },
   {
    "duration": 4186,
    "start_time": "2022-05-12T07:49:36.918Z"
   },
   {
    "duration": 46,
    "start_time": "2022-05-12T07:49:41.107Z"
   },
   {
    "duration": 46,
    "start_time": "2022-05-12T07:49:41.156Z"
   },
   {
    "duration": 16,
    "start_time": "2022-05-12T07:49:41.205Z"
   },
   {
    "duration": 5,
    "start_time": "2022-05-12T07:49:41.224Z"
   },
   {
    "duration": 3683,
    "start_time": "2022-05-12T07:49:41.232Z"
   },
   {
    "duration": 0,
    "start_time": "2022-05-12T07:49:44.918Z"
   },
   {
    "duration": 0,
    "start_time": "2022-05-12T07:49:44.920Z"
   },
   {
    "duration": 0,
    "start_time": "2022-05-12T07:49:44.921Z"
   },
   {
    "duration": 0,
    "start_time": "2022-05-12T07:49:44.923Z"
   },
   {
    "duration": 0,
    "start_time": "2022-05-12T07:49:44.925Z"
   },
   {
    "duration": 0,
    "start_time": "2022-05-12T07:49:44.926Z"
   },
   {
    "duration": 0,
    "start_time": "2022-05-12T07:49:44.928Z"
   },
   {
    "duration": 0,
    "start_time": "2022-05-12T07:49:44.930Z"
   },
   {
    "duration": 0,
    "start_time": "2022-05-12T07:49:44.932Z"
   },
   {
    "duration": 0,
    "start_time": "2022-05-12T07:49:44.934Z"
   },
   {
    "duration": 0,
    "start_time": "2022-05-12T07:49:44.936Z"
   },
   {
    "duration": 0,
    "start_time": "2022-05-12T07:49:44.939Z"
   },
   {
    "duration": 0,
    "start_time": "2022-05-12T07:49:44.940Z"
   },
   {
    "duration": 34,
    "start_time": "2022-05-12T07:52:09.588Z"
   },
   {
    "duration": 46,
    "start_time": "2022-05-12T07:52:44.677Z"
   },
   {
    "duration": 47,
    "start_time": "2022-05-12T07:54:05.127Z"
   },
   {
    "duration": 3617,
    "start_time": "2022-05-12T07:56:48.610Z"
   },
   {
    "duration": 3581,
    "start_time": "2022-05-12T07:57:44.752Z"
   },
   {
    "duration": 21,
    "start_time": "2022-05-12T08:09:58.904Z"
   },
   {
    "duration": 18,
    "start_time": "2022-05-12T08:10:44.996Z"
   },
   {
    "duration": 2943,
    "start_time": "2022-05-12T08:11:35.320Z"
   },
   {
    "duration": 546,
    "start_time": "2022-05-12T08:11:38.267Z"
   },
   {
    "duration": 142,
    "start_time": "2022-05-12T08:11:38.815Z"
   },
   {
    "duration": 702,
    "start_time": "2022-05-12T08:11:38.962Z"
   },
   {
    "duration": 7,
    "start_time": "2022-05-12T08:11:39.667Z"
   },
   {
    "duration": 88,
    "start_time": "2022-05-12T08:11:39.677Z"
   },
   {
    "duration": 81,
    "start_time": "2022-05-12T08:11:39.768Z"
   },
   {
    "duration": 90,
    "start_time": "2022-05-12T08:11:39.851Z"
   },
   {
    "duration": 6,
    "start_time": "2022-05-12T08:11:39.944Z"
   },
   {
    "duration": 39,
    "start_time": "2022-05-12T08:11:39.955Z"
   },
   {
    "duration": 201,
    "start_time": "2022-05-12T08:11:39.997Z"
   },
   {
    "duration": 25,
    "start_time": "2022-05-12T08:11:40.200Z"
   },
   {
    "duration": 6,
    "start_time": "2022-05-12T08:11:40.228Z"
   },
   {
    "duration": 14,
    "start_time": "2022-05-12T08:11:40.237Z"
   },
   {
    "duration": 41,
    "start_time": "2022-05-12T08:11:40.253Z"
   },
   {
    "duration": 65,
    "start_time": "2022-05-12T08:11:40.297Z"
   },
   {
    "duration": 47,
    "start_time": "2022-05-12T08:11:40.365Z"
   },
   {
    "duration": 33,
    "start_time": "2022-05-12T08:11:40.414Z"
   },
   {
    "duration": 46,
    "start_time": "2022-05-12T08:11:40.450Z"
   },
   {
    "duration": 12,
    "start_time": "2022-05-12T08:11:40.498Z"
   },
   {
    "duration": 32,
    "start_time": "2022-05-12T08:11:40.514Z"
   },
   {
    "duration": 17,
    "start_time": "2022-05-12T08:11:40.549Z"
   },
   {
    "duration": 53,
    "start_time": "2022-05-12T08:11:40.593Z"
   },
   {
    "duration": 14,
    "start_time": "2022-05-12T08:11:40.648Z"
   },
   {
    "duration": 16,
    "start_time": "2022-05-12T08:11:40.692Z"
   },
   {
    "duration": 7,
    "start_time": "2022-05-12T08:11:40.712Z"
   },
   {
    "duration": 7,
    "start_time": "2022-05-12T08:11:40.723Z"
   },
   {
    "duration": 9,
    "start_time": "2022-05-12T08:11:40.738Z"
   },
   {
    "duration": 3416,
    "start_time": "2022-05-12T08:11:40.750Z"
   },
   {
    "duration": 4574,
    "start_time": "2022-05-12T08:11:44.168Z"
   },
   {
    "duration": 3365,
    "start_time": "2022-05-12T08:11:48.746Z"
   },
   {
    "duration": 823,
    "start_time": "2022-05-12T08:11:52.114Z"
   },
   {
    "duration": 6,
    "start_time": "2022-05-12T08:11:52.940Z"
   },
   {
    "duration": 98,
    "start_time": "2022-05-12T08:11:52.949Z"
   },
   {
    "duration": 60,
    "start_time": "2022-05-12T08:11:53.050Z"
   },
   {
    "duration": 3371,
    "start_time": "2022-05-12T08:11:53.113Z"
   },
   {
    "duration": 34,
    "start_time": "2022-05-12T08:11:56.493Z"
   },
   {
    "duration": 29,
    "start_time": "2022-05-12T08:11:56.532Z"
   },
   {
    "duration": 3167,
    "start_time": "2022-05-12T08:11:56.564Z"
   },
   {
    "duration": 34,
    "start_time": "2022-05-12T08:11:59.735Z"
   },
   {
    "duration": 27,
    "start_time": "2022-05-12T08:11:59.793Z"
   },
   {
    "duration": 15,
    "start_time": "2022-05-12T08:11:59.823Z"
   },
   {
    "duration": 8,
    "start_time": "2022-05-12T08:11:59.841Z"
   },
   {
    "duration": 6791,
    "start_time": "2022-05-12T08:11:59.852Z"
   },
   {
    "duration": 0,
    "start_time": "2022-05-12T08:12:06.646Z"
   },
   {
    "duration": 0,
    "start_time": "2022-05-12T08:12:06.648Z"
   },
   {
    "duration": 0,
    "start_time": "2022-05-12T08:12:06.650Z"
   },
   {
    "duration": 0,
    "start_time": "2022-05-12T08:12:06.651Z"
   },
   {
    "duration": 0,
    "start_time": "2022-05-12T08:12:06.652Z"
   },
   {
    "duration": 0,
    "start_time": "2022-05-12T08:12:06.654Z"
   },
   {
    "duration": 0,
    "start_time": "2022-05-12T08:12:06.655Z"
   },
   {
    "duration": 0,
    "start_time": "2022-05-12T08:12:06.656Z"
   },
   {
    "duration": 0,
    "start_time": "2022-05-12T08:12:06.658Z"
   },
   {
    "duration": 0,
    "start_time": "2022-05-12T08:12:06.661Z"
   },
   {
    "duration": 0,
    "start_time": "2022-05-12T08:12:06.662Z"
   },
   {
    "duration": 0,
    "start_time": "2022-05-12T08:12:06.664Z"
   },
   {
    "duration": 0,
    "start_time": "2022-05-12T08:12:06.666Z"
   },
   {
    "duration": 94,
    "start_time": "2022-05-12T08:13:31.899Z"
   },
   {
    "duration": 654,
    "start_time": "2022-05-12T08:14:12.950Z"
   },
   {
    "duration": 152,
    "start_time": "2022-05-12T08:14:14.422Z"
   },
   {
    "duration": 810,
    "start_time": "2022-05-12T08:14:15.353Z"
   },
   {
    "duration": 8,
    "start_time": "2022-05-12T08:14:16.476Z"
   },
   {
    "duration": 106,
    "start_time": "2022-05-12T08:14:19.229Z"
   },
   {
    "duration": 91,
    "start_time": "2022-05-12T08:14:32.435Z"
   },
   {
    "duration": 91,
    "start_time": "2022-05-12T08:14:50.264Z"
   },
   {
    "duration": 491,
    "start_time": "2022-05-12T08:14:51.107Z"
   },
   {
    "duration": 67,
    "start_time": "2022-05-12T08:15:18.073Z"
   },
   {
    "duration": 61,
    "start_time": "2022-05-12T08:15:32.125Z"
   },
   {
    "duration": 250,
    "start_time": "2022-05-12T08:17:08.563Z"
   },
   {
    "duration": 88,
    "start_time": "2022-05-12T08:17:12.547Z"
   },
   {
    "duration": 35,
    "start_time": "2022-05-12T08:17:24.347Z"
   },
   {
    "duration": 103,
    "start_time": "2022-05-12T08:17:27.614Z"
   },
   {
    "duration": 5393,
    "start_time": "2022-05-12T08:17:41.122Z"
   },
   {
    "duration": 5,
    "start_time": "2022-05-12T08:18:05.828Z"
   },
   {
    "duration": 60,
    "start_time": "2022-05-12T08:18:06.774Z"
   },
   {
    "duration": 56,
    "start_time": "2022-05-12T08:18:07.883Z"
   },
   {
    "duration": 3512,
    "start_time": "2022-05-12T08:18:14.974Z"
   },
   {
    "duration": 33,
    "start_time": "2022-05-12T08:18:27.753Z"
   },
   {
    "duration": 20,
    "start_time": "2022-05-12T08:18:31.727Z"
   },
   {
    "duration": 2788,
    "start_time": "2022-05-12T08:18:34.282Z"
   },
   {
    "duration": 43,
    "start_time": "2022-05-12T08:18:44.182Z"
   },
   {
    "duration": 38,
    "start_time": "2022-05-12T08:18:47.526Z"
   },
   {
    "duration": 19,
    "start_time": "2022-05-12T08:18:49.864Z"
   },
   {
    "duration": 11,
    "start_time": "2022-05-12T08:18:54.458Z"
   },
   {
    "duration": 4177,
    "start_time": "2022-05-12T08:18:58.774Z"
   },
   {
    "duration": 24,
    "start_time": "2022-05-12T08:19:32.091Z"
   },
   {
    "duration": 30,
    "start_time": "2022-05-12T08:19:50.103Z"
   },
   {
    "duration": 20,
    "start_time": "2022-05-12T08:25:53.827Z"
   },
   {
    "duration": 46,
    "start_time": "2022-05-12T08:25:59.413Z"
   },
   {
    "duration": 18,
    "start_time": "2022-05-12T08:26:05.535Z"
   },
   {
    "duration": 32,
    "start_time": "2022-05-12T08:26:06.802Z"
   },
   {
    "duration": 16,
    "start_time": "2022-05-12T08:26:07.279Z"
   },
   {
    "duration": 9,
    "start_time": "2022-05-12T08:26:08.851Z"
   },
   {
    "duration": 11,
    "start_time": "2022-05-12T08:26:09.393Z"
   },
   {
    "duration": 9,
    "start_time": "2022-05-12T08:26:09.931Z"
   },
   {
    "duration": 50,
    "start_time": "2022-05-12T08:26:11.324Z"
   },
   {
    "duration": 13,
    "start_time": "2022-05-12T08:26:12.249Z"
   },
   {
    "duration": 10,
    "start_time": "2022-05-12T08:26:12.952Z"
   },
   {
    "duration": 6,
    "start_time": "2022-05-12T08:26:13.840Z"
   },
   {
    "duration": 5,
    "start_time": "2022-05-12T08:26:17.347Z"
   },
   {
    "duration": 6,
    "start_time": "2022-05-12T08:26:18.157Z"
   },
   {
    "duration": 3397,
    "start_time": "2022-05-12T08:26:20.179Z"
   },
   {
    "duration": 4322,
    "start_time": "2022-05-12T08:26:23.578Z"
   },
   {
    "duration": 3528,
    "start_time": "2022-05-12T08:26:27.903Z"
   },
   {
    "duration": 792,
    "start_time": "2022-05-12T08:26:31.433Z"
   },
   {
    "duration": 3,
    "start_time": "2022-05-12T08:26:35.432Z"
   },
   {
    "duration": 18,
    "start_time": "2022-05-12T08:26:36.187Z"
   },
   {
    "duration": 31,
    "start_time": "2022-05-12T08:26:37.886Z"
   },
   {
    "duration": 3232,
    "start_time": "2022-05-12T08:26:39.039Z"
   },
   {
    "duration": 25,
    "start_time": "2022-05-12T08:26:44.564Z"
   },
   {
    "duration": 17,
    "start_time": "2022-05-12T08:26:45.357Z"
   },
   {
    "duration": 2908,
    "start_time": "2022-05-12T08:26:46.253Z"
   },
   {
    "duration": 47,
    "start_time": "2022-05-12T08:26:49.164Z"
   },
   {
    "duration": 20,
    "start_time": "2022-05-12T08:26:52.403Z"
   },
   {
    "duration": 13,
    "start_time": "2022-05-12T08:26:54.704Z"
   },
   {
    "duration": 4,
    "start_time": "2022-05-12T08:26:58.771Z"
   },
   {
    "duration": 19,
    "start_time": "2022-05-12T08:27:01.889Z"
   },
   {
    "duration": 9,
    "start_time": "2022-05-12T08:27:20.538Z"
   },
   {
    "duration": 5,
    "start_time": "2022-05-12T08:28:52.851Z"
   },
   {
    "duration": 14,
    "start_time": "2022-05-12T08:29:36.106Z"
   },
   {
    "duration": 7,
    "start_time": "2022-05-12T08:30:20.925Z"
   },
   {
    "duration": 36,
    "start_time": "2022-05-12T08:30:58.551Z"
   },
   {
    "duration": 31,
    "start_time": "2022-05-12T08:31:26.897Z"
   },
   {
    "duration": 4,
    "start_time": "2022-05-12T08:31:52.991Z"
   },
   {
    "duration": 4,
    "start_time": "2022-05-12T08:32:14.829Z"
   },
   {
    "duration": 14,
    "start_time": "2022-05-12T08:32:36.423Z"
   },
   {
    "duration": 5,
    "start_time": "2022-05-12T08:33:19.299Z"
   },
   {
    "duration": 5,
    "start_time": "2022-05-12T08:33:22.109Z"
   },
   {
    "duration": 14,
    "start_time": "2022-05-12T08:34:15.275Z"
   },
   {
    "duration": 12,
    "start_time": "2022-05-12T08:34:23.631Z"
   },
   {
    "duration": 20,
    "start_time": "2022-05-12T08:34:53.404Z"
   },
   {
    "duration": 18,
    "start_time": "2022-05-12T08:35:39.711Z"
   },
   {
    "duration": 348755,
    "start_time": "2022-05-12T08:35:58.597Z"
   },
   {
    "duration": 0,
    "start_time": "2022-05-12T08:41:47.356Z"
   },
   {
    "duration": 9,
    "start_time": "2022-05-12T08:42:00.468Z"
   },
   {
    "duration": 15,
    "start_time": "2022-05-12T08:43:49.516Z"
   },
   {
    "duration": 6,
    "start_time": "2022-05-12T08:44:01.479Z"
   },
   {
    "duration": 19,
    "start_time": "2022-05-12T08:44:07.010Z"
   },
   {
    "duration": 728897,
    "start_time": "2022-05-12T08:44:53.200Z"
   },
   {
    "duration": 231,
    "start_time": "2022-05-12T08:58:24.747Z"
   },
   {
    "duration": 5847,
    "start_time": "2022-05-12T08:58:52.665Z"
   },
   {
    "duration": 254941,
    "start_time": "2022-05-12T09:01:36.576Z"
   },
   {
    "duration": 25,
    "start_time": "2022-05-12T09:08:34.827Z"
   },
   {
    "duration": 16,
    "start_time": "2022-05-12T09:08:37.144Z"
   },
   {
    "duration": 6635,
    "start_time": "2022-05-12T09:09:14.667Z"
   },
   {
    "duration": 18,
    "start_time": "2022-05-12T09:10:14.870Z"
   },
   {
    "duration": 9,
    "start_time": "2022-05-12T09:10:31.125Z"
   },
   {
    "duration": 6,
    "start_time": "2022-05-12T09:11:01.869Z"
   },
   {
    "duration": 10,
    "start_time": "2022-05-12T09:11:35.777Z"
   },
   {
    "duration": 2732,
    "start_time": "2022-05-12T09:20:58.670Z"
   },
   {
    "duration": 547,
    "start_time": "2022-05-12T09:21:01.406Z"
   },
   {
    "duration": 149,
    "start_time": "2022-05-12T09:21:01.956Z"
   },
   {
    "duration": 731,
    "start_time": "2022-05-12T09:21:02.109Z"
   },
   {
    "duration": 6,
    "start_time": "2022-05-12T09:21:02.843Z"
   },
   {
    "duration": 92,
    "start_time": "2022-05-12T09:21:02.852Z"
   },
   {
    "duration": 95,
    "start_time": "2022-05-12T09:21:02.947Z"
   },
   {
    "duration": 129,
    "start_time": "2022-05-12T09:21:03.045Z"
   },
   {
    "duration": 7,
    "start_time": "2022-05-12T09:21:03.193Z"
   },
   {
    "duration": 12,
    "start_time": "2022-05-12T09:21:03.205Z"
   },
   {
    "duration": 28,
    "start_time": "2022-05-12T09:21:03.220Z"
   },
   {
    "duration": 58,
    "start_time": "2022-05-12T09:21:03.252Z"
   },
   {
    "duration": 6,
    "start_time": "2022-05-12T09:21:03.314Z"
   },
   {
    "duration": 15,
    "start_time": "2022-05-12T09:21:03.323Z"
   },
   {
    "duration": 12,
    "start_time": "2022-05-12T09:21:03.340Z"
   },
   {
    "duration": 51,
    "start_time": "2022-05-12T09:21:03.356Z"
   },
   {
    "duration": 50,
    "start_time": "2022-05-12T09:21:03.410Z"
   },
   {
    "duration": 32,
    "start_time": "2022-05-12T09:21:03.494Z"
   },
   {
    "duration": 66,
    "start_time": "2022-05-12T09:21:03.529Z"
   },
   {
    "duration": 16,
    "start_time": "2022-05-12T09:21:03.598Z"
   },
   {
    "duration": 10,
    "start_time": "2022-05-12T09:21:03.618Z"
   },
   {
    "duration": 14,
    "start_time": "2022-05-12T09:21:03.630Z"
   },
   {
    "duration": 56,
    "start_time": "2022-05-12T09:21:03.647Z"
   },
   {
    "duration": 79,
    "start_time": "2022-05-12T09:21:03.705Z"
   },
   {
    "duration": 10,
    "start_time": "2022-05-12T09:21:03.786Z"
   },
   {
    "duration": 10,
    "start_time": "2022-05-12T09:21:03.798Z"
   },
   {
    "duration": 8,
    "start_time": "2022-05-12T09:21:03.810Z"
   },
   {
    "duration": 9,
    "start_time": "2022-05-12T09:21:03.823Z"
   },
   {
    "duration": 7,
    "start_time": "2022-05-12T09:21:03.834Z"
   },
   {
    "duration": 3277,
    "start_time": "2022-05-12T09:21:03.894Z"
   },
   {
    "duration": 4122,
    "start_time": "2022-05-12T09:21:07.173Z"
   },
   {
    "duration": 3648,
    "start_time": "2022-05-12T09:21:11.298Z"
   },
   {
    "duration": 696,
    "start_time": "2022-05-12T09:21:14.949Z"
   },
   {
    "duration": 4,
    "start_time": "2022-05-12T09:21:15.647Z"
   },
   {
    "duration": 89,
    "start_time": "2022-05-12T09:21:15.653Z"
   },
   {
    "duration": 58,
    "start_time": "2022-05-12T09:21:15.745Z"
   },
   {
    "duration": 3812,
    "start_time": "2022-05-12T09:21:15.806Z"
   },
   {
    "duration": 31,
    "start_time": "2022-05-12T09:21:19.622Z"
   },
   {
    "duration": 45,
    "start_time": "2022-05-12T09:21:19.656Z"
   },
   {
    "duration": 3076,
    "start_time": "2022-05-12T09:21:19.703Z"
   },
   {
    "duration": 42,
    "start_time": "2022-05-12T09:21:22.781Z"
   },
   {
    "duration": 24,
    "start_time": "2022-05-12T09:21:22.825Z"
   },
   {
    "duration": 46,
    "start_time": "2022-05-12T09:21:22.852Z"
   },
   {
    "duration": 5,
    "start_time": "2022-05-12T09:21:22.901Z"
   },
   {
    "duration": 15,
    "start_time": "2022-05-12T09:21:22.908Z"
   },
   {
    "duration": 13,
    "start_time": "2022-05-12T09:21:22.927Z"
   },
   {
    "duration": 97,
    "start_time": "2022-05-12T09:21:22.944Z"
   },
   {
    "duration": 73,
    "start_time": "2022-05-12T09:21:23.045Z"
   },
   {
    "duration": 5,
    "start_time": "2022-05-12T09:21:23.121Z"
   },
   {
    "duration": 12,
    "start_time": "2022-05-12T09:21:23.129Z"
   },
   {
    "duration": 9,
    "start_time": "2022-05-12T09:21:23.144Z"
   },
   {
    "duration": 8,
    "start_time": "2022-05-12T09:21:23.157Z"
   },
   {
    "duration": 2537,
    "start_time": "2022-05-12T09:35:53.529Z"
   },
   {
    "duration": 394,
    "start_time": "2022-05-12T09:35:56.068Z"
   },
   {
    "duration": 105,
    "start_time": "2022-05-12T09:35:56.464Z"
   },
   {
    "duration": 522,
    "start_time": "2022-05-12T09:35:56.572Z"
   },
   {
    "duration": 6,
    "start_time": "2022-05-12T09:35:57.097Z"
   },
   {
    "duration": 98,
    "start_time": "2022-05-12T09:35:57.106Z"
   },
   {
    "duration": 60,
    "start_time": "2022-05-12T09:35:57.206Z"
   },
   {
    "duration": 95,
    "start_time": "2022-05-12T09:35:57.302Z"
   },
   {
    "duration": 12,
    "start_time": "2022-05-12T09:35:57.405Z"
   },
   {
    "duration": 7,
    "start_time": "2022-05-12T09:35:57.421Z"
   },
   {
    "duration": 28,
    "start_time": "2022-05-12T09:35:57.431Z"
   },
   {
    "duration": 53,
    "start_time": "2022-05-12T09:35:57.462Z"
   },
   {
    "duration": 6,
    "start_time": "2022-05-12T09:35:57.520Z"
   },
   {
    "duration": 13,
    "start_time": "2022-05-12T09:35:57.529Z"
   },
   {
    "duration": 10,
    "start_time": "2022-05-12T09:35:57.544Z"
   },
   {
    "duration": 52,
    "start_time": "2022-05-12T09:35:57.557Z"
   },
   {
    "duration": 64,
    "start_time": "2022-05-12T09:35:57.611Z"
   },
   {
    "duration": 38,
    "start_time": "2022-05-12T09:35:57.677Z"
   },
   {
    "duration": 42,
    "start_time": "2022-05-12T09:35:57.717Z"
   },
   {
    "duration": 14,
    "start_time": "2022-05-12T09:35:57.761Z"
   },
   {
    "duration": 33,
    "start_time": "2022-05-12T09:35:57.777Z"
   },
   {
    "duration": 20,
    "start_time": "2022-05-12T09:35:57.813Z"
   },
   {
    "duration": 14,
    "start_time": "2022-05-12T09:35:57.836Z"
   },
   {
    "duration": 77,
    "start_time": "2022-05-12T09:35:57.853Z"
   },
   {
    "duration": 12,
    "start_time": "2022-05-12T09:35:57.933Z"
   },
   {
    "duration": 10,
    "start_time": "2022-05-12T09:35:57.947Z"
   },
   {
    "duration": 37,
    "start_time": "2022-05-12T09:35:57.960Z"
   },
   {
    "duration": 11,
    "start_time": "2022-05-12T09:35:58.008Z"
   },
   {
    "duration": 9,
    "start_time": "2022-05-12T09:35:58.022Z"
   },
   {
    "duration": 3864,
    "start_time": "2022-05-12T09:35:58.033Z"
   },
   {
    "duration": 4036,
    "start_time": "2022-05-12T09:36:01.900Z"
   },
   {
    "duration": 3611,
    "start_time": "2022-05-12T09:36:05.939Z"
   },
   {
    "duration": 906,
    "start_time": "2022-05-12T09:36:09.554Z"
   },
   {
    "duration": 5,
    "start_time": "2022-05-12T09:36:10.463Z"
   },
   {
    "duration": 95,
    "start_time": "2022-05-12T09:36:10.471Z"
   },
   {
    "duration": 68,
    "start_time": "2022-05-12T09:36:10.569Z"
   },
   {
    "duration": 3392,
    "start_time": "2022-05-12T09:36:10.640Z"
   },
   {
    "duration": 31,
    "start_time": "2022-05-12T09:36:14.035Z"
   },
   {
    "duration": 46,
    "start_time": "2022-05-12T09:36:14.068Z"
   },
   {
    "duration": 2709,
    "start_time": "2022-05-12T09:36:14.117Z"
   },
   {
    "duration": 34,
    "start_time": "2022-05-12T09:36:16.830Z"
   },
   {
    "duration": 46,
    "start_time": "2022-05-12T09:36:16.866Z"
   },
   {
    "duration": 18,
    "start_time": "2022-05-12T09:36:16.915Z"
   },
   {
    "duration": 4,
    "start_time": "2022-05-12T09:36:16.935Z"
   },
   {
    "duration": 51,
    "start_time": "2022-05-12T09:36:16.942Z"
   },
   {
    "duration": 6,
    "start_time": "2022-05-12T09:36:17.003Z"
   },
   {
    "duration": 41,
    "start_time": "2022-05-12T09:36:17.011Z"
   },
   {
    "duration": 56,
    "start_time": "2022-05-12T09:36:17.054Z"
   },
   {
    "duration": 5,
    "start_time": "2022-05-12T09:36:17.117Z"
   },
   {
    "duration": 8,
    "start_time": "2022-05-12T09:36:17.125Z"
   },
   {
    "duration": 7,
    "start_time": "2022-05-12T09:36:17.135Z"
   },
   {
    "duration": 7,
    "start_time": "2022-05-12T09:36:17.144Z"
   },
   {
    "duration": 857557,
    "start_time": "2022-05-12T09:36:17.153Z"
   },
   {
    "duration": 211709,
    "start_time": "2022-05-12T09:50:34.717Z"
   },
   {
    "duration": 7218,
    "start_time": "2022-05-12T09:54:06.429Z"
   },
   {
    "duration": 9,
    "start_time": "2022-05-12T09:54:13.650Z"
   },
   {
    "duration": 31,
    "start_time": "2022-05-12T09:54:13.662Z"
   },
   {
    "duration": 12,
    "start_time": "2022-05-12T09:54:13.696Z"
   }
  ],
  "kernelspec": {
   "display_name": "Python 3",
   "language": "python",
   "name": "python3"
  },
  "language_info": {
   "codemirror_mode": {
    "name": "ipython",
    "version": 3
   },
   "file_extension": ".py",
   "mimetype": "text/x-python",
   "name": "python",
   "nbconvert_exporter": "python",
   "pygments_lexer": "ipython3",
   "version": "3.8.5"
  },
  "toc": {
   "base_numbering": 1,
   "nav_menu": {},
   "number_sections": true,
   "sideBar": true,
   "skip_h1_title": true,
   "title_cell": "Table of Contents",
   "title_sidebar": "Contents",
   "toc_cell": false,
   "toc_position": {},
   "toc_section_display": true,
   "toc_window_display": false
  }
 },
 "nbformat": 4,
 "nbformat_minor": 2
}
